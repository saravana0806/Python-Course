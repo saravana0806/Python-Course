{
 "cells": [
  {
   "cell_type": "markdown",
   "id": "0df39a3f-ba53-4b76-9682-58546a49e2c0",
   "metadata": {},
   "source": [
    "### Exploratory Data Analysis"
   ]
  },
  {
   "cell_type": "code",
   "execution_count": null,
   "id": "d502429e-d1a3-4275-9db3-36fd9aa700a0",
   "metadata": {},
   "outputs": [],
   "source": [
    "'''\n",
    "Reading dataset\n",
    "Analyzing the data\n",
    "Checking for the duplicates\n",
    "Missing Values Calculation\n",
    "Exploratory Data Analysis\n",
    "    Univariate Analysis\n",
    "    Bivariate Analysis\n",
    "    Multivariate Analysis\n",
    "'''"
   ]
  },
  {
   "cell_type": "code",
   "execution_count": null,
   "id": "81201fdb-8352-40a5-8664-f109e0131aac",
   "metadata": {},
   "outputs": [],
   "source": [
    "# Loading Data \n",
    "\n",
    "# Understanding the Structure\n",
    "#  df.head(), df.tail(), df.info(), df.dtypes, df.shape\n",
    "\n",
    "# Summary Statistics\n",
    "# df.describe(), df.isnull().sum(), df.nunique()\n",
    "\n",
    "# Data Cleaning\n",
    "# df.dropna(), df.fillna(), df.apply(), df.replace()\n",
    "\n",
    "# Data Distribution\n",
    "# df.hist(), df.boxplot(),df.plot.kde()\n",
    "\n",
    "# Data Visualization\n",
    "# plt.plot(), plt.scatter() , sns.pairplot(), sns.heatmap()\n",
    "\n",
    "# Correlation Analysis\n",
    "# df.corr(), sns.heatmap(df.corr())\n",
    "\n",
    "# Categorical Data Analysis\n",
    "# df['column'].value_counts(), sns.barplot()\n",
    "\n",
    "# Data Aggregation\n",
    "# df.groupby(), df.pivot_table()\n",
    "\n",
    "# Advanced Statistical Analysis\n",
    "# scipy.stats, statsmodels\n",
    "\n",
    "# Exploring Relationships\n",
    "# pd.crosstab()\n",
    "# Chi-square Tests: For categorical variables"
   ]
  },
  {
   "cell_type": "code",
   "execution_count": null,
   "id": "622495f3-f50f-4cb7-ba5a-4a23ec898c68",
   "metadata": {},
   "outputs": [],
   "source": []
  },
  {
   "cell_type": "code",
   "execution_count": null,
   "id": "9155865b-ee39-46e5-b490-84deadaad15b",
   "metadata": {},
   "outputs": [],
   "source": []
  },
  {
   "cell_type": "code",
   "execution_count": null,
   "id": "4269dabe-7610-4dcb-ba9e-7a752f56114e",
   "metadata": {},
   "outputs": [],
   "source": [
    "import os\n",
    "os.chdir(r'C:\\Users\\srvna\\Downloads\\archive')\n",
    "import pandas as pd\n",
    "import matplotlib.pyplot as plt"
   ]
  },
  {
   "cell_type": "markdown",
   "id": "0d86cf14-a4dc-4728-adf4-638ff667e25d",
   "metadata": {},
   "source": [
    "# Loading the dataset"
   ]
  },
  {
   "cell_type": "code",
   "execution_count": null,
   "id": "40755e4a-c7fd-405d-ba04-25af410b0e43",
   "metadata": {},
   "outputs": [],
   "source": [
    "credits_data = {\n",
    "    'id': [1, 2, 3, 4, 5, 6],\n",
    "    'cast': [\n",
    "        'Robert Downey Jr.|Chris Evans|Mark Ruffalo|Scarlett Johansson',\n",
    "        'Leonardo DiCaprio|Kate Winslet|Billy Zane',\n",
    "        'Tom Hanks|Robin Wright|Gary Sinise|Mykelti Williamson',\n",
    "        'Will Smith|Margot Robbie|Jared Leto|Viola Davis',\n",
    "        'Harrison Ford|Carrie Fisher|Mark Hamill|Peter Mayhew',\n",
    "        'Keanu Reeves|Laurence Fishburne|Carrie-Anne Moss|Hugo Weaving'\n",
    "    ],\n",
    "    'crew': [\n",
    "        'Jon Favreau|Kevin Feige|Robert Downey Jr.',\n",
    "        'James Cameron|Jon Landau|Leonardo DiCaprio',\n",
    "        'Robert Zemeckis|Steve Starkey|Tom Hanks',\n",
    "        'David Ayer|Zack Snyder|Will Smith',\n",
    "        'George Lucas|Irvin Kershner|Harrison Ford',\n",
    "        'Lana Wachowski|Lilly Wachowski|Keanu Reeves'\n",
    "    ]\n",
    "}"
   ]
  },
  {
   "cell_type": "code",
   "execution_count": null,
   "id": "db03c743-686a-4992-8037-3f85e9e0e17e",
   "metadata": {},
   "outputs": [],
   "source": [
    "keywords_data = {\n",
    "    'id': [1, 2, 3, 4, 5, 6, 7, 8, 9],\n",
    "    'keywords': [\n",
    "        'superhero|action|adventure',\n",
    "        'romance|drama|epic',\n",
    "        'drama|war|historical',\n",
    "        'comedy|family|animation',\n",
    "        'thriller|mystery|crime',\n",
    "        'sci-fi|fantasy|adventure',\n",
    "        'documentary|biography|history',\n",
    "        'musical|romance|drama',\n",
    "        'horror|suspense|mystery'\n",
    "    ]\n",
    "}"
   ]
  },
  {
   "cell_type": "code",
   "execution_count": null,
   "id": "32e4fe6a-816a-448d-a4bb-76b53a1accb1",
   "metadata": {},
   "outputs": [],
   "source": [
    "links_data = {\n",
    "    'movieId': [1, 2, 3, 4, 5],\n",
    "    'imdbId': ['tt0371746', 'tt0120338', 'tt0120815', 'tt0110912', 'tt0133093'],\n",
    "    'tmdbId': [2734, 597, 78, 619, 550]\n",
    "}\n"
   ]
  },
  {
   "cell_type": "code",
   "execution_count": null,
   "id": "69efad81-3805-4e75-a937-cc3543703750",
   "metadata": {},
   "outputs": [],
   "source": [
    "movies_metadata_data = {\n",
    "    'id': [1, 2, 3, 4, 5],\n",
    "    'title': ['Iron Man', 'Avatar', 'Forrest Gump', 'The Dark Knight', 'Inception'],\n",
    "    'original_title': ['Iron Man', 'Avatar', 'Forrest Gump', 'The Dark Knight', 'Inception'],\n",
    "    'release_date': ['2008-05-02', '2009-12-18', '1994-07-06', '2008-07-18', '2010-07-16'],\n",
    "    'popularity': [100.0, 150.0, 90.0, 200.0, 180.0],\n",
    "    'vote_average': [7.9, 8.0, 8.8, 8.4, 8.8],\n",
    "    'vote_count': [12000, 13000, 14000, 16000, 15000]\n",
    "}"
   ]
  },
  {
   "cell_type": "code",
   "execution_count": null,
   "id": "f05e5cab-3254-4c7f-908f-d56fab537dc2",
   "metadata": {},
   "outputs": [],
   "source": [
    "ratings_data = {\n",
    "    'userId': [1, 2, 3, 4, 5],\n",
    "    'movieId': [1, 2, 3, 4, 5],\n",
    "    'rating': [5, 4, 3, 5, 2],\n",
    "    'timestamp': [1625248382, 1625248482, 1625248582, 1625248682, 1625248782]\n",
    "}"
   ]
  },
  {
   "cell_type": "code",
   "execution_count": null,
   "id": "a2dc1f46-ce64-40be-985f-3356433bb6c2",
   "metadata": {},
   "outputs": [],
   "source": [
    "ratings_small_data = {\n",
    "    'userId': [1, 2, 3, 4, 5, 1, 2, 4],\n",
    "    'movieId': [1, 2, 1, 3, 2, 4, 5, 3],\n",
    "    'rating': [4, 5, 3, 2, 4, 5, 3, 4],\n",
    "    'timestamp': [1625248382, 1625248482, 1625248582, 1625248682, 1625248782, 1625248882, 1625248982, 1625249082]\n",
    "}\n"
   ]
  },
  {
   "cell_type": "code",
   "execution_count": null,
   "id": "9f4f07a6-9966-473e-8476-da4efa642489",
   "metadata": {},
   "outputs": [],
   "source": [
    "df_genres = {\n",
    "    'id': [1, 2, 3, 4, 5],\n",
    "    'genres': [['Action', 'Adventure'], ['Drama'], ['Action', 'Thriller'], ['Comedy', 'Romance'], ['Sci-Fi', 'Fantasy']]\n",
    "}\n"
   ]
  },
  {
   "cell_type": "code",
   "execution_count": null,
   "id": "619012f1-2781-4e08-b3d3-96c55d280ea7",
   "metadata": {},
   "outputs": [],
   "source": [
    "for name, data in zip(\n",
    "    ['credits', 'keywords', 'links', 'movies_metadata', 'ratings', 'ratings_small','df_genres'],\n",
    "    [credits_data, keywords_data, links_data, movies_metadata_data, ratings_data, ratings_small_data,df_genres]\n",
    "):\n",
    "    df = pd.DataFrame(data)\n",
    "    df.to_csv(f'{name}.csv', index=False)\n"
   ]
  },
  {
   "cell_type": "code",
   "execution_count": null,
   "id": "c19937ff-b0bd-4d90-b6e4-9bac22b2ac22",
   "metadata": {},
   "outputs": [],
   "source": [
    "credits = pd.read_csv('credits.csv')\n",
    "keywords = pd.read_csv('keywords.csv')\n",
    "links = pd.read_csv('links.csv')\n",
    "movies_metadata = pd.read_csv('movies_metadata.csv', low_memory=False)\n",
    "ratings = pd.read_csv('ratings.csv')\n",
    "ratings_small = pd.read_csv('ratings_small.csv')\n",
    "df_genres = pd.read_csv('df_genres.csv')"
   ]
  },
  {
   "cell_type": "code",
   "execution_count": null,
   "id": "81fe8a4c-6566-451e-bfa1-d6fb9a0d70ec",
   "metadata": {},
   "outputs": [],
   "source": [
    "credits.head()"
   ]
  },
  {
   "cell_type": "code",
   "execution_count": null,
   "id": "153d0406-294f-4987-8e23-ff9a78fe49a2",
   "metadata": {},
   "outputs": [],
   "source": [
    "keywords.head()"
   ]
  },
  {
   "cell_type": "code",
   "execution_count": null,
   "id": "773aa532-2e6e-4285-9b1e-2ebe88af5458",
   "metadata": {},
   "outputs": [],
   "source": [
    "links.head()"
   ]
  },
  {
   "cell_type": "code",
   "execution_count": null,
   "id": "76263e5a-bd01-4c20-9fc7-59cbe2343b54",
   "metadata": {},
   "outputs": [],
   "source": [
    "ratings.head()"
   ]
  },
  {
   "cell_type": "code",
   "execution_count": null,
   "id": "7c483053-41d5-4677-a0ee-79a88a259224",
   "metadata": {},
   "outputs": [],
   "source": [
    "movies_metadata.head(2)"
   ]
  },
  {
   "cell_type": "code",
   "execution_count": null,
   "id": "f48fc677-3e51-4cac-aa1b-202364172507",
   "metadata": {},
   "outputs": [],
   "source": [
    "df_genres.head()"
   ]
  },
  {
   "cell_type": "code",
   "execution_count": null,
   "id": "27fc2ca0-5442-4ec8-a859-a61a34227b50",
   "metadata": {},
   "outputs": [],
   "source": []
  },
  {
   "cell_type": "code",
   "execution_count": null,
   "id": "95fa789d-de72-40e2-b63f-eec54c918cdb",
   "metadata": {},
   "outputs": [],
   "source": [
    "# Credits Data\n",
    "#Analysis:\n",
    "\n",
    "# Cast and Crew Analysis: Determine the most common actors and crew members in successful movies.\n",
    "# Movie Popularity: Analyze how having certain actors or directors affects movie popularity or ratings."
   ]
  },
  {
   "cell_type": "code",
   "execution_count": null,
   "id": "01ae21ac-6ec8-4825-b20c-55d84265e5bb",
   "metadata": {},
   "outputs": [],
   "source": []
  },
  {
   "cell_type": "code",
   "execution_count": null,
   "id": "c81b64f6-2166-49d2-a310-d2ba5c343580",
   "metadata": {
    "scrolled": true
   },
   "outputs": [],
   "source": [
    "credits['cast'] = credits['cast'].fillna('')\n",
    "cast_list = credits['cast'].str.split('|', expand=True).stack()\n",
    "top_cast = cast_list.value_counts()\n",
    "print(\"\\nTop Cast:\")\n",
    "print(top_cast.head(10))"
   ]
  },
  {
   "cell_type": "code",
   "execution_count": null,
   "id": "3661af3d-0ed6-4944-8183-6e051b6ccb58",
   "metadata": {},
   "outputs": [],
   "source": []
  },
  {
   "cell_type": "code",
   "execution_count": null,
   "id": "38c6355c-da7d-4c59-9a83-6ac4110fb1bc",
   "metadata": {},
   "outputs": [],
   "source": []
  },
  {
   "cell_type": "code",
   "execution_count": null,
   "id": "4f616ac3-5ab7-47f9-a4b1-58aaa48231df",
   "metadata": {},
   "outputs": [],
   "source": [
    "plt.figure(figsize=(4, 3))\n",
    "top_cast.head(10).plot(kind='bar', title='Top 10 Actors by Movie Count')\n",
    "plt.xlabel('Actor')\n",
    "plt.ylabel('Number of Movies')\n",
    "plt.xticks(rotation=45, fontsize=10)\n",
    "plt.tight_layout()\n",
    "plt.show()"
   ]
  },
  {
   "cell_type": "code",
   "execution_count": null,
   "id": "27b79d27-6058-405a-b1a7-94482f0b6fbe",
   "metadata": {},
   "outputs": [],
   "source": [
    "merged_data = credits.merge(movies_metadata[['id', 'title', 'popularity']], left_on='id', right_on='id')\n",
    "\n",
    "cast_popularity = merged_data[['cast', 'popularity']].copy()\n",
    "cast_popularity = cast_popularity.explode('cast')\n",
    "cast_popularity = cast_popularity.groupby('cast').agg({'popularity': 'mean'}).reset_index()\n",
    "top_cast_popularity = cast_popularity.sort_values(by='popularity', ascending=False)\n",
    "print(\"\\nTop Cast by Average Popularity:\")\n",
    "print(top_cast_popularity.head(10))\n"
   ]
  },
  {
   "cell_type": "code",
   "execution_count": null,
   "id": "07bee723-ebcd-474a-86e9-e6bdaa937b06",
   "metadata": {},
   "outputs": [],
   "source": []
  },
  {
   "cell_type": "code",
   "execution_count": null,
   "id": "9cd9ccd5-098e-4e97-9114-8120d51953aa",
   "metadata": {},
   "outputs": [],
   "source": []
  },
  {
   "cell_type": "code",
   "execution_count": null,
   "id": "3946a553-461f-4442-87f8-512c09ec9059",
   "metadata": {},
   "outputs": [],
   "source": [
    "plt.figure(figsize=(3, 2))\n",
    "top_cast_popularity.head(10).plot(kind='bar', x='cast', y='popularity', title='Top 10 Actors by Average Popularity')\n",
    "plt.xlabel('Actor')\n",
    "plt.ylabel('Average Popularity')\n",
    "plt.xticks(rotation=45, fontsize=10)\n",
    "plt.tight_layout()\n",
    "plt.show()"
   ]
  },
  {
   "cell_type": "code",
   "execution_count": null,
   "id": "2c78cf4f-3898-41ea-a464-6a4c4ff7cc9f",
   "metadata": {},
   "outputs": [],
   "source": []
  },
  {
   "cell_type": "code",
   "execution_count": null,
   "id": "0c63ab19-6fc3-42dd-bb3a-4d0add1b8be2",
   "metadata": {},
   "outputs": [],
   "source": []
  },
  {
   "cell_type": "code",
   "execution_count": null,
   "id": "fc700fb7-03ca-49af-99fa-aa68a14bef78",
   "metadata": {},
   "outputs": [],
   "source": [
    "#credits['crew'] = credits['crew'].fillna('')\n",
    "crew_list = credits['crew'].str.split('|', expand=True).stack()\n",
    "top_crew = crew_list.value_counts()\n",
    "\n",
    "print(\"\\nTop Crew Members:\")\n",
    "print(top_crew.head(10))"
   ]
  },
  {
   "cell_type": "code",
   "execution_count": null,
   "id": "526a8900-74ef-4839-bd3e-2f2421ca8a91",
   "metadata": {},
   "outputs": [],
   "source": []
  },
  {
   "cell_type": "code",
   "execution_count": null,
   "id": "ac2f17a6-b96a-4cdf-819b-bfc57ce8dd8d",
   "metadata": {},
   "outputs": [],
   "source": []
  },
  {
   "cell_type": "code",
   "execution_count": null,
   "id": "ff58feeb-c80b-4932-a33f-cd94d0003379",
   "metadata": {},
   "outputs": [],
   "source": [
    "plt.figure(figsize=(8, 4))\n",
    "top_crew.head(10).plot(kind='bar', title='Top 10 Crew Members by Movie Count')\n",
    "plt.xlabel('Crew Member')\n",
    "plt.ylabel('Number of Movies')\n",
    "plt.xticks(rotation=45, fontsize=10)\n",
    "plt.tight_layout()\n",
    "plt.show()\n"
   ]
  },
  {
   "cell_type": "code",
   "execution_count": null,
   "id": "0b911b66-88ac-45a2-ba95-5ded484bf063",
   "metadata": {},
   "outputs": [],
   "source": []
  },
  {
   "cell_type": "code",
   "execution_count": null,
   "id": "e7f2222c-36ae-495b-bfb8-969049b82ca9",
   "metadata": {},
   "outputs": [],
   "source": []
  },
  {
   "cell_type": "code",
   "execution_count": null,
   "id": "56dabcd6-1f23-4a50-ace7-5329be5bcb2f",
   "metadata": {},
   "outputs": [],
   "source": [
    "# Keywords Data\n",
    "# Analysis:\n",
    "\n",
    "#Keyword Frequency: Find out the most common keywords associated with movies.\n",
    "#Keyword vs. Popularity: Explore how specific keywords relate to movie popularity."
   ]
  },
  {
   "cell_type": "code",
   "execution_count": null,
   "id": "cf55516c-8de6-4647-9bcd-a436f0413515",
   "metadata": {},
   "outputs": [],
   "source": [
    "keyword_list = keywords['keywords'].str.split('|', expand=True).stack()\n",
    "top_keywords = keyword_list.value_counts()\n",
    "top_keywords"
   ]
  },
  {
   "cell_type": "code",
   "execution_count": null,
   "id": "df094a75-d51c-4dce-8902-acd923fbb297",
   "metadata": {
    "scrolled": true
   },
   "outputs": [],
   "source": []
  },
  {
   "cell_type": "code",
   "execution_count": null,
   "id": "73a706ba-fe41-4085-9c21-8605af0a4a14",
   "metadata": {},
   "outputs": [],
   "source": [
    "plt.figure(figsize=(6, 4))\n",
    "top_keywords.head(10).plot(kind='bar', title='Top 10 Keywords by Frequency')\n",
    "plt.xlabel('Keyword')\n",
    "plt.ylabel('Frequency')\n",
    "plt.xticks(rotation=45, fontsize=10)\n",
    "plt.tight_layout()\n",
    "plt.show()"
   ]
  },
  {
   "cell_type": "code",
   "execution_count": null,
   "id": "cb3df305-3924-49a0-a052-c10b9ba4b83c",
   "metadata": {},
   "outputs": [],
   "source": []
  },
  {
   "cell_type": "code",
   "execution_count": null,
   "id": "12de7f4f-16d1-48d8-9ba8-c8d9c13df4e4",
   "metadata": {},
   "outputs": [],
   "source": []
  },
  {
   "cell_type": "code",
   "execution_count": null,
   "id": "f87fef7b-671e-4d3a-b7ac-e8f3bb90a469",
   "metadata": {},
   "outputs": [],
   "source": [
    "keywords_movies = keywords.merge(movies_metadata[['id', 'popularity']], left_on='id', right_on='id')\n",
    "keywords_popularity = keywords_movies[['keywords', 'popularity']].copy()\n",
    "keywords_popularity = keywords_popularity.explode('keywords')\n",
    "keyword_popularity = keywords_popularity.groupby('keywords').agg({'popularity': 'mean'}).reset_index()\n",
    "top_keyword_popularity = keyword_popularity.sort_values(by='popularity', ascending=False)\n",
    "top_keyword_popularity"
   ]
  },
  {
   "cell_type": "code",
   "execution_count": null,
   "id": "3bf04c8b-73d8-479f-a3ac-e2c405110718",
   "metadata": {},
   "outputs": [],
   "source": [
    "plt.figure(figsize=(8, 4))\n",
    "top_keyword_popularity.head(10).plot(kind='bar', x='keywords', y='popularity', title='Top 10 Keywords by Average Popularity')\n",
    "plt.xlabel('Keyword')\n",
    "plt.ylabel('Average Popularity')\n",
    "plt.xticks(rotation=45, fontsize=10)\n",
    "plt.tight_layout()\n",
    "plt.show()"
   ]
  },
  {
   "cell_type": "code",
   "execution_count": null,
   "id": "e93ff374-3419-4adf-90d8-0b27b25c9cd1",
   "metadata": {},
   "outputs": [],
   "source": []
  },
  {
   "cell_type": "code",
   "execution_count": null,
   "id": "f0ca05c7-0e41-40b1-9dd5-3048e9ff25ef",
   "metadata": {},
   "outputs": [],
   "source": [
    "#Links Data\n",
    "# Analysis:\n",
    "\n"
   ]
  },
  {
   "cell_type": "code",
   "execution_count": null,
   "id": "5751f8ba-007b-465c-a1ef-8439a0fba63a",
   "metadata": {},
   "outputs": [],
   "source": [
    "unique_movie_ids = links['movieId'].nunique()\n",
    "total_movie_ids = links['movieId'].count()\n",
    "total_movie_ids"
   ]
  },
  {
   "cell_type": "code",
   "execution_count": null,
   "id": "e66ed122-1c7c-45f9-b7d9-34bb30ef47be",
   "metadata": {},
   "outputs": [],
   "source": []
  },
  {
   "cell_type": "code",
   "execution_count": null,
   "id": "f1f36dff-f1fe-4588-858c-771648d1adfb",
   "metadata": {},
   "outputs": [],
   "source": []
  },
  {
   "cell_type": "code",
   "execution_count": null,
   "id": "d14d586e-376c-4228-b19f-26ddbc3aabee",
   "metadata": {},
   "outputs": [],
   "source": []
  },
  {
   "cell_type": "code",
   "execution_count": null,
   "id": "6a8bb834-3de3-453d-83f8-be8aee45db35",
   "metadata": {},
   "outputs": [],
   "source": [
    "#Movies Metadata\n",
    "# Analysis:\n",
    "\n",
    "#Budget vs. Revenue: Investigate how budget impacts revenue.\n",
    "#Popularity and Ratings: Explore relationships between movie popularity, ratings, and other features.\n",
    "#Genre Analysis: Analyze the distribution of genres and their impact on ratings and revenue."
   ]
  },
  {
   "cell_type": "code",
   "execution_count": null,
   "id": "35cec16d-2238-4064-8713-437984464dc9",
   "metadata": {},
   "outputs": [],
   "source": [
    "movies_metadata.head()"
   ]
  },
  {
   "cell_type": "code",
   "execution_count": null,
   "id": "8ef4fb1c-5de2-4b0b-8cb3-1b6f13538e22",
   "metadata": {},
   "outputs": [],
   "source": [
    "movies_metadata.info()"
   ]
  },
  {
   "cell_type": "code",
   "execution_count": null,
   "id": "b9d5e0c8-0f5e-46fc-a532-694a16eefba3",
   "metadata": {},
   "outputs": [],
   "source": [
    "movies_metadata.describe()\n"
   ]
  },
  {
   "cell_type": "code",
   "execution_count": null,
   "id": "51f2770f-753d-4254-b9ee-b02068804939",
   "metadata": {},
   "outputs": [],
   "source": [
    "movies_metadata.shape\n"
   ]
  },
  {
   "cell_type": "code",
   "execution_count": null,
   "id": "45a77cb1-5011-4f97-af36-7972946af5f5",
   "metadata": {},
   "outputs": [],
   "source": [
    "movies_metadata.isnull().sum()"
   ]
  },
  {
   "cell_type": "code",
   "execution_count": null,
   "id": "183daaf7-7f53-4a14-bd0b-4da54783750b",
   "metadata": {},
   "outputs": [],
   "source": [
    "movies_metadata.fillna('', inplace=True) "
   ]
  },
  {
   "cell_type": "code",
   "execution_count": null,
   "id": "1eca7956-c771-41a5-8928-f44345144074",
   "metadata": {},
   "outputs": [],
   "source": [
    "plt.figure(figsize=(5, 3))\n",
    "plt.scatter(movies_metadata['popularity'], movies_metadata['vote_average'])\n",
    "plt.title('Popularity vs. Average Rating')\n",
    "plt.xlabel('Popularity')\n",
    "plt.ylabel('Average Rating')\n",
    "plt.grid(True)\n",
    "plt.show()"
   ]
  },
  {
   "cell_type": "code",
   "execution_count": null,
   "id": "10f0ee72-5207-45d3-8566-e8e75895e1a9",
   "metadata": {},
   "outputs": [],
   "source": [
    "df_genres['genres'] = df_genres['genres'].apply(lambda x: eval(x) if isinstance(x, str) else x)\n",
    "df_genres = df_genres.explode('genres')\n",
    "df_genres"
   ]
  },
  {
   "cell_type": "code",
   "execution_count": null,
   "id": "157bb6f0-e1d1-4412-b9e6-04f4c255090f",
   "metadata": {},
   "outputs": [],
   "source": [
    "df_combined = movies_metadata.merge(df_genres, on='id')\n",
    "df_combined"
   ]
  },
  {
   "cell_type": "code",
   "execution_count": null,
   "id": "2447d303-75d8-4a58-b653-16942b1b7c7a",
   "metadata": {},
   "outputs": [],
   "source": [
    "genre_counts = df_combined['genres'].value_counts()\n",
    "genre_counts"
   ]
  },
  {
   "cell_type": "code",
   "execution_count": null,
   "id": "d4a4c8be-15fd-4607-b1d7-1ad87c1bffd1",
   "metadata": {},
   "outputs": [],
   "source": [
    "plt.figure(figsize=(8, 2))\n",
    "genre_counts.plot(kind='bar', title='Genre Distribution',color='skyblue')\n",
    "plt.xlabel('Genre')\n",
    "plt.ylabel('Count')\n",
    "plt.xticks(rotation=45, fontsize=10)\n",
    "plt.show()"
   ]
  },
  {
   "cell_type": "code",
   "execution_count": null,
   "id": "ea42744a-db63-4a3b-abfc-169e1d305ac4",
   "metadata": {},
   "outputs": [],
   "source": []
  },
  {
   "cell_type": "code",
   "execution_count": null,
   "id": "133f5256-9065-40d4-ac73-0047ab259bd0",
   "metadata": {},
   "outputs": [],
   "source": []
  },
  {
   "cell_type": "code",
   "execution_count": null,
   "id": "89904024-13d2-46b5-82a7-3a88e25ffe78",
   "metadata": {},
   "outputs": [],
   "source": []
  },
  {
   "cell_type": "code",
   "execution_count": null,
   "id": "98e4a07d-5ca4-4d15-a0ad-7e26b3728121",
   "metadata": {},
   "outputs": [],
   "source": []
  },
  {
   "cell_type": "code",
   "execution_count": null,
   "id": "edfdf047-b644-4ca0-b6f2-2609d30047e2",
   "metadata": {},
   "outputs": [],
   "source": []
  },
  {
   "cell_type": "code",
   "execution_count": null,
   "id": "e0fa2c8c-0345-4c63-93c8-cf6b709684b7",
   "metadata": {},
   "outputs": [],
   "source": [
    "#Ratings Data\n",
    "#Analysis:\n",
    "\n",
    "#Ratings Distribution: Explore the distribution of ratings.\n",
    "#Movie Ratings: Analyze average ratings for each movie.\n",
    "# User Behavior: Examine the number of ratings per user and how it might affect average ratings."
   ]
  },
  {
   "cell_type": "code",
   "execution_count": null,
   "id": "6eeb47b5-81f4-41aa-9499-976fedb8eb9f",
   "metadata": {},
   "outputs": [],
   "source": [
    "plt.figure(figsize=(5, 3))\n",
    "ratings['rating'].hist(bins=10, color='skyblue', edgecolor='black')\n",
    "plt.title('Ratings Distribution')\n",
    "plt.xlabel('Rating')\n",
    "plt.ylabel('Frequency')\n",
    "plt.grid(True)\n",
    "plt.show()"
   ]
  },
  {
   "cell_type": "code",
   "execution_count": null,
   "id": "37f380d5-cab8-492f-aeca-60cab6e8d1e6",
   "metadata": {},
   "outputs": [],
   "source": []
  },
  {
   "cell_type": "code",
   "execution_count": null,
   "id": "55c0f582-93ff-4ea5-ac35-ee293ef39fc5",
   "metadata": {},
   "outputs": [],
   "source": [
    "average_ratings_per_movie = ratings.groupby('movieId')['rating'].mean().reset_index()\n",
    "average_ratings_per_movie"
   ]
  },
  {
   "cell_type": "code",
   "execution_count": null,
   "id": "29b08f53-3c60-4b8d-9613-193d068e503b",
   "metadata": {},
   "outputs": [],
   "source": [
    "\n",
    "plt.figure(figsize=(8, 4))\n",
    "average_ratings_per_movie.sort_values(by='rating', ascending=False).head(20).plot(kind='bar', x='movieId', y='rating', legend=False, color='salmon')\n",
    "plt.title('Top 20 Movies by Average Rating')\n",
    "plt.xlabel('Movie ID')\n",
    "plt.ylabel('Average Rating')\n",
    "plt.xticks(rotation=90)\n",
    "plt.grid(axis='y')\n",
    "plt.tight_layout()\n",
    "plt.show()\n"
   ]
  },
  {
   "cell_type": "code",
   "execution_count": null,
   "id": "13241427-3ad6-4e7b-9f1c-c9a2e3cf0576",
   "metadata": {},
   "outputs": [],
   "source": [
    "ratings_per_user = ratings.groupby('userId').size()\n",
    "ratings_per_user"
   ]
  },
  {
   "cell_type": "code",
   "execution_count": null,
   "id": "3dd36b2a-1591-4569-a19f-f467beed6abd",
   "metadata": {},
   "outputs": [],
   "source": [
    "plt.figure(figsize=(5, 3))\n",
    "ratings_per_user.hist(bins=30, color='lightgreen', edgecolor='black')\n",
    "plt.title('Number of Ratings per User')\n",
    "plt.xlabel('Number of Ratings')\n",
    "plt.ylabel('Frequency')\n",
    "plt.grid(True)\n",
    "plt.show()"
   ]
  },
  {
   "cell_type": "code",
   "execution_count": null,
   "id": "c54b5c93-8697-4c5e-9257-9f92a68be067",
   "metadata": {},
   "outputs": [],
   "source": [
    "average_rating_per_user = ratings.groupby('userId')['rating'].mean()\n",
    "average_rating_per_user\n",
    "\n"
   ]
  },
  {
   "cell_type": "code",
   "execution_count": null,
   "id": "cbc86df4-042c-4145-9442-1bf5e3e7cff4",
   "metadata": {},
   "outputs": [],
   "source": [
    "user_behavior = pd.DataFrame({'ratings_count': ratings_per_user, 'average_rating': average_rating_per_user}).reset_index()\n",
    "\n",
    "plt.figure(figsize=(5, 4))\n",
    "plt.scatter(user_behavior['ratings_count'], user_behavior['average_rating'], alpha=0.5, edgecolors='k')\n",
    "plt.title('Average Rating vs. Number of Ratings per User')\n",
    "plt.xlabel('Number of Ratings')\n",
    "plt.ylabel('Average Rating')\n",
    "plt.xscale('log')\n",
    "plt.yscale('linear')\n",
    "plt.grid(True)\n",
    "plt.show()"
   ]
  },
  {
   "cell_type": "code",
   "execution_count": null,
   "id": "1438e8f6-68d2-453c-8311-8fc8012672ef",
   "metadata": {},
   "outputs": [],
   "source": []
  },
  {
   "cell_type": "code",
   "execution_count": null,
   "id": "061d7dac-7db2-4000-9774-143b7b7a5d64",
   "metadata": {},
   "outputs": [],
   "source": [
    "# Combine Ratings with Movies Metadata:"
   ]
  },
  {
   "cell_type": "code",
   "execution_count": null,
   "id": "869459b7-6780-4f63-9432-cb8db2145618",
   "metadata": {},
   "outputs": [],
   "source": [
    "movies_metadata = movies_metadata.rename(columns={'id': 'movieId'})\n",
    "\n",
    "merged_df = pd.merge(ratings, movies_metadata, on='movieId')\n",
    "merged_df"
   ]
  },
  {
   "cell_type": "code",
   "execution_count": null,
   "id": "bd10669d-dc83-4208-8530-42b9b99f1f39",
   "metadata": {},
   "outputs": [],
   "source": [
    "average_ratings = merged_df.groupby('movieId')['rating'].mean().reset_index()\n",
    "average_ratings = average_ratings.rename(columns={'rating': 'average_rating'})\n",
    "average_ratings"
   ]
  },
  {
   "cell_type": "code",
   "execution_count": null,
   "id": "9d11ed57-22ef-4f77-9a3f-b69b64008304",
   "metadata": {},
   "outputs": [],
   "source": [
    "merged_ratings_popularity = pd.merge(average_ratings, movies_metadata[['movieId', 'popularity']], on='movieId')\n",
    "merged_ratings_popularity"
   ]
  },
  {
   "cell_type": "code",
   "execution_count": null,
   "id": "d8ab9e80-f1b7-4b33-b60b-6b35d41555b5",
   "metadata": {},
   "outputs": [],
   "source": [
    "plt.figure(figsize=(5, 3))\n",
    "plt.scatter(merged_ratings_popularity['popularity'], merged_ratings_popularity['average_rating'], alpha=0.5, edgecolors='k')\n",
    "plt.title('Average Rating vs. Popularity')\n",
    "plt.xlabel('Popularity')\n",
    "plt.ylabel('Average Rating')\n",
    "plt.grid(True)\n",
    "plt.show()"
   ]
  },
  {
   "cell_type": "code",
   "execution_count": null,
   "id": "61ff5ad9-cd99-4d5d-8419-624b926bca93",
   "metadata": {},
   "outputs": [],
   "source": [
    "merged_df['release_date'] = pd.to_datetime(merged_df['release_date'], errors='coerce')\n",
    "merged_df['release_year'] = merged_df['release_date'].dt.year\n",
    "\n",
    "rating_by_year = merged_df.groupby('release_year')['rating'].mean().reset_index()\n",
    "rating_by_year\n"
   ]
  },
  {
   "cell_type": "code",
   "execution_count": null,
   "id": "ce69bc41-3fe3-47a9-aa7d-e4438def9a1a",
   "metadata": {},
   "outputs": [],
   "source": [
    "plt.figure(figsize=(5, 3))\n",
    "plt.plot(rating_by_year['release_year'], rating_by_year['rating'], marker='o', linestyle='-', color='b')\n",
    "plt.title('Average Rating by Release Year')\n",
    "plt.xlabel('Release Year')\n",
    "plt.ylabel('Average Rating')\n",
    "plt.grid(True)\n",
    "plt.show()\n"
   ]
  },
  {
   "cell_type": "code",
   "execution_count": null,
   "id": "b51a9691-52a0-43c9-bcd4-d27e6b6c7168",
   "metadata": {},
   "outputs": [],
   "source": []
  },
  {
   "cell_type": "code",
   "execution_count": null,
   "id": "4fd1c212-b6fe-44b1-b35d-32d95c8b415d",
   "metadata": {},
   "outputs": [],
   "source": []
  },
  {
   "cell_type": "code",
   "execution_count": null,
   "id": "2e3b686b-3edd-44ca-9c9b-b4b33e836430",
   "metadata": {},
   "outputs": [],
   "source": [
    "# Merge Credits with Movies Metadata"
   ]
  },
  {
   "cell_type": "code",
   "execution_count": null,
   "id": "09ee9081-45d5-4f51-915e-eb5b86ab11f8",
   "metadata": {},
   "outputs": [],
   "source": [
    "credits = credits.rename(columns={'id': 'movieId'})\n",
    "credits[['cast', 'crew']].head()"
   ]
  },
  {
   "cell_type": "code",
   "execution_count": null,
   "id": "23dbba6e-e416-41a0-9165-3edc7629d2f5",
   "metadata": {},
   "outputs": [],
   "source": [
    "movies_metadata = movies_metadata.rename(columns={'id': 'movieId'})\n",
    "\n",
    "movies_metadata[['movieId', 'title', 'release_date']].head()"
   ]
  },
  {
   "cell_type": "code",
   "execution_count": null,
   "id": "b7a67615-23c7-4845-95c6-f232784b2658",
   "metadata": {},
   "outputs": [],
   "source": [
    "merged_df = pd.merge(credits, movies_metadata, on='movieId')\n",
    "merged_df"
   ]
  },
  {
   "cell_type": "code",
   "execution_count": null,
   "id": "3b5a711e-bbc1-4d4a-8244-24a7dac7d464",
   "metadata": {},
   "outputs": [],
   "source": []
  },
  {
   "cell_type": "code",
   "execution_count": null,
   "id": "cd31f6c9-11a8-4517-b823-ab8d69a5e076",
   "metadata": {},
   "outputs": [],
   "source": []
  },
  {
   "cell_type": "code",
   "execution_count": null,
   "id": "995f2888-6c8c-4bab-83eb-cd2b5ea5b7e3",
   "metadata": {},
   "outputs": [],
   "source": []
  },
  {
   "cell_type": "code",
   "execution_count": null,
   "id": "1836ce6a-f3ff-4530-a531-406d6eace719",
   "metadata": {},
   "outputs": [],
   "source": [
    "\n",
    "\n"
   ]
  },
  {
   "cell_type": "code",
   "execution_count": null,
   "id": "962664d4-4220-4994-aa25-758e6b3c4eda",
   "metadata": {},
   "outputs": [],
   "source": []
  }
 ],
 "metadata": {
  "kernelspec": {
   "display_name": "Python 3 (ipykernel)",
   "language": "python",
   "name": "python3"
  },
  "language_info": {
   "codemirror_mode": {
    "name": "ipython",
    "version": 3
   },
   "file_extension": ".py",
   "mimetype": "text/x-python",
   "name": "python",
   "nbconvert_exporter": "python",
   "pygments_lexer": "ipython3",
   "version": "3.12.4"
  }
 },
 "nbformat": 4,
 "nbformat_minor": 5
}
