{
 "cells": [
  {
   "cell_type": "code",
   "execution_count": 3,
   "id": "fdb6350c-eb79-411e-b9d0-89fa81f25655",
   "metadata": {},
   "outputs": [],
   "source": [
    "#Regular Expressiions"
   ]
  },
  {
   "cell_type": "code",
   "execution_count": 1,
   "id": "5ae2d30f-42eb-4f2f-80cf-d082fa7faed4",
   "metadata": {},
   "outputs": [
    {
     "data": {
      "text/plain": [
       "'Basic Syntax\\n.: Matches any character except a newline.\\n^: Matches the start of the string.\\n$: Matches the end of the string.\\n*: Matches 0 or more repetitions of the preceding element.\\n+: Matches 1 or more repetitions of the preceding element.\\n?: Matches 0 or 1 repetition of the preceding element.\\n[]: Matches any one of the characters inside the brackets.\\n|: Acts as a logical OR between expressions.\\n(): Groups multiple tokens together.'"
      ]
     },
     "execution_count": 1,
     "metadata": {},
     "output_type": "execute_result"
    }
   ],
   "source": [
    "'''Basic Syntax\n",
    ".: Matches any character except a newline.\n",
    "^: Matches the start of the string.\n",
    "$: Matches the end of the string.\n",
    "*: Matches 0 or more repetitions of the preceding element.\n",
    "+: Matches 1 or more repetitions of the preceding element.\n",
    "?: Matches 0 or 1 repetition of the preceding element.\n",
    "[]: Matches any one of the characters inside the brackets.\n",
    "|: Acts as a logical OR between expressions.\n",
    "(): Groups multiple tokens together.'''"
   ]
  },
  {
   "cell_type": "code",
   "execution_count": 34,
   "id": "ad90d856-4541-466d-b156-489eb52136e2",
   "metadata": {},
   "outputs": [],
   "source": [
    "# Dot (.)"
   ]
  },
  {
   "cell_type": "code",
   "execution_count": 36,
   "id": "192fd1bb-3bd4-429e-89fc-92d53f043fe4",
   "metadata": {},
   "outputs": [
    {
     "name": "stdout",
     "output_type": "stream",
     "text": [
      "Match found: Hello\n"
     ]
    }
   ],
   "source": [
    "import re\n",
    "\n",
    "text = \"Hello World\"\n",
    "pattern = r\"H.llo\"  # Matches 'Hello' (H followed by any character, then 'llo')\n",
    "match = re.search(pattern, text)\n",
    "if match:\n",
    "    print(f\"Match found: {match.group()}\")"
   ]
  },
  {
   "cell_type": "code",
   "execution_count": 38,
   "id": "844df2d9-0361-4b78-8110-34ba35579981",
   "metadata": {},
   "outputs": [],
   "source": [
    "# Caret (^)"
   ]
  },
  {
   "cell_type": "code",
   "execution_count": 40,
   "id": "e746afe9-a517-4c55-8bcb-88005ead8a39",
   "metadata": {},
   "outputs": [
    {
     "name": "stdout",
     "output_type": "stream",
     "text": [
      "Match found: Hello\n"
     ]
    }
   ],
   "source": [
    "import re\n",
    "\n",
    "text = \"Hello World\"\n",
    "pattern = r\"^Hello\"  # Matches 'Hello' at the start of the string\n",
    "match = re.match(pattern, text)\n",
    "if match:\n",
    "    print(f\"Match found: {match.group()}\")\n"
   ]
  },
  {
   "cell_type": "code",
   "execution_count": 42,
   "id": "f4a1b5b6-709b-4fbe-ae83-86ca7342ca1c",
   "metadata": {},
   "outputs": [],
   "source": [
    "#  Dollar ($)"
   ]
  },
  {
   "cell_type": "code",
   "execution_count": 44,
   "id": "698c3d7b-bf21-448d-afe5-98b32ee8b398",
   "metadata": {},
   "outputs": [
    {
     "name": "stdout",
     "output_type": "stream",
     "text": [
      "Match found: World\n"
     ]
    }
   ],
   "source": [
    "import re\n",
    "\n",
    "text = \"Hello World\"\n",
    "pattern = r\"World$\"  # Matches 'World' at the end of the string\n",
    "match = re.search(pattern, text)\n",
    "if match:\n",
    "    print(f\"Match found: {match.group()}\")\n"
   ]
  },
  {
   "cell_type": "code",
   "execution_count": 46,
   "id": "9d2a403c-7944-481a-8721-c2b3ef74493c",
   "metadata": {},
   "outputs": [],
   "source": [
    "# Asterisk (*)"
   ]
  },
  {
   "cell_type": "code",
   "execution_count": 48,
   "id": "9eca8e97-c2bc-4004-abe4-93e6cd6e4d7b",
   "metadata": {},
   "outputs": [
    {
     "name": "stdout",
     "output_type": "stream",
     "text": [
      "Match found: eellooo\n"
     ]
    }
   ],
   "source": [
    "import re\n",
    "\n",
    "text = \"Heellooo World\"\n",
    "pattern = r\"e*lloo*\"  # Matches 'lloo' with 0 or more 'e's and 'o's\n",
    "match = re.search(pattern, text)\n",
    "if match:\n",
    "    print(f\"Match found: {match.group()}\")\n"
   ]
  },
  {
   "cell_type": "code",
   "execution_count": 50,
   "id": "9ef2524d-294a-4c34-82c7-eb645b5240f7",
   "metadata": {},
   "outputs": [],
   "source": [
    "# Plus (+)"
   ]
  },
  {
   "cell_type": "code",
   "execution_count": 52,
   "id": "c762447c-8eee-4514-a434-23f88c352dfe",
   "metadata": {},
   "outputs": [
    {
     "name": "stdout",
     "output_type": "stream",
     "text": [
      "Matches found: ['ooo', 'o']\n"
     ]
    }
   ],
   "source": [
    "import re\n",
    "\n",
    "text = \"Hellooo World\"\n",
    "pattern = r\"o+\"  # Matches 1 or more 'o's\n",
    "matches = re.findall(pattern, text)\n",
    "print(f\"Matches found: {matches}\")\n"
   ]
  },
  {
   "cell_type": "code",
   "execution_count": 60,
   "id": "73ddd544-0426-4590-bcca-f850e0c8f650",
   "metadata": {},
   "outputs": [],
   "source": [
    "# Square Brackets ([])"
   ]
  },
  {
   "cell_type": "code",
   "execution_count": 83,
   "id": "a7354714-8050-4fce-af75-41b34c4534fc",
   "metadata": {},
   "outputs": [
    {
     "name": "stdout",
     "output_type": "stream",
     "text": [
      "Matches found: []\n"
     ]
    }
   ],
   "source": [
    "import re\n",
    "\n",
    "text = \"Cats and dogs\"\n",
    "pattern = r\"[a-d]at\"  # Matches 'cat' or 'dat'\n",
    "matches = re.findall(pattern, text)\n",
    "print(f\"Matches found: {matches}\")\n"
   ]
  },
  {
   "cell_type": "code",
   "execution_count": 64,
   "id": "5618ff58-507b-4c1b-9bcd-ca7c4b24013c",
   "metadata": {},
   "outputs": [],
   "source": [
    "# Pipe (|)"
   ]
  },
  {
   "cell_type": "code",
   "execution_count": 66,
   "id": "20bead42-63ed-484c-91af-b0042bd2654c",
   "metadata": {},
   "outputs": [
    {
     "name": "stdout",
     "output_type": "stream",
     "text": [
      "Matches found: ['Cats', 'Dogs']\n"
     ]
    }
   ],
   "source": [
    "import re\n",
    "\n",
    "text = \"Cats and Dogs\"\n",
    "pattern = r\"Cats|Dogs\"  # Matches 'Cats' or 'Dogs'\n",
    "matches = re.findall(pattern, text)\n",
    "print(f\"Matches found: {matches}\")\n"
   ]
  },
  {
   "cell_type": "code",
   "execution_count": 68,
   "id": "a496e15a-5700-4144-8f8f-fad64bcf0523",
   "metadata": {},
   "outputs": [],
   "source": [
    "# Parentheses (())"
   ]
  },
  {
   "cell_type": "code",
   "execution_count": 70,
   "id": "1a5df029-b423-4093-81f3-22ec2a242c3a",
   "metadata": {},
   "outputs": [
    {
     "name": "stdout",
     "output_type": "stream",
     "text": [
      "Area code: 123\n",
      "Central office code: 456\n",
      "Line number: 7890\n"
     ]
    }
   ],
   "source": [
    "import re\n",
    "\n",
    "text = \"123-456-7890\"\n",
    "pattern = r\"(\\d{3})-(\\d{3})-(\\d{4})\"  # Groups the phone number into three parts\n",
    "match = re.search(pattern, text)\n",
    "if match:\n",
    "    print(f\"Area code: {match.group(1)}\")\n",
    "    print(f\"Central office code: {match.group(2)}\")\n",
    "    print(f\"Line number: {match.group(3)}\")\n"
   ]
  },
  {
   "cell_type": "code",
   "execution_count": null,
   "id": "99e9217a-34dc-4be6-bf90-b66a6f1aa3b2",
   "metadata": {},
   "outputs": [],
   "source": []
  },
  {
   "cell_type": "code",
   "execution_count": null,
   "id": "9ac78507-8d11-49e3-8ba6-166e7d358a42",
   "metadata": {},
   "outputs": [],
   "source": []
  },
  {
   "cell_type": "code",
   "execution_count": 22,
   "id": "f8495ea5-d710-4d05-8a5d-fae6f3f37a49",
   "metadata": {},
   "outputs": [
    {
     "data": {
      "text/plain": [
       "' Character Classes and Quantifiers\\nCharacter Classes\\n[abc]: Matches any one of the characters a, b, or c.\\n[^abc]: Matches any character except a, b, or c.\\nQuantifiers\\n{n}: Matches exactly n occurrences of the preceding element.\\n{n,}: Matches n or more occurrences of the preceding element.\\n{n,m}: Matches between n and m occurrences of the preceding element.'"
      ]
     },
     "execution_count": 22,
     "metadata": {},
     "output_type": "execute_result"
    }
   ],
   "source": [
    "''' Character Classes and Quantifiers\n",
    "Character Classes\n",
    "[abc]: Matches any one of the characters a, b, or c.\n",
    "[^abc]: Matches any character except a, b, or c.\n",
    "Quantifiers\n",
    "{n}: Matches exactly n occurrences of the preceding element.\n",
    "{n,}: Matches n or more occurrences of the preceding element.\n",
    "{n,m}: Matches between n and m occurrences of the preceding element.'''"
   ]
  },
  {
   "cell_type": "code",
   "execution_count": 28,
   "id": "1fa824bd-d372-4199-b555-d01a54d8411f",
   "metadata": {},
   "outputs": [
    {
     "name": "stdout",
     "output_type": "stream",
     "text": [
      "Found characters: ['c', 't', 't', 't', 'm', 't']\n",
      "Found words: ['cat']\n"
     ]
    }
   ],
   "source": [
    "import re\n",
    "\n",
    "text = \"The cat sat on the mat.\"\n",
    "\n",
    "pattern = r\"[cmt]\"\n",
    "matches = re.findall(pattern, text)\n",
    "print(f\"Found characters: {matches}\")\n",
    "\n",
    "pattern = r\"ca{1,2}t\"  # Matches 'cat' or 'caat'\n",
    "matches = re.findall(pattern, text)\n",
    "print(f\"Found words: {matches}\")\n"
   ]
  },
  {
   "cell_type": "code",
   "execution_count": 13,
   "id": "6d875f8b-b233-4744-8695-6dd22f5d6ce6",
   "metadata": {},
   "outputs": [
    {
     "data": {
      "text/plain": [
       "'Groups and Backreferences\\nGroups\\n(abc): Groups the characters abc together.\\nBackreferences\\n\\x01: Matches the same text as most recently matched group 1.\\n'"
      ]
     },
     "execution_count": 13,
     "metadata": {},
     "output_type": "execute_result"
    }
   ],
   "source": [
    "'''Groups and Backreferences\n",
    "Groups\n",
    "(abc): Groups the characters abc together.\n",
    "Backreferences\n",
    "\\1: Matches the same text as most recently matched group 1.\n",
    "'''"
   ]
  },
  {
   "cell_type": "code",
   "execution_count": 30,
   "id": "4fab2e2c-a714-49e2-b891-98ee989d510a",
   "metadata": {},
   "outputs": [
    {
     "name": "stdout",
     "output_type": "stream",
     "text": [
      "Area code: 123\n",
      "Central office code: 456\n",
      "Line number: 7890\n",
      "Found repeating groups: ['123', '456']\n"
     ]
    }
   ],
   "source": [
    "import re\n",
    "\n",
    "text = \"The phone number is 123-456-7890.\"\n",
    "\n",
    "pattern = r\"(\\d{3})-(\\d{3})-(\\d{4})\"\n",
    "match = re.search(pattern, text)\n",
    "if match:\n",
    "    print(f\"Area code: {match.group(1)}\")\n",
    "    print(f\"Central office code: {match.group(2)}\")\n",
    "    print(f\"Line number: {match.group(3)}\")\n",
    "\n",
    "text = \"The 123 123 123 and 456 456 456 are same.\"\n",
    "pattern = r\"(\\d{3}) \\1 \\1\"\n",
    "matches = re.findall(pattern, text)\n",
    "print(f\"Found repeating groups: {matches}\")"
   ]
  },
  {
   "cell_type": "code",
   "execution_count": null,
   "id": "d6a98cc8-f2ed-4064-9370-438ca72ccc1a",
   "metadata": {},
   "outputs": [],
   "source": []
  },
  {
   "cell_type": "code",
   "execution_count": null,
   "id": "7a9a8a78-c670-4913-8c55-798e137d5331",
   "metadata": {},
   "outputs": [],
   "source": []
  },
  {
   "cell_type": "code",
   "execution_count": 85,
   "id": "1e6ced44-9b7c-4b2c-a227-7c1bc1ca8f39",
   "metadata": {},
   "outputs": [],
   "source": [
    "# re.match"
   ]
  },
  {
   "cell_type": "code",
   "execution_count": 87,
   "id": "cd3091e7-2a27-41a4-8f38-6c25ad703c29",
   "metadata": {},
   "outputs": [
    {
     "name": "stdout",
     "output_type": "stream",
     "text": [
      "Match found: Hello\n"
     ]
    }
   ],
   "source": [
    "import re\n",
    "\n",
    "text = \"Hello World\"\n",
    "pattern = r\"Hello\"\n",
    "\n",
    "match = re.match(pattern, text)\n",
    "if match:\n",
    "    print(f\"Match found: {match.group()}\")\n",
    "else:\n",
    "    print(\"No match found\")\n"
   ]
  },
  {
   "cell_type": "code",
   "execution_count": 89,
   "id": "db80e170-20f9-4230-88f6-02877b48a3f1",
   "metadata": {},
   "outputs": [],
   "source": [
    "# re.search"
   ]
  },
  {
   "cell_type": "code",
   "execution_count": 91,
   "id": "0f9435f2-6d5a-4063-9ac9-4332955359b4",
   "metadata": {},
   "outputs": [
    {
     "name": "stdout",
     "output_type": "stream",
     "text": [
      "Search found: World\n"
     ]
    }
   ],
   "source": [
    "import re\n",
    "\n",
    "text = \"Hello World\"\n",
    "pattern = r\"World\"\n",
    "\n",
    "search = re.search(pattern, text)\n",
    "if search:\n",
    "    print(f\"Search found: {search.group()}\")\n",
    "else:\n",
    "    print(\"No match found\")\n"
   ]
  },
  {
   "cell_type": "code",
   "execution_count": 93,
   "id": "43e25ccc-a29c-4d21-bb38-263b158c1442",
   "metadata": {},
   "outputs": [],
   "source": [
    "# re.findall"
   ]
  },
  {
   "cell_type": "code",
   "execution_count": 95,
   "id": "40cde6b9-4c50-4497-b490-bd54a3253ae2",
   "metadata": {},
   "outputs": [
    {
     "name": "stdout",
     "output_type": "stream",
     "text": [
      "Findall results: ['Cats', 'Cats']\n"
     ]
    }
   ],
   "source": [
    "import re\n",
    "\n",
    "text = \"Cats, Dogs, and Cats\"\n",
    "pattern = r\"Cats\"\n",
    "\n",
    "findall = re.findall(pattern, text)\n",
    "print(f\"Findall results: {findall}\")\n"
   ]
  },
  {
   "cell_type": "code",
   "execution_count": 97,
   "id": "651acc34-ef9e-4eb9-9289-13bf16a45417",
   "metadata": {},
   "outputs": [],
   "source": [
    "# re.finditer"
   ]
  },
  {
   "cell_type": "code",
   "execution_count": 105,
   "id": "5d8e24b5-6d2b-4152-a139-dc97c8e3823d",
   "metadata": {
    "scrolled": true
   },
   "outputs": [
    {
     "name": "stdout",
     "output_type": "stream",
     "text": [
      "Finditer found: Cats at position 0-4\n",
      "Finditer found: Cats at position 16-20\n"
     ]
    }
   ],
   "source": [
    "import re\n",
    "\n",
    "text = \"Cats, Dogs, and Cats\"\n",
    "pattern = r\"Cats\"\n",
    "\n",
    "finditer = re.finditer(pattern, text)\n",
    "for match in finditer:\n",
    "    print(f\"Finditer found: {match.group()} at position {match.start()}-{match.end()}\")\n"
   ]
  },
  {
   "cell_type": "code",
   "execution_count": null,
   "id": "0f1e9e79-4e78-4598-be7d-d73991e3debc",
   "metadata": {},
   "outputs": [],
   "source": []
  },
  {
   "cell_type": "code",
   "execution_count": 101,
   "id": "65841210-0160-4067-bd16-dd15aa10fb6e",
   "metadata": {},
   "outputs": [
    {
     "data": {
      "text/plain": [
       "'re.match: Checks for a match only at the start of the string.\\nre.search: Searches for the first match anywhere in the string.\\nre.findall: Returns all non-overlapping matches as a list of strings.\\nre.finditer: Returns an iterator of match objects for all non-overlapping matches.'"
      ]
     },
     "execution_count": 101,
     "metadata": {},
     "output_type": "execute_result"
    }
   ],
   "source": [
    "'''re.match: Checks for a match only at the start of the string.\n",
    "re.search: Searches for the first match anywhere in the string.\n",
    "re.findall: Returns all non-overlapping matches as a list of strings.\n",
    "re.finditer: Returns an iterator of match objects for all non-overlapping matches.'''"
   ]
  },
  {
   "cell_type": "code",
   "execution_count": null,
   "id": "dd4c1f2c-9ccc-4f60-966a-16df7c9ab716",
   "metadata": {},
   "outputs": [],
   "source": []
  },
  {
   "cell_type": "code",
   "execution_count": null,
   "id": "9e22b7c2-f1dd-48c7-b018-efcfbdae09ba",
   "metadata": {},
   "outputs": [],
   "source": []
  },
  {
   "cell_type": "code",
   "execution_count": 107,
   "id": "ee28bbd0-b3a3-4068-b799-b10ab66fc7d9",
   "metadata": {},
   "outputs": [],
   "source": [
    "# Exercises"
   ]
  },
  {
   "cell_type": "code",
   "execution_count": 111,
   "id": "7a9061a5-dd6f-4dd0-b644-59476f7bae44",
   "metadata": {},
   "outputs": [],
   "source": [
    "# Task: Write a regex pattern to match the word \"Python\" in the given text."
   ]
  },
  {
   "cell_type": "code",
   "execution_count": 113,
   "id": "7acee94c-a7c6-49eb-9a1f-2dd3942891bc",
   "metadata": {},
   "outputs": [],
   "source": [
    "text = \"I am learning Python. Python is great for data science.\""
   ]
  },
  {
   "cell_type": "code",
   "execution_count": 115,
   "id": "7a7c01e2-6b58-40d5-b20e-8b4205f7ecf7",
   "metadata": {},
   "outputs": [],
   "source": [
    "# Finding Email Addresses\n",
    "# Task: Write a regex pattern to extract all email addresses from the given text"
   ]
  },
  {
   "cell_type": "code",
   "execution_count": 117,
   "id": "a018fe4d-8b33-433a-ad23-a673a96554ef",
   "metadata": {},
   "outputs": [],
   "source": [
    "text = \"Please contact us at support@example.com or sales@mycompany.org. You can also reach out to admin@website.net.\""
   ]
  },
  {
   "cell_type": "code",
   "execution_count": 119,
   "id": "d12b6c49-d4ff-41fd-b246-7f8822de1d4f",
   "metadata": {},
   "outputs": [],
   "source": [
    "# Phone Numbers\n",
    "# Task: Write a regex pattern to match US phone numbers in the format (123) 456-7890 or 123-456-7890."
   ]
  },
  {
   "cell_type": "code",
   "execution_count": 121,
   "id": "7b3e6e83-71f0-46ee-b061-9c41f1afa6a8",
   "metadata": {},
   "outputs": [],
   "source": [
    "text = \"Call us at (123) 456-7890 or 987-654-3210. Alternative number: (555) 555-5555.\""
   ]
  },
  {
   "cell_type": "code",
   "execution_count": 123,
   "id": "07fcb276-1e3c-4fcb-be03-f97293af7425",
   "metadata": {},
   "outputs": [],
   "source": [
    "#  Extract Dates\n",
    "# Task: Write a regex pattern to extract dates in the format MM/DD/YYYY from the given text"
   ]
  },
  {
   "cell_type": "code",
   "execution_count": 125,
   "id": "5741d387-43a4-472c-93d7-e85f55af0680",
   "metadata": {},
   "outputs": [],
   "source": [
    "text = \"The event is scheduled for 05/12/2024. Another date to remember is 11/01/2024.\""
   ]
  },
  {
   "cell_type": "code",
   "execution_count": 127,
   "id": "d6c3f66c-2f57-4253-8f5c-f34708439f48",
   "metadata": {},
   "outputs": [],
   "source": [
    "# Validating URLs\n",
    "#Task: Write a regex pattern to validate URLs starting with http:// or https:// and followed by a domain name and optional path."
   ]
  },
  {
   "cell_type": "code",
   "execution_count": 129,
   "id": "71d48062-f801-47de-87a7-288b0187f825",
   "metadata": {},
   "outputs": [],
   "source": [
    "text = \"Visit our site at http://example.com or https://www.example.org/path. Invalid URL: www.example.com\""
   ]
  },
  {
   "cell_type": "code",
   "execution_count": null,
   "id": "4313463a-7e84-4031-bcea-8e7f4d0aa0be",
   "metadata": {},
   "outputs": [],
   "source": []
  },
  {
   "cell_type": "code",
   "execution_count": 131,
   "id": "f9449588-8de3-4819-83ec-e0639661add2",
   "metadata": {},
   "outputs": [],
   "source": [
    "# https://www.w3schools.com/python/python_regex.asp"
   ]
  }
 ],
 "metadata": {
  "kernelspec": {
   "display_name": "Python 3 (ipykernel)",
   "language": "python",
   "name": "python3"
  },
  "language_info": {
   "codemirror_mode": {
    "name": "ipython",
    "version": 3
   },
   "file_extension": ".py",
   "mimetype": "text/x-python",
   "name": "python",
   "nbconvert_exporter": "python",
   "pygments_lexer": "ipython3",
   "version": "3.12.4"
  }
 },
 "nbformat": 4,
 "nbformat_minor": 5
}
