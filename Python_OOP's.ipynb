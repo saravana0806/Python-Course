{
 "cells": [
  {
   "cell_type": "markdown",
   "id": "4afa5c69-51e3-49c9-9c5f-e4d9dc9eefd9",
   "metadata": {},
   "source": [
    "# Object Oriented Programming"
   ]
  },
  {
   "cell_type": "code",
   "execution_count": 6,
   "id": "69c885e9-3c6e-4131-8444-bc356408b58d",
   "metadata": {},
   "outputs": [],
   "source": [
    "# Defining a class and Creating Objects"
   ]
  },
  {
   "cell_type": "code",
   "execution_count": 10,
   "id": "e15939ff-6044-4921-9eb7-dab2ab85cfab",
   "metadata": {},
   "outputs": [],
   "source": [
    "class ClassName:\n",
    "    def __init__(self, attribute1, attribute2):\n",
    "        self.attribute1 = attribute1\n",
    "        self.attribute2 = attribute2\n",
    "    \n",
    "    def method_name(self, parameter):\n",
    "        pass\n"
   ]
  },
  {
   "cell_type": "code",
   "execution_count": 3,
   "id": "3321974c-d129-4a72-bdee-84310931463f",
   "metadata": {},
   "outputs": [
    {
     "name": "stdout",
     "output_type": "stream",
     "text": [
      "My name is Rodger\n",
      "My name is Tommy\n"
     ]
    }
   ],
   "source": [
    "class Dog:\n",
    "\n",
    "    attr1 = \"mammal\"\n",
    "\n",
    "    # Instance attribute\n",
    "    def __init__(self, name):\n",
    "        self.name = name\n",
    "\n",
    "Rodger = Dog(\"Rodger\")\n",
    "Tommy = Dog(\"Tommy\")\n",
    "\n",
    "\n",
    "print(\"My name is {}\".format(Rodger.name))\n",
    "print(\"My name is {}\".format(Tommy.name))"
   ]
  },
  {
   "cell_type": "code",
   "execution_count": 12,
   "id": "d77e9cfd-63e6-441b-9f92-26596e53fd45",
   "metadata": {},
   "outputs": [],
   "source": [
    "class Dog:\n",
    "    def __init__(self, name, age):\n",
    "        self.name = name\n",
    "        self.age = age\n",
    "    \n",
    "    def bark(self):\n",
    "        print(f\"{self.name} is barking!\")\n",
    "\n",
    "# my_dog = Dog(\"Buddy\", 5)"
   ]
  },
  {
   "cell_type": "code",
   "execution_count": null,
   "id": "4d22cbda-5a07-44ec-bdcc-958f45bead19",
   "metadata": {},
   "outputs": [],
   "source": []
  },
  {
   "cell_type": "code",
   "execution_count": null,
   "id": "b947c93d-aa82-475a-bde5-5e8e3db12aa1",
   "metadata": {},
   "outputs": [],
   "source": []
  },
  {
   "cell_type": "code",
   "execution_count": 5,
   "id": "39760f6f-980b-45d2-bec9-859a1427a36b",
   "metadata": {},
   "outputs": [],
   "source": [
    "# Method vs Function"
   ]
  },
  {
   "cell_type": "code",
   "execution_count": 4,
   "id": "6371d7a2-660e-4565-a384-f2cf1b4a6013",
   "metadata": {},
   "outputs": [],
   "source": [
    "def greet(name):\n",
    "    return f\"Hello, {name}!\"\n",
    "\n",
    "class Greeter:\n",
    "    def greet(self, name):\n",
    "        return f\"Hello, {name}!\""
   ]
  },
  {
   "cell_type": "code",
   "execution_count": null,
   "id": "1276d4f7-39c8-4dff-9039-772be73b8dca",
   "metadata": {},
   "outputs": [],
   "source": []
  },
  {
   "cell_type": "code",
   "execution_count": 7,
   "id": "a7b5c965-107b-426b-8812-f3be1a571fe8",
   "metadata": {},
   "outputs": [],
   "source": [
    "#  Classes and Objects"
   ]
  },
  {
   "cell_type": "code",
   "execution_count": 8,
   "id": "86bc2606-987b-40d5-b497-307c0abb8598",
   "metadata": {},
   "outputs": [],
   "source": [
    "# Class\n",
    "class Car:\n",
    "    def __init__(self, model):\n",
    "        self.model = model\n",
    "\n",
    "    def drive(self):\n",
    "        print(f\"The {self.model} is driving.\")\n",
    "\n",
    "# Object\n",
    "my_car = Car(\"Toyota\")"
   ]
  },
  {
   "cell_type": "code",
   "execution_count": null,
   "id": "4706a896-6284-4fa7-b3d6-60d688ff27df",
   "metadata": {},
   "outputs": [],
   "source": []
  },
  {
   "cell_type": "code",
   "execution_count": 17,
   "id": "5153fe1b-5903-4055-b9d6-cbc3c75a1448",
   "metadata": {},
   "outputs": [],
   "source": [
    "# Methods & Attributes"
   ]
  },
  {
   "cell_type": "code",
   "execution_count": 19,
   "id": "aa26dcaa-123f-4bd2-a51e-1df85dc1584e",
   "metadata": {},
   "outputs": [],
   "source": [
    "class Person:\n",
    "    species = \"Homo sapiens\"  # Class attribute\n",
    "\n",
    "    def __init__(self, name):\n",
    "        self.name = name  # Instance attribute\n",
    "    \n",
    "    def greet(self):\n",
    "        print(f\"Hello, my name is {self.name}.\")\n"
   ]
  },
  {
   "cell_type": "code",
   "execution_count": null,
   "id": "62325094-e70c-433d-ac66-c8f8e16a95c4",
   "metadata": {},
   "outputs": [],
   "source": []
  },
  {
   "cell_type": "code",
   "execution_count": null,
   "id": "56a68a7e-e871-4f15-b8e8-7a25df97ca23",
   "metadata": {},
   "outputs": [],
   "source": []
  },
  {
   "cell_type": "code",
   "execution_count": 11,
   "id": "186cc615-1e77-4a73-824f-b65bcb96e8f6",
   "metadata": {},
   "outputs": [],
   "source": [
    "# Instance Attributes vs Class Attributes"
   ]
  },
  {
   "cell_type": "code",
   "execution_count": 11,
   "id": "c1580981-25d0-4179-93a5-80d0428d17d5",
   "metadata": {},
   "outputs": [],
   "source": [
    "class Student:\n",
    "    school = \"XYZ School\"  # Class attribute\n",
    "    \n",
    "    def __init__(self, name, grade):\n",
    "        self.name = name  # Instance attribute\n",
    "        self.grade = grade  # Instance attribute\n",
    "\n",
    "s1 = Student(\"Alice\", \"A\")\n",
    "s2 = Student(\"Bob\", \"B\")\n"
   ]
  },
  {
   "cell_type": "code",
   "execution_count": null,
   "id": "100b8312-df62-47e8-b96c-9d41a935c717",
   "metadata": {},
   "outputs": [],
   "source": []
  },
  {
   "cell_type": "code",
   "execution_count": null,
   "id": "9b625b92-befc-4e5c-9e20-895ab4ca31e2",
   "metadata": {},
   "outputs": [],
   "source": []
  },
  {
   "cell_type": "code",
   "execution_count": 21,
   "id": "8b88e9e9-214e-4c03-8bf7-8f079610d9e0",
   "metadata": {},
   "outputs": [],
   "source": [
    "# Decorators"
   ]
  },
  {
   "cell_type": "code",
   "execution_count": 31,
   "id": "d86ffed2-10d1-444c-9ed4-596d48770d0b",
   "metadata": {},
   "outputs": [],
   "source": [
    "# Class and Static Methods"
   ]
  },
  {
   "cell_type": "code",
   "execution_count": 35,
   "id": "f18c3841-02c7-4b82-978f-850b539a6d5a",
   "metadata": {},
   "outputs": [
    {
     "name": "stdout",
     "output_type": "stream",
     "text": [
      "This is a static method.\n"
     ]
    }
   ],
   "source": [
    "class MyClass:\n",
    "    @staticmethod\n",
    "    def static_method():\n",
    "        print(\"This is a static method.\")\n",
    "\n",
    "MyClass.static_method() "
   ]
  },
  {
   "cell_type": "code",
   "execution_count": 23,
   "id": "f666fa47-f963-4ed6-9685-29e85e1dd770",
   "metadata": {},
   "outputs": [],
   "source": [
    "class MyClass:\n",
    "    class_attribute = \"Class Attribute\"\n",
    "\n",
    "    @classmethod\n",
    "    def class_method(cls):\n",
    "        print(f\"Class method called. Class attribute: {cls.class_attribute}\")\n",
    "\n",
    "    def instance_method(self):\n",
    "        print(\"Instance method called.\")\n"
   ]
  },
  {
   "cell_type": "code",
   "execution_count": 33,
   "id": "71cf76dc-fa73-48eb-aec0-c371cb99ddec",
   "metadata": {},
   "outputs": [],
   "source": [
    "# Class and Static Methods"
   ]
  },
  {
   "cell_type": "code",
   "execution_count": 230,
   "id": "7a09415b-b2dc-48a7-9a16-edd6b7e47102",
   "metadata": {},
   "outputs": [],
   "source": [
    "class Calculator:\n",
    "    @staticmethod\n",
    "    def add(x, y):\n",
    "        return x + y\n",
    "\n",
    "    @classmethod\n",
    "    def description(cls):\n",
    "        return \"This is a Calculator class.\""
   ]
  },
  {
   "cell_type": "code",
   "execution_count": 240,
   "id": "0997bb00-a1f3-4d4a-bd31-f12e500e59d2",
   "metadata": {},
   "outputs": [
    {
     "name": "stdout",
     "output_type": "stream",
     "text": [
      "Celsius: 25\n",
      "Fahrenheit: 77.0\n",
      "32.0\n",
      "0.0\n",
      "Updated Fahrenheit: 79.5\n",
      "1.9\n"
     ]
    }
   ],
   "source": [
    "class Temperature:\n",
    "    _conversion_factor = 1.8  # Class attribute for the conversion factor\n",
    "\n",
    "    def __init__(self, celsius):\n",
    "        self._celsius = celsius\n",
    "\n",
    "    @property\n",
    "    def celsius(self):\n",
    "        return self._celsius\n",
    "\n",
    "    @property\n",
    "    def fahrenheit(self):\n",
    "        return self._celsius * Temperature._conversion_factor + 32\n",
    "\n",
    "    @staticmethod\n",
    "    def celsius_to_fahrenheit(celsius):\n",
    "        \"\"\"Converts Celsius to Fahrenheit using the current conversion factor.\"\"\"\n",
    "        return celsius * Temperature._conversion_factor + 32\n",
    "\n",
    "    @staticmethod\n",
    "    def fahrenheit_to_celsius(fahrenheit):\n",
    "        \"\"\"Converts Fahrenheit to Celsius using the current conversion factor.\"\"\"\n",
    "        return (fahrenheit - 32) / Temperature._conversion_factor\n",
    "\n",
    "    @classmethod\n",
    "    def set_conversion_factor(cls, factor):\n",
    "        \"\"\"Sets the class-level conversion factor.\"\"\"\n",
    "        if factor <= 0:\n",
    "            raise ValueError(\"Conversion factor must be positive\")\n",
    "        cls._conversion_factor = factor\n",
    "\n",
    "    @classmethod\n",
    "    def get_conversion_factor(cls):\n",
    "        \"\"\"Returns the class-level conversion factor.\"\"\"\n",
    "        return cls._conversion_factor\n",
    "\n",
    "temp = Temperature(25)\n",
    "print(f\"Celsius: {temp.celsius}\") \n",
    "print(f\"Fahrenheit: {temp.fahrenheit}\") \n",
    "print(Temperature.celsius_to_fahrenheit(0))  \n",
    "print(Temperature.fahrenheit_to_celsius(32)) \n",
    "Temperature.set_conversion_factor(1.9)\n",
    "print(f\"Updated Fahrenheit: {temp.fahrenheit}\") \n",
    "print(Temperature.get_conversion_factor()) \n"
   ]
  },
  {
   "cell_type": "code",
   "execution_count": null,
   "id": "00599a31-dd8d-4f3b-967d-0b762fcc37fe",
   "metadata": {},
   "outputs": [],
   "source": []
  },
  {
   "cell_type": "code",
   "execution_count": null,
   "id": "bc196ed2-2462-499a-86cc-b7a4e0192d11",
   "metadata": {},
   "outputs": [],
   "source": []
  },
  {
   "cell_type": "code",
   "execution_count": 69,
   "id": "5900149f-66df-498b-bf07-9e58e2715419",
   "metadata": {},
   "outputs": [],
   "source": [
    "# Property method"
   ]
  },
  {
   "cell_type": "code",
   "execution_count": 164,
   "id": "7a66c5df-f373-447c-baa3-e33dd901fd7e",
   "metadata": {},
   "outputs": [
    {
     "name": "stdout",
     "output_type": "stream",
     "text": [
      "42\n"
     ]
    }
   ],
   "source": [
    "class MyClass:\n",
    "    def __init__(self, value):\n",
    "        self._value = value\n",
    "\n",
    "    @property\n",
    "    def value(self):\n",
    "        return self._value\n",
    "\n",
    "obj = MyClass(42)\n",
    "print(obj.value)"
   ]
  },
  {
   "cell_type": "code",
   "execution_count": 170,
   "id": "11330ea1-0b9a-4818-992b-5e0195bbe077",
   "metadata": {},
   "outputs": [
    {
     "name": "stdout",
     "output_type": "stream",
     "text": [
      "5\n",
      "10\n",
      "78.53981633974483\n"
     ]
    }
   ],
   "source": [
    "class Circle:\n",
    "    def __init__(self, radius):\n",
    "        self._radius = radius\n",
    "\n",
    "    @property\n",
    "    def radius(self):\n",
    "        return self._radius\n",
    "\n",
    "    @property\n",
    "    def diameter(self):\n",
    "        return self._radius * 2\n",
    "\n",
    "    @property\n",
    "    def area(self):\n",
    "        import math\n",
    "        return math.pi * (self._radius ** 2)\n",
    "\n",
    "# Usage\n",
    "circle = Circle(5)\n",
    "print(circle.radius)  \n",
    "print(circle.diameter)\n",
    "print(circle.area)"
   ]
  },
  {
   "cell_type": "code",
   "execution_count": null,
   "id": "a98801b3-3de8-4170-9b07-3ced2e63f02b",
   "metadata": {},
   "outputs": [],
   "source": []
  },
  {
   "cell_type": "code",
   "execution_count": null,
   "id": "61bdeefb-0ac4-42fe-b923-c5ae2d088bfd",
   "metadata": {},
   "outputs": [],
   "source": []
  },
  {
   "cell_type": "code",
   "execution_count": null,
   "id": "a0f3ad1d-81b5-4da9-8ba5-06350283b1ae",
   "metadata": {},
   "outputs": [],
   "source": [
    "# Private Attributes and Methods"
   ]
  },
  {
   "cell_type": "code",
   "execution_count": 172,
   "id": "67751b16-7318-435f-b76f-f1dc4aed1b8e",
   "metadata": {},
   "outputs": [],
   "source": [
    "class Example:\n",
    "    def __init__(self, value):\n",
    "        self.__private_value = value  # Private attribute\n",
    "    \n",
    "    def __private_method(self):\n",
    "        return \"This is a private method.\"\n",
    "    \n",
    "    def public_method(self):\n",
    "        return f\"Private value is {self.__private_value}.\"\n"
   ]
  },
  {
   "cell_type": "code",
   "execution_count": null,
   "id": "3a5834bf-1ef3-42d8-b102-25c752934670",
   "metadata": {},
   "outputs": [],
   "source": []
  },
  {
   "cell_type": "code",
   "execution_count": null,
   "id": "0f3fc306-4baf-42d4-8556-42c6f596d57f",
   "metadata": {},
   "outputs": [],
   "source": []
  },
  {
   "cell_type": "code",
   "execution_count": 19,
   "id": "58b090a1-daef-4ac5-a007-dd3509172028",
   "metadata": {},
   "outputs": [],
   "source": [
    "# Static Methods"
   ]
  },
  {
   "cell_type": "code",
   "execution_count": 228,
   "id": "d3d85ff5-8b8d-4e93-9105-555d9a564654",
   "metadata": {},
   "outputs": [],
   "source": [
    "class MathUtils:\n",
    "    @staticmethod\n",
    "    def add(x, y):\n",
    "        return x + y\n",
    "\n",
    "    @staticmethod\n",
    "    def multiply(x, y):\n",
    "        return x * y\n"
   ]
  },
  {
   "cell_type": "code",
   "execution_count": null,
   "id": "9fe6ae96-3381-4900-a6db-35305fb4579b",
   "metadata": {},
   "outputs": [],
   "source": []
  },
  {
   "cell_type": "code",
   "execution_count": null,
   "id": "1f82d4aa-39e7-4fa5-830d-eda5e916db42",
   "metadata": {},
   "outputs": [],
   "source": []
  },
  {
   "cell_type": "code",
   "execution_count": 21,
   "id": "3d20b20c-1193-4514-926d-0d7430115960",
   "metadata": {},
   "outputs": [],
   "source": [
    "# Method Overloading"
   ]
  },
  {
   "cell_type": "code",
   "execution_count": 243,
   "id": "07d16ac2-1585-49a0-87c6-61907024ef8e",
   "metadata": {},
   "outputs": [
    {
     "name": "stdout",
     "output_type": "stream",
     "text": [
      "Hello!\n",
      "Hello, Alice!\n"
     ]
    }
   ],
   "source": [
    "class OverloadExample:\n",
    "    def greet(self, name=None):\n",
    "        if name is None:\n",
    "            print(\"Hello!\")\n",
    "        else:\n",
    "            print(f\"Hello, {name}!\")\n",
    "\n",
    "example = OverloadExample()\n",
    "example.greet()          \n",
    "example.greet(\"Alice\") "
   ]
  },
  {
   "cell_type": "code",
   "execution_count": null,
   "id": "896c1875-83d8-4702-9525-be2bfd5b74af",
   "metadata": {},
   "outputs": [],
   "source": []
  },
  {
   "cell_type": "code",
   "execution_count": null,
   "id": "fb343fcf-aa6d-4969-98c1-15e3f46c5aec",
   "metadata": {},
   "outputs": [],
   "source": []
  },
  {
   "cell_type": "code",
   "execution_count": 23,
   "id": "7a3ba74d-98bb-41e3-978f-d2481dac6307",
   "metadata": {},
   "outputs": [],
   "source": [
    "# Constructors"
   ]
  },
  {
   "cell_type": "code",
   "execution_count": 245,
   "id": "911cc5d8-c8be-4e2a-b04d-029845c88c38",
   "metadata": {},
   "outputs": [
    {
     "name": "stdout",
     "output_type": "stream",
     "text": [
      "My name is John and I am 30 years old.\n"
     ]
    }
   ],
   "source": [
    "class Person:\n",
    "    def __init__(self, name, age):\n",
    "        self.name = name\n",
    "        self.age = age\n",
    "    \n",
    "    def introduce(self):\n",
    "        return f\"My name is {self.name} and I am {self.age} years old.\"\n",
    "\n",
    "p = Person(\"John\", 30)\n",
    "print(p.introduce())\n"
   ]
  },
  {
   "cell_type": "code",
   "execution_count": null,
   "id": "fe0308bc-9f76-4dda-bc87-ce1a1caa1493",
   "metadata": {},
   "outputs": [],
   "source": []
  },
  {
   "cell_type": "code",
   "execution_count": null,
   "id": "234b9804-6a46-4726-9e11-1844d1e30c0a",
   "metadata": {},
   "outputs": [],
   "source": []
  },
  {
   "cell_type": "code",
   "execution_count": 25,
   "id": "9a22a1df-ebd9-4c5a-a39e-5f37d429ff7b",
   "metadata": {},
   "outputs": [],
   "source": [
    "# Inheritance"
   ]
  },
  {
   "cell_type": "code",
   "execution_count": 295,
   "id": "8744f4f8-c46a-4210-b043-40217e6fea3a",
   "metadata": {},
   "outputs": [],
   "source": [
    "class Parent:\n",
    "    def __init__(self, name):\n",
    "        self.name = name\n",
    "    \n",
    "    def greet(self):\n",
    "        return f\"Hello, I am {self.name}.\"\n",
    "\n",
    "class Child(Parent):\n",
    "    def __init__(self, name, age):\n",
    "        super().__init__(name)\n",
    "        self.age = age\n",
    "    \n",
    "    def introduce(self):\n",
    "        return f\"I am {self.name} and I am {self.age} years old.\"\n"
   ]
  },
  {
   "cell_type": "code",
   "execution_count": 297,
   "id": "c2470f57-223e-41d6-a515-084298f304a1",
   "metadata": {},
   "outputs": [
    {
     "name": "stdout",
     "output_type": "stream",
     "text": [
      "Hello, I am Alice.\n",
      "Hello, I am Bob.\n",
      "I am Bob and I am 10 years old.\n"
     ]
    }
   ],
   "source": [
    "# Create an instance of the Parent class\n",
    "parent_instance = Parent(\"Alice\")\n",
    "\n",
    "# Call the greet method on the Parent instance\n",
    "print(parent_instance.greet())  # Output: Hello, I am Alice.\n",
    "\n",
    "# Create an instance of the Child class\n",
    "child_instance = Child(\"Bob\", 10)\n",
    "\n",
    "# Call the greet method inherited from Parent class\n",
    "print(child_instance.greet())  # Output: Hello, I am Bob.\n",
    "\n",
    "# Call the introduce method on the Child instance\n",
    "print(child_instance.introduce())  # Output: I am Bob and I am 10 years old."
   ]
  },
  {
   "cell_type": "code",
   "execution_count": null,
   "id": "19d6bc07-5b3e-48aa-82fc-50c385000f27",
   "metadata": {},
   "outputs": [],
   "source": []
  },
  {
   "cell_type": "code",
   "execution_count": null,
   "id": "1c7e6572-0352-437b-b867-b1098ed5ef2b",
   "metadata": {},
   "outputs": [],
   "source": []
  },
  {
   "cell_type": "code",
   "execution_count": 27,
   "id": "4286b645-9710-4878-90dc-b66d975e6584",
   "metadata": {},
   "outputs": [],
   "source": [
    "# Polymorphism"
   ]
  },
  {
   "cell_type": "code",
   "execution_count": 270,
   "id": "33da6d7c-bb0c-41d2-bae4-cce9aef69de9",
   "metadata": {},
   "outputs": [
    {
     "name": "stdout",
     "output_type": "stream",
     "text": [
      "Woof!\n",
      "Meow!\n"
     ]
    }
   ],
   "source": [
    "class Animal:\n",
    "    def sub(self):\n",
    "        raise NotImplementedError(\"Subclass must implement abstract method.\")\n",
    "\n",
    "class Dog(Animal):\n",
    "    def speak(self):\n",
    "        return \"Woof!\"\n",
    "\n",
    "class Cat(Animal):\n",
    "    def speak(self):\n",
    "        return \"Meow!\"\n",
    "\n",
    "def make_animal_speak(animal):\n",
    "    print(animal.speak())\n",
    "\n",
    "dog = Dog()\n",
    "cat = Cat()\n",
    "\n",
    "make_animal_speak(dog)\n",
    "make_animal_speak(cat)"
   ]
  },
  {
   "cell_type": "code",
   "execution_count": null,
   "id": "1587b84a-a314-4c86-80ae-2149060ddb30",
   "metadata": {},
   "outputs": [],
   "source": []
  },
  {
   "cell_type": "code",
   "execution_count": null,
   "id": "92fc5759-c0d9-472f-95b8-4d029f61ead9",
   "metadata": {},
   "outputs": [],
   "source": []
  },
  {
   "cell_type": "code",
   "execution_count": 277,
   "id": "e658ca05-5d63-4d22-a073-3e747f15d01f",
   "metadata": {},
   "outputs": [],
   "source": [
    "# Combining Inheritance and Polymorphism"
   ]
  },
  {
   "cell_type": "code",
   "execution_count": 273,
   "id": "1d828ae0-747b-4dd7-b9e1-e275fd23fca4",
   "metadata": {},
   "outputs": [
    {
     "name": "stdout",
     "output_type": "stream",
     "text": [
      "Area: 50\n",
      "Area: 153.93804002589985\n"
     ]
    }
   ],
   "source": [
    "class Shape:\n",
    "    def area(self):\n",
    "        raise NotImplementedError(\"Subclass must implement abstract method.\")\n",
    "\n",
    "class Rectangle(Shape):\n",
    "    def __init__(self, width, height):\n",
    "        self.width = width\n",
    "        self.height = height\n",
    "    \n",
    "    def area(self):\n",
    "        return self.width * self.height\n",
    "\n",
    "class Circle(Shape):\n",
    "    def __init__(self, radius):\n",
    "        self.radius = radius\n",
    "    \n",
    "    def area(self):\n",
    "        import math\n",
    "        return math.pi * (self.radius ** 2)\n",
    "\n",
    "shapes = [Rectangle(5, 10), Circle(7)]\n",
    "\n",
    "for shape in shapes:\n",
    "    print(f\"Area: {shape.area()}\")\n"
   ]
  },
  {
   "cell_type": "code",
   "execution_count": 275,
   "id": "c3c2a770-9e75-4204-bcaa-cc675446c409",
   "metadata": {},
   "outputs": [
    {
     "name": "stdout",
     "output_type": "stream",
     "text": [
      "Driving on the road.\n",
      "Pedaling on the bike path.\n"
     ]
    }
   ],
   "source": [
    "class Vehicle:\n",
    "    def move(self):\n",
    "        raise NotImplementedError(\"Subclass must implement abstract method.\")\n",
    "\n",
    "class Car(Vehicle):\n",
    "    def move(self):\n",
    "        return \"Driving on the road.\"\n",
    "\n",
    "class Bicycle(Vehicle):\n",
    "    def move(self):\n",
    "        return \"Pedaling on the bike path.\"\n",
    "\n",
    "# Creating instances of Car and Bicycle\n",
    "vehicles = [Car(), Bicycle()]\n",
    "\n",
    "# Demonstrating polymorphism\n",
    "for vehicle in vehicles:\n",
    "    print(vehicle.move())\n"
   ]
  },
  {
   "cell_type": "code",
   "execution_count": null,
   "id": "8411cb63-bb55-4ed2-a52c-6603c5591378",
   "metadata": {},
   "outputs": [],
   "source": []
  },
  {
   "cell_type": "code",
   "execution_count": null,
   "id": "59c90eb4-e041-401d-88b6-6f712c4e09d3",
   "metadata": {},
   "outputs": [],
   "source": []
  },
  {
   "cell_type": "code",
   "execution_count": 299,
   "id": "b116bbdb-ebc1-4c32-a28f-b89c9ee675d3",
   "metadata": {},
   "outputs": [
    {
     "name": "stdout",
     "output_type": "stream",
     "text": [
      "Car Toyota engine started.\n",
      "Bike Yamaha engine started.\n"
     ]
    }
   ],
   "source": [
    "class Vehicle:\n",
    "    def __init__(self, name):\n",
    "        self.name = name\n",
    "    \n",
    "    def start_engine(self):\n",
    "        raise NotImplementedError(\"Subclass must implement this method.\")\n",
    "\n",
    "class Car(Vehicle):\n",
    "    def start_engine(self):\n",
    "        return f\"Car {self.name} engine started.\"\n",
    "\n",
    "class Bike(Vehicle):\n",
    "    def start_engine(self):\n",
    "        return f\"Bike {self.name} engine started.\"\n",
    "\n",
    "def test_vehicle(vehicle):\n",
    "    print(vehicle.start_engine())\n",
    "\n",
    "# Instantiate concrete classes\n",
    "car = Car(\"Toyota\")\n",
    "bike = Bike(\"Yamaha\")\n",
    "\n",
    "# Demonstrate polymorphism\n",
    "test_vehicle(car)  \n",
    "test_vehicle(bike) \n"
   ]
  },
  {
   "cell_type": "code",
   "execution_count": null,
   "id": "eba469da-e70e-4231-b1df-dace0832a30b",
   "metadata": {},
   "outputs": [],
   "source": []
  },
  {
   "cell_type": "code",
   "execution_count": null,
   "id": "61426fc9-4b91-4806-a511-16400c7a7c7b",
   "metadata": {},
   "outputs": [],
   "source": []
  },
  {
   "cell_type": "code",
   "execution_count": null,
   "id": "22fc35c8-c476-4fb8-b301-974cc4ca99f3",
   "metadata": {},
   "outputs": [],
   "source": []
  },
  {
   "cell_type": "code",
   "execution_count": 32,
   "id": "df8279d6-698b-4486-8ffe-7a00d16edf6e",
   "metadata": {},
   "outputs": [],
   "source": [
    "# Encapsulation"
   ]
  },
  {
   "cell_type": "code",
   "execution_count": 311,
   "id": "0dd2652d-69cb-44e8-b5fb-cd9ddd3a4931",
   "metadata": {},
   "outputs": [
    {
     "name": "stdout",
     "output_type": "stream",
     "text": [
      "1300\n"
     ]
    }
   ],
   "source": [
    "class BankAccount:\n",
    "    def __init__(self, balance):\n",
    "        self.__balance = balance  # Private attribute\n",
    "    \n",
    "    def deposit(self, amount):\n",
    "        if amount > 0:\n",
    "            self.__balance += amount\n",
    "    \n",
    "    def withdraw(self, amount):\n",
    "        if 0 < amount <= self.__balance:\n",
    "            self.__balance -= amount\n",
    "    \n",
    "    def get_balance(self):\n",
    "        return self.__balance\n",
    "\n",
    "account = BankAccount(1000)\n",
    "account.deposit(500)\n",
    "account.withdraw(200)\n",
    "print(account.get_balance())"
   ]
  },
  {
   "cell_type": "code",
   "execution_count": 307,
   "id": "90e77b5e-11cf-494f-85ef-760dd34e903c",
   "metadata": {},
   "outputs": [],
   "source": [
    "# Non-Encapsulated Example"
   ]
  },
  {
   "cell_type": "code",
   "execution_count": 309,
   "id": "b024a70c-b1d7-43c9-ac04-63cb3b2745d0",
   "metadata": {},
   "outputs": [
    {
     "name": "stdout",
     "output_type": "stream",
     "text": [
      "1300\n"
     ]
    }
   ],
   "source": [
    "class SimpleBankAccount:\n",
    "    def __init__(self, balance):\n",
    "        self.balance = balance  # Public attribute\n",
    "    \n",
    "    def deposit(self, amount):\n",
    "        if amount > 0:\n",
    "            self.balance += amount\n",
    "    \n",
    "    def withdraw(self, amount):\n",
    "        if 0 < amount <= self.balance:\n",
    "            self.balance -= amount\n",
    "\n",
    "# Usage\n",
    "account = SimpleBankAccount(1000)\n",
    "account.deposit(500)\n",
    "account.withdraw(200)\n",
    "print(account.balance) "
   ]
  },
  {
   "cell_type": "code",
   "execution_count": null,
   "id": "279a7be1-1bd4-47ac-ae99-e88f2e334db5",
   "metadata": {},
   "outputs": [],
   "source": []
  },
  {
   "cell_type": "code",
   "execution_count": null,
   "id": "e93e6961-64a1-4cbd-87c7-f2f5f6611038",
   "metadata": {},
   "outputs": [],
   "source": []
  },
  {
   "cell_type": "code",
   "execution_count": 44,
   "id": "ba22e654-7b4b-4f43-a8a8-6a76ef1a8818",
   "metadata": {},
   "outputs": [],
   "source": [
    "#  Instance vs. Class Attributes"
   ]
  },
  {
   "cell_type": "code",
   "execution_count": 329,
   "id": "67b07359-97e0-4b5b-a3fa-3e39f8e59591",
   "metadata": {},
   "outputs": [
    {
     "name": "stdout",
     "output_type": "stream",
     "text": [
      "Car 1 color: Red\n",
      "Car 2 color: Blue\n",
      "Number of wheels: 4\n"
     ]
    }
   ],
   "source": [
    "class Car:\n",
    "    number_of_wheels = 4  # Class attribute\n",
    "\n",
    "    def __init__(self, color):\n",
    "        self.color = color  # Instance attribute\n",
    "\n",
    "    def set_color(self, color):\n",
    "        self.color = color\n",
    "\n",
    "    def get_color(self):\n",
    "        return self.color\n",
    "\n",
    "    @classmethod\n",
    "    def display_wheels(cls):\n",
    "        print(f\"Number of wheels: {cls.number_of_wheels}\")\n",
    "\n",
    "# Creating instances of Car\n",
    "car1 = Car(\"Red\")\n",
    "car2 = Car(\"Blue\")\n",
    "\n",
    "# Displaying car information\n",
    "print(f\"Car 1 color: {car1.get_color()}\")\n",
    "print(f\"Car 2 color: {car2.get_color()}\")\n",
    "Car.display_wheels()\n"
   ]
  },
  {
   "cell_type": "code",
   "execution_count": null,
   "id": "46aecd41-bd4a-490e-a185-3776009fa716",
   "metadata": {},
   "outputs": [],
   "source": []
  },
  {
   "cell_type": "code",
   "execution_count": null,
   "id": "e16b4a28-6821-46c3-bae3-7ea8cb24efa6",
   "metadata": {},
   "outputs": [],
   "source": []
  },
  {
   "cell_type": "code",
   "execution_count": 46,
   "id": "6e99665f-2d8d-46b9-a151-c8a99870adf4",
   "metadata": {},
   "outputs": [],
   "source": [
    "# Method Overloading (Simulated)"
   ]
  },
  {
   "cell_type": "code",
   "execution_count": 47,
   "id": "01f6d8ef-107f-4884-8e4f-f4bf3e505c33",
   "metadata": {},
   "outputs": [
    {
     "name": "stdout",
     "output_type": "stream",
     "text": [
      "Area of rect1: 50\n",
      "Area of rect2: 49\n"
     ]
    }
   ],
   "source": [
    "class Rectangle:\n",
    "    def __init__(self, width, height=None):\n",
    "        self.width = width\n",
    "        self.height = height if height else width  # Handle square case\n",
    "\n",
    "    def area(self):\n",
    "        return self.width * self.height\n",
    "\n",
    "# Creating instances of Rectangle\n",
    "rect1 = Rectangle(5, 10)  # Rectangle with width and height\n",
    "rect2 = Rectangle(7)      # Square with width equal to height\n",
    "\n",
    "# Displaying areas\n",
    "print(f\"Area of rect1: {rect1.area()}\")\n",
    "print(f\"Area of rect2: {rect2.area()}\")\n"
   ]
  },
  {
   "cell_type": "code",
   "execution_count": null,
   "id": "0312da33-1f06-420c-b4e5-74214c42cf66",
   "metadata": {},
   "outputs": [],
   "source": []
  },
  {
   "cell_type": "code",
   "execution_count": null,
   "id": "6e6837f2-30a0-4075-88f9-c6801c78a9de",
   "metadata": {},
   "outputs": [],
   "source": []
  },
  {
   "cell_type": "code",
   "execution_count": 42,
   "id": "5cfe0012-73bc-4f6c-b553-e9751da3efbb",
   "metadata": {},
   "outputs": [],
   "source": [
    "# Defining Classes and Creating Objects"
   ]
  },
  {
   "cell_type": "code",
   "execution_count": 43,
   "id": "706addab-be6c-4893-85d2-8ec118400195",
   "metadata": {},
   "outputs": [
    {
     "name": "stdout",
     "output_type": "stream",
     "text": [
      "Title: 1984, Author: George Orwell, Year: 1949\n",
      "Title: To Kill a Mockingbird, Author: Harper Lee, Year: 1960\n"
     ]
    }
   ],
   "source": [
    "class Book:\n",
    "    def __init__(self, title, author, year):\n",
    "        self.title = title\n",
    "        self.author = author\n",
    "        self.year = year\n",
    "\n",
    "    def display_info(self):\n",
    "        print(f\"Title: {self.title}, Author: {self.author}, Year: {self.year}\")\n",
    "\n",
    "# Creating instances of Book\n",
    "book1 = Book(\"1984\", \"George Orwell\", 1949)\n",
    "book2 = Book(\"To Kill a Mockingbird\", \"Harper Lee\", 1960)\n",
    "\n",
    "# Displaying book information\n",
    "book1.display_info()\n",
    "book2.display_info()\n"
   ]
  },
  {
   "cell_type": "code",
   "execution_count": null,
   "id": "a92ae3b9-b163-47fe-aecc-533b1e7c81f4",
   "metadata": {},
   "outputs": [],
   "source": []
  },
  {
   "cell_type": "code",
   "execution_count": null,
   "id": "2dd5b5dd-5b6d-4672-931b-023288c62d4c",
   "metadata": {},
   "outputs": [],
   "source": []
  },
  {
   "cell_type": "code",
   "execution_count": 335,
   "id": "673b8a9a-fad6-4f6e-a39b-6bc071dc5ac5",
   "metadata": {},
   "outputs": [],
   "source": [
    "# Creating Decorators"
   ]
  },
  {
   "cell_type": "code",
   "execution_count": 337,
   "id": "71bc7d52-7dad-4afc-b60e-98368eea675b",
   "metadata": {},
   "outputs": [
    {
     "name": "stdout",
     "output_type": "stream",
     "text": [
      "Something is happening before the function is called.\n",
      "Hello!\n",
      "Something is happening after the function is called.\n"
     ]
    }
   ],
   "source": [
    "def simple_decorator(func):\n",
    "    def wrapper():\n",
    "        print(\"Something is happening before the function is called.\")\n",
    "        func()\n",
    "        print(\"Something is happening after the function is called.\")\n",
    "    return wrapper\n",
    "\n",
    "@simple_decorator\n",
    "def say_hello():\n",
    "    print(\"Hello!\")\n",
    "\n",
    "say_hello()"
   ]
  },
  {
   "cell_type": "code",
   "execution_count": 339,
   "id": "7793681f-ead8-46d1-a394-c04b071f5c7c",
   "metadata": {},
   "outputs": [],
   "source": [
    "# Decorators with Arguments"
   ]
  },
  {
   "cell_type": "code",
   "execution_count": 341,
   "id": "632b0338-d9da-47d8-963c-8184c874e984",
   "metadata": {},
   "outputs": [
    {
     "name": "stdout",
     "output_type": "stream",
     "text": [
      "Hello, Alice!\n",
      "Hello, Alice!\n",
      "Hello, Alice!\n"
     ]
    }
   ],
   "source": [
    "def repeat(num_times):\n",
    "    def decorator_repeat(func):\n",
    "        def wrapper(*args, **kwargs):\n",
    "            for _ in range(num_times):\n",
    "                func(*args, **kwargs)\n",
    "        return wrapper\n",
    "    return decorator_repeat\n",
    "\n",
    "@repeat(num_times=3)\n",
    "def greet(name):\n",
    "    print(f\"Hello, {name}!\")\n",
    "\n",
    "greet(\"Alice\")\n"
   ]
  },
  {
   "cell_type": "code",
   "execution_count": 56,
   "id": "47ca661a-b6a9-449a-8934-a16c96844eb8",
   "metadata": {},
   "outputs": [],
   "source": [
    "# Decorators with Arguments and Return Values"
   ]
  },
  {
   "cell_type": "code",
   "execution_count": 343,
   "id": "72c00fe9-b79a-45ae-8b0d-e81a586d14ca",
   "metadata": {},
   "outputs": [
    {
     "name": "stdout",
     "output_type": "stream",
     "text": [
      "Function long_running_function took 2.0009 seconds to execute\n",
      "Finished\n"
     ]
    }
   ],
   "source": [
    "import time\n",
    "\n",
    "def timing_decorator(func):\n",
    "    def wrapper(*args, **kwargs):\n",
    "        start_time = time.time()\n",
    "        result = func(*args, **kwargs)\n",
    "        end_time = time.time()\n",
    "        print(f\"Function {func.__name__} took {end_time - start_time:.4f} seconds to execute\")\n",
    "        return result\n",
    "    return wrapper\n",
    "\n",
    "@timing_decorator\n",
    "def long_running_function(seconds):\n",
    "    time.sleep(seconds)\n",
    "    return \"Finished\"\n",
    "\n",
    "print(long_running_function(2))"
   ]
  },
  {
   "cell_type": "code",
   "execution_count": 58,
   "id": "fedd0fbc-6fc5-4f6c-b7c5-4e9b5a55cc36",
   "metadata": {},
   "outputs": [],
   "source": [
    "# Logging decorators"
   ]
  },
  {
   "cell_type": "code",
   "execution_count": 345,
   "id": "105aff06-e81a-452d-914d-90a16b5b7fba",
   "metadata": {},
   "outputs": [
    {
     "name": "stdout",
     "output_type": "stream",
     "text": [
      "Calling function 'add' with arguments (5, 3) and keyword arguments {}\n",
      "Function 'add' returned 8\n",
      "Add result: 8\n",
      "Calling function 'greet' with arguments ('Alice',) and keyword arguments {'greeting': 'Hi'}\n",
      "Function 'greet' returned Hi, Alice!\n",
      "Greet result: Hi, Alice!\n"
     ]
    }
   ],
   "source": [
    "import functools\n",
    "\n",
    "def log_function_call(func):\n",
    "    @functools.wraps(func)\n",
    "    def wrapper(*args, **kwargs):\n",
    "        # Log function call details\n",
    "        print(f\"Calling function '{func.__name__}' with arguments {args} and keyword arguments {kwargs}\")\n",
    "        result = func(*args, **kwargs)\n",
    "        # Log function return value\n",
    "        print(f\"Function '{func.__name__}' returned {result}\")\n",
    "        return result\n",
    "    return wrapper\n",
    "\n",
    "# Applying the decorator to a function\n",
    "@log_function_call\n",
    "def add(a, b):\n",
    "    return a + b\n",
    "\n",
    "@log_function_call\n",
    "def greet(name, greeting=\"Hello\"):\n",
    "    return f\"{greeting}, {name}!\"\n",
    "\n",
    "# Testing the decorated functions\n",
    "add_result = add(5, 3)\n",
    "print(f\"Add result: {add_result}\")\n",
    "\n",
    "greet_result = greet(\"Alice\", greeting=\"Hi\")\n",
    "print(f\"Greet result: {greet_result}\")"
   ]
  },
  {
   "cell_type": "code",
   "execution_count": null,
   "id": "37fa9d49-39e0-483a-a83d-bfbc11656029",
   "metadata": {},
   "outputs": [],
   "source": []
  },
  {
   "cell_type": "code",
   "execution_count": null,
   "id": "c8d19c6a-b204-40bf-bccc-5bb2fcf955df",
   "metadata": {},
   "outputs": [],
   "source": []
  },
  {
   "cell_type": "code",
   "execution_count": null,
   "id": "2b311846-5201-4731-855c-d9ee0266314d",
   "metadata": {},
   "outputs": [],
   "source": []
  },
  {
   "cell_type": "code",
   "execution_count": null,
   "id": "8d9530b0-5d78-4d1b-a284-8a37316995a7",
   "metadata": {},
   "outputs": [],
   "source": []
  },
  {
   "cell_type": "code",
   "execution_count": 34,
   "id": "0baf920d-0c74-4077-ae14-866eb0f9dc25",
   "metadata": {},
   "outputs": [],
   "source": [
    "# Introduction to Database Operations ​"
   ]
  },
  {
   "cell_type": "code",
   "execution_count": null,
   "id": "801d89d1-29cb-4e43-99e8-45dcd15ea612",
   "metadata": {},
   "outputs": [],
   "source": [
    "pip install mysql-connector-python"
   ]
  },
  {
   "cell_type": "code",
   "execution_count": null,
   "id": "2d9fb06a-acac-49fa-91c8-6e99415908b5",
   "metadata": {},
   "outputs": [],
   "source": [
    "import mysql.connector\n",
    "\n",
    "# Establish a connection to the database\n",
    "connection = mysql.connector.connect(\n",
    "    host=\"localhost\",\n",
    "    user=\"your_username\",\n",
    "    password=\"your_password\",\n",
    "    database=\"your_database\"\n",
    ")\n",
    "\n",
    "# Check if the connection is successful\n",
    "if connection.is_connected():\n",
    "    print(\"Connected to MySQL database\")\n"
   ]
  },
  {
   "cell_type": "code",
   "execution_count": null,
   "id": "db611bb7-ec8c-4785-a557-6faccf1a5da4",
   "metadata": {},
   "outputs": [],
   "source": [
    "# Create database"
   ]
  },
  {
   "cell_type": "code",
   "execution_count": null,
   "id": "787eabe2-d460-4488-a6a4-fbefdd1e7fcb",
   "metadata": {},
   "outputs": [],
   "source": [
    "CREATE DATABASE mydatabase;\n",
    "\n",
    "cursor = connection.cursor()\n",
    "cursor.execute(\"CREATE DATABASE mydatabase\")\n",
    "print(\"Database created successfully\")\n"
   ]
  },
  {
   "cell_type": "code",
   "execution_count": 35,
   "id": "e5df99a5-6c8c-4732-b4d6-0172648a6d6b",
   "metadata": {},
   "outputs": [],
   "source": [
    "# Creating table "
   ]
  },
  {
   "cell_type": "code",
   "execution_count": null,
   "id": "a58ac164-d599-4794-a918-8bcd5a753540",
   "metadata": {},
   "outputs": [],
   "source": [
    "CREATE TABLE users (\n",
    "    id INT AUTO_INCREMENT PRIMARY KEY,\n",
    "    name VARCHAR(255) NOT NULL,\n",
    "    email VARCHAR(255) UNIQUE NOT NULL,\n",
    "    age INT\n",
    ");"
   ]
  },
  {
   "cell_type": "code",
   "execution_count": null,
   "id": "c5b62c84-240a-405e-98e1-8b1f543768aa",
   "metadata": {},
   "outputs": [],
   "source": [
    "cursor = connection.cursor()\n",
    "cursor.execute(\"\"\"\n",
    "    CREATE TABLE users (\n",
    "        id INT AUTO_INCREMENT PRIMARY KEY,\n",
    "        name VARCHAR(255) NOT NULL,\n",
    "        email VARCHAR(255) UNIQUE NOT NULL,\n",
    "        age INT\n",
    "    )\n",
    "\"\"\")\n",
    "print(\"Table created successfully\")\n"
   ]
  },
  {
   "cell_type": "code",
   "execution_count": 37,
   "id": "d5f6ba38-eace-4e70-b151-2a7282fda499",
   "metadata": {},
   "outputs": [],
   "source": [
    "# Performing SQL Operations in MySQL"
   ]
  },
  {
   "cell_type": "code",
   "execution_count": null,
   "id": "c51c1a63-906c-4694-9915-42e50c893f17",
   "metadata": {},
   "outputs": [],
   "source": [
    "cursor = connection.cursor()\n",
    "cursor.execute(\"\"\"\n",
    "    INSERT INTO users (name, email, age)\n",
    "    VALUES (%s, %s, %s)\n",
    "\"\"\", (\"John Doe\", \"john@example.com\", 30))\n",
    "connection.commit()\n",
    "print(\"Data inserted successfully\")\n"
   ]
  },
  {
   "cell_type": "code",
   "execution_count": null,
   "id": "6da7a72d-bd5d-46be-b6b3-b28a14acf45d",
   "metadata": {},
   "outputs": [],
   "source": [
    "cursor = connection.cursor()\n",
    "cursor.execute(\"SELECT * FROM users\")\n",
    "for row in cursor.fetchall():\n",
    "    print(row)\n"
   ]
  },
  {
   "cell_type": "code",
   "execution_count": null,
   "id": "d235c6ec-913a-4aa5-bd06-434c47eea10e",
   "metadata": {},
   "outputs": [],
   "source": [
    "cursor = connection.cursor()\n",
    "cursor.execute(\"\"\"\n",
    "    UPDATE users\n",
    "    SET age = %s\n",
    "    WHERE name = %s\n",
    "\"\"\", (31, \"John Doe\"))\n",
    "connection.commit()\n",
    "print(\"Data updated successfully\")\n"
   ]
  },
  {
   "cell_type": "code",
   "execution_count": null,
   "id": "a15aae54-7bdb-48c1-a4f8-f65cdd6c502e",
   "metadata": {},
   "outputs": [],
   "source": [
    "cursor = connection.cursor()\n",
    "cursor.execute(\"DELETE FROM users WHERE name = %s\", (\"John Doe\",))\n",
    "connection.commit()\n",
    "print(\"Data deleted successfully\")\n"
   ]
  },
  {
   "cell_type": "code",
   "execution_count": null,
   "id": "3a51a053-25ac-4d39-9ee2-07726d19c407",
   "metadata": {},
   "outputs": [],
   "source": []
  },
  {
   "cell_type": "code",
   "execution_count": null,
   "id": "d914a525-af44-4e70-866d-bb0b6cf5ef06",
   "metadata": {},
   "outputs": [],
   "source": []
  },
  {
   "cell_type": "code",
   "execution_count": 38,
   "id": "26c520dc-5b14-4e02-a162-faeda114784c",
   "metadata": {},
   "outputs": [],
   "source": [
    "# Connect to Oracle Database"
   ]
  },
  {
   "cell_type": "code",
   "execution_count": null,
   "id": "966e7bf5-4a27-476c-94f2-e4ead806e5bc",
   "metadata": {},
   "outputs": [],
   "source": [
    "pip install cx_Oracle"
   ]
  },
  {
   "cell_type": "code",
   "execution_count": null,
   "id": "47e345d1-b7a5-4452-84ac-bb660063b55e",
   "metadata": {},
   "outputs": [],
   "source": [
    "import cx_Oracle\n",
    "\n",
    "# Establish a connection to the database\n",
    "connection = cx_Oracle.connect(\n",
    "    user=\"your_username\",\n",
    "    password=\"your_password\",\n",
    "    dsn=\"localhost/orclpdb\"\n",
    ")\n",
    "\n",
    "# Check if the connection is successful\n",
    "print(\"Connected to Oracle database\")\n"
   ]
  },
  {
   "cell_type": "code",
   "execution_count": 39,
   "id": "40097115-4d89-4ed9-aa8d-49e6e2b302f9",
   "metadata": {},
   "outputs": [],
   "source": [
    "# Create database"
   ]
  },
  {
   "cell_type": "code",
   "execution_count": null,
   "id": "54457d32-725f-4f05-b1e5-ade0daa37d01",
   "metadata": {},
   "outputs": [],
   "source": [
    "CREATE USER myuser IDENTIFIED BY mypassword;\n",
    "GRANT CONNECT, RESOURCE TO myuser;"
   ]
  },
  {
   "cell_type": "code",
   "execution_count": 40,
   "id": "91221dd7-579d-4b3d-be73-2ef2d798626d",
   "metadata": {},
   "outputs": [],
   "source": [
    "# Crate table"
   ]
  },
  {
   "cell_type": "code",
   "execution_count": null,
   "id": "f62f1cb0-cf4a-422e-8b18-9240d1f6f756",
   "metadata": {},
   "outputs": [],
   "source": [
    "CREATE TABLE users (\n",
    "    id NUMBER GENERATED BY DEFAULT AS IDENTITY PRIMARY KEY,\n",
    "    name VARCHAR2(255) NOT NULL,\n",
    "    email VARCHAR2(255) UNIQUE NOT NULL,\n",
    "    age NUMBER\n",
    ");"
   ]
  },
  {
   "cell_type": "code",
   "execution_count": null,
   "id": "f58cfe04-9417-49a8-ac2e-e49df623a3de",
   "metadata": {},
   "outputs": [],
   "source": [
    "cursor = connection.cursor()\n",
    "cursor.execute(\"\"\"\n",
    "    CREATE TABLE users (\n",
    "        id NUMBER GENERATED BY DEFAULT AS IDENTITY PRIMARY KEY,\n",
    "        name VARCHAR2(255) NOT NULL,\n",
    "        email VARCHAR2(255) UNIQUE NOT NULL,\n",
    "        age NUMBER\n",
    "    )\n",
    "\"\"\")\n",
    "print(\"Table created successfully\")\n"
   ]
  },
  {
   "cell_type": "code",
   "execution_count": 41,
   "id": "c16468b6-c15b-498b-bf60-4318242386be",
   "metadata": {},
   "outputs": [],
   "source": [
    "# Performing SQL Operations in Oracle"
   ]
  },
  {
   "cell_type": "code",
   "execution_count": null,
   "id": "3a14e9fb-a843-4275-8ed4-0851bfdef678",
   "metadata": {},
   "outputs": [],
   "source": [
    "cursor = connection.cursor()\n",
    "cursor.execute(\"\"\"\n",
    "    INSERT INTO users (name, email, age)\n",
    "    VALUES (:name, :email, :age)\n",
    "\"\"\", {\"name\": \"John Doe\", \"email\": \"john@example.com\", \"age\": 30})\n",
    "connection.commit()\n",
    "print(\"Data inserted successfully\")\n"
   ]
  },
  {
   "cell_type": "code",
   "execution_count": null,
   "id": "1963afcb-50f2-491c-87b2-a8733d40ac67",
   "metadata": {},
   "outputs": [],
   "source": [
    "cursor = connection.cursor()\n",
    "cursor.execute(\"SELECT * FROM users\")\n",
    "for row in cursor.fetchall():\n",
    "    print(row)\n"
   ]
  },
  {
   "cell_type": "code",
   "execution_count": null,
   "id": "071df36c-d37d-4b8f-b6d7-c4266f458411",
   "metadata": {},
   "outputs": [],
   "source": [
    "cursor = connection.cursor()\n",
    "cursor.execute(\"\"\"\n",
    "    UPDATE users\n",
    "    SET age = :age\n",
    "    WHERE name = :name\n",
    "\"\"\", {\"age\": 31, \"name\": \"John Doe\"})\n",
    "connection.commit()\n",
    "print(\"Data updated successfully\")\n"
   ]
  },
  {
   "cell_type": "code",
   "execution_count": null,
   "id": "b8e49f09-f60d-4106-aa3f-2dc46b2ad420",
   "metadata": {},
   "outputs": [],
   "source": [
    "cursor = connection.cursor()\n",
    "cursor.execute(\"DELETE FROM users WHERE name = :name\", {\"name\": \"John Doe\"})\n",
    "connection.commit()\n",
    "print(\"Data deleted successfully\")\n"
   ]
  },
  {
   "cell_type": "code",
   "execution_count": null,
   "id": "116a4d8f-7d18-48f6-b898-7d9b63ae7f21",
   "metadata": {},
   "outputs": [],
   "source": []
  },
  {
   "cell_type": "code",
   "execution_count": null,
   "id": "30f13eb9-8367-407a-985c-cb87c1d2a95e",
   "metadata": {},
   "outputs": [],
   "source": []
  },
  {
   "cell_type": "code",
   "execution_count": 347,
   "id": "18484242-eec2-4a5d-80c5-1158e9a99030",
   "metadata": {},
   "outputs": [],
   "source": [
    "# Multithreading"
   ]
  },
  {
   "cell_type": "code",
   "execution_count": 349,
   "id": "597ac6f3-e9a2-4841-b687-9a33235d890d",
   "metadata": {},
   "outputs": [
    {
     "name": "stdout",
     "output_type": "stream",
     "text": [
      "Number: 0\n",
      "Letter: a\n",
      "Letter: bNumber: 1\n",
      "\n",
      "Letter: cNumber: 2\n",
      "\n",
      "Letter: dNumber: 3\n",
      "\n",
      "Letter: eNumber: 4\n",
      "\n"
     ]
    }
   ],
   "source": [
    "import threading\n",
    "import time\n",
    "\n",
    "def print_numbers():\n",
    "    for i in range(5):\n",
    "        print(f\"Number: {i}\")\n",
    "        time.sleep(1)\n",
    "\n",
    "def print_letters():\n",
    "    for letter in 'abcde':\n",
    "        print(f\"Letter: {letter}\")\n",
    "        time.sleep(1)\n",
    "\n",
    "# Creating threads\n",
    "thread1 = threading.Thread(target=print_numbers)\n",
    "thread2 = threading.Thread(target=print_letters)\n",
    "\n",
    "# Starting threads\n",
    "thread1.start()\n",
    "thread2.start()\n",
    "\n",
    "# Wait for threads to complete\n",
    "thread1.join()\n",
    "thread2.join()"
   ]
  },
  {
   "cell_type": "code",
   "execution_count": 367,
   "id": "00999edf-bf4f-424a-9b6e-b53f01b74962",
   "metadata": {},
   "outputs": [],
   "source": [
    "# Sleep"
   ]
  },
  {
   "cell_type": "code",
   "execution_count": 369,
   "id": "c54fd110-66cc-44ac-8513-fd02eb61f56b",
   "metadata": {},
   "outputs": [
    {
     "name": "stdout",
     "output_type": "stream",
     "text": [
      "Task started\n",
      "Daemon thread running...\n",
      "Daemon thread running...\n",
      "Task ended\n"
     ]
    }
   ],
   "source": [
    "import threading\n",
    "import time\n",
    "\n",
    "def task():\n",
    "    print(\"Task started\")\n",
    "    time.sleep(2)\n",
    "    print(\"Task ended\")\n",
    "\n",
    "thread = threading.Thread(target=task)\n",
    "thread.start()\n",
    "thread.join()"
   ]
  },
  {
   "cell_type": "code",
   "execution_count": 351,
   "id": "9eb6e249-bc64-4375-87d1-afa89e45a02d",
   "metadata": {},
   "outputs": [],
   "source": [
    "# Checking if a thread is alive"
   ]
  },
  {
   "cell_type": "code",
   "execution_count": 371,
   "id": "95ff7ec7-fd79-4921-a53c-225b31303011",
   "metadata": {},
   "outputs": [
    {
     "name": "stdout",
     "output_type": "stream",
     "text": [
      "Thread is still running...\n",
      "Daemon thread running...\n",
      "Thread is still running...\n",
      "Thread is still running...\n",
      "Daemon thread running...\n",
      "Thread is still running...\n",
      "Task completedThread is still running...\n",
      "\n",
      "Daemon thread running...\n",
      "Thread has finished.\n"
     ]
    }
   ],
   "source": [
    "import threading\n",
    "import time\n",
    "\n",
    "def task():\n",
    "    time.sleep(2)\n",
    "    print(\"Task completed\")\n",
    "\n",
    "thread = threading.Thread(target=task)\n",
    "thread.start()\n",
    "\n",
    "while thread.is_alive():\n",
    "    print(\"Thread is still running...\")\n",
    "    time.sleep(0.5)\n",
    "\n",
    "print(\"Thread has finished.\")"
   ]
  },
  {
   "cell_type": "code",
   "execution_count": 355,
   "id": "037ac548-1bc6-4553-89ff-c003e49c6aa3",
   "metadata": {},
   "outputs": [],
   "source": [
    "# Inter thread commnunication with query"
   ]
  },
  {
   "cell_type": "code",
   "execution_count": 357,
   "id": "4edcd50d-f4f2-49b0-90c7-4f06885fcaa9",
   "metadata": {},
   "outputs": [
    {
     "name": "stdout",
     "output_type": "stream",
     "text": [
      "Produced 0\n",
      "Produced 1\n",
      "Produced 2\n",
      "Produced 3\n",
      "Produced 4\n",
      "Consumed 0\n",
      "Consumed 1\n",
      "Consumed 2\n",
      "Consumed 3\n",
      "Consumed 4\n"
     ]
    }
   ],
   "source": [
    "import threading\n",
    "import queue\n",
    "\n",
    "def producer(q):\n",
    "    for i in range(5):\n",
    "        q.put(i)\n",
    "        print(f\"Produced {i}\")\n",
    "\n",
    "def consumer(q):\n",
    "    while True:\n",
    "        item = q.get()\n",
    "        if item is None:\n",
    "            break\n",
    "        print(f\"Consumed {item}\")\n",
    "\n",
    "q = queue.Queue()\n",
    "t1 = threading.Thread(target=producer, args=(q,))\n",
    "t2 = threading.Thread(target=consumer, args=(q,))\n",
    "\n",
    "t1.start()\n",
    "t2.start()\n",
    "\n",
    "t1.join()\n",
    "q.put(None)  # Signal the consumer to exit\n",
    "t2.join()"
   ]
  },
  {
   "cell_type": "code",
   "execution_count": 361,
   "id": "15b59634-4e34-40d0-9ea2-713888e8fc26",
   "metadata": {},
   "outputs": [
    {
     "name": "stdout",
     "output_type": "stream",
     "text": [
      "Current thread: Thread-11 (print_current_thread)\n"
     ]
    }
   ],
   "source": [
    "import threading\n",
    "\n",
    "def print_current_thread():\n",
    "    current_thread = threading.current_thread()\n",
    "    print(f\"Current thread: {current_thread.name}\")\n",
    "\n",
    "thread = threading.Thread(target=print_current_thread)\n",
    "thread.start()\n",
    "thread.join()"
   ]
  },
  {
   "cell_type": "code",
   "execution_count": 363,
   "id": "f54ffc3b-a931-474a-b262-5ad81253d85f",
   "metadata": {},
   "outputs": [],
   "source": [
    "# Deamon Thread"
   ]
  },
  {
   "cell_type": "code",
   "execution_count": 365,
   "id": "b683f6c2-2747-417e-a780-90d6b8360ffb",
   "metadata": {},
   "outputs": [
    {
     "name": "stdout",
     "output_type": "stream",
     "text": [
      "Daemon thread running...\n",
      "Daemon thread running...\n",
      "Daemon thread running...\n",
      "Main thread exiting.\n",
      "Daemon thread running...\n"
     ]
    }
   ],
   "source": [
    "import threading\n",
    "import time\n",
    "\n",
    "def background_task():\n",
    "    while True:\n",
    "        print(\"Daemon thread running...\")\n",
    "        time.sleep(1)\n",
    "\n",
    "daemon_thread = threading.Thread(target=background_task, daemon=True)\n",
    "daemon_thread.start()\n",
    "\n",
    "time.sleep(3)\n",
    "print(\"Main thread exiting.\")"
   ]
  },
  {
   "cell_type": "code",
   "execution_count": null,
   "id": "59caa392-997d-45b0-bd7c-16a89c882d69",
   "metadata": {},
   "outputs": [],
   "source": []
  },
  {
   "cell_type": "code",
   "execution_count": null,
   "id": "f79cb847-6504-43f2-b4c0-2e65f26c2acf",
   "metadata": {},
   "outputs": [],
   "source": []
  },
  {
   "cell_type": "code",
   "execution_count": 373,
   "id": "290c415a-450c-4226-99c7-5e127c0899a5",
   "metadata": {},
   "outputs": [],
   "source": [
    "# Multiprocessing"
   ]
  },
  {
   "cell_type": "code",
   "execution_count": 375,
   "id": "e01810b2-8915-495f-be7e-38d0f84e15db",
   "metadata": {},
   "outputs": [
    {
     "name": "stdout",
     "output_type": "stream",
     "text": [
      "Daemon thread running...\n",
      "All processes completed.\n"
     ]
    }
   ],
   "source": [
    "import multiprocessing\n",
    "import time\n",
    "\n",
    "def print_numbers():\n",
    "    for i in range(5):\n",
    "        print(f\"Number: {i}\")\n",
    "        time.sleep(1)\n",
    "\n",
    "def print_letters():\n",
    "    for letter in 'abcde':\n",
    "        print(f\"Letter: {letter}\")\n",
    "        time.sleep(1)\n",
    "\n",
    "# Create processes\n",
    "process1 = multiprocessing.Process(target=print_numbers)\n",
    "process2 = multiprocessing.Process(target=print_letters)\n",
    "\n",
    "# Start processes\n",
    "process1.start()\n",
    "process2.start()\n",
    "\n",
    "# Wait for processes to complete\n",
    "process1.join()\n",
    "process2.join()\n",
    "\n",
    "print(\"All processes completed.\")\n"
   ]
  },
  {
   "cell_type": "code",
   "execution_count": 377,
   "id": "57d3fa42-0e87-4d39-840a-459a254ab562",
   "metadata": {},
   "outputs": [],
   "source": [
    "# sleep "
   ]
  },
  {
   "cell_type": "code",
   "execution_count": 379,
   "id": "098d65c8-8253-474e-a365-0cb7f9edea9a",
   "metadata": {},
   "outputs": [],
   "source": [
    "import multiprocessing\n",
    "import time\n",
    "\n",
    "def task():\n",
    "    print(\"Task started\")\n",
    "    time.sleep(2)\n",
    "    print(\"Task ended\")\n",
    "\n",
    "process = multiprocessing.Process(target=task)\n",
    "process.start()\n",
    "process.join()\n"
   ]
  },
  {
   "cell_type": "code",
   "execution_count": 385,
   "id": "0c25f2e7-e7db-4125-9ff0-87f9980d8160",
   "metadata": {},
   "outputs": [],
   "source": [
    "# Check if Processes are Alive"
   ]
  },
  {
   "cell_type": "code",
   "execution_count": 387,
   "id": "c4c9a7ea-4957-4e1c-8c56-153ec8b29355",
   "metadata": {},
   "outputs": [
    {
     "name": "stdout",
     "output_type": "stream",
     "text": [
      "Process is still running...\n",
      "Daemon thread running...\n",
      "Process has finished.\n"
     ]
    }
   ],
   "source": [
    "import multiprocessing\n",
    "import time\n",
    "\n",
    "def task():\n",
    "    time.sleep(2)\n",
    "    print(\"Task completed\")\n",
    "\n",
    "process = multiprocessing.Process(target=task)\n",
    "process.start()\n",
    "\n",
    "while process.is_alive():\n",
    "    print(\"Process is still running...\")\n",
    "    time.sleep(0.5)\n",
    "\n",
    "print(\"Process has finished.\")\n"
   ]
  },
  {
   "cell_type": "code",
   "execution_count": null,
   "id": "b8db39b8-e1fd-4265-83e5-71e95fc2fc49",
   "metadata": {},
   "outputs": [],
   "source": []
  },
  {
   "cell_type": "code",
   "execution_count": 389,
   "id": "08bfc601-990d-4ee1-8736-cd61fcee2151",
   "metadata": {},
   "outputs": [],
   "source": [
    "# Communicate Between Processes Using Queues"
   ]
  },
  {
   "cell_type": "code",
   "execution_count": 391,
   "id": "8bd4ff4e-5ebb-41a2-88cc-700f77459981",
   "metadata": {},
   "outputs": [
    {
     "name": "stdout",
     "output_type": "stream",
     "text": [
      "Daemon thread running...\n"
     ]
    }
   ],
   "source": [
    "import multiprocessing\n",
    "\n",
    "def producer(queue):\n",
    "    for i in range(5):\n",
    "        queue.put(i)\n",
    "        print(f\"Produced {i}\")\n",
    "\n",
    "def consumer(queue):\n",
    "    while True:\n",
    "        item = queue.get()\n",
    "        if item is None:\n",
    "            break\n",
    "        print(f\"Consumed {item}\")\n",
    "\n",
    "queue = multiprocessing.Queue()\n",
    "producer_process = multiprocessing.Process(target=producer, args=(queue,))\n",
    "consumer_process = multiprocessing.Process(target=consumer, args=(queue,))\n",
    "\n",
    "producer_process.start()\n",
    "consumer_process.start()\n",
    "\n",
    "producer_process.join()\n",
    "queue.put(None)  # Signal consumer to exit\n",
    "consumer_process.join()\n"
   ]
  },
  {
   "cell_type": "code",
   "execution_count": 413,
   "id": "e16509fe-8a61-469f-b703-f889aa3363a9",
   "metadata": {},
   "outputs": [],
   "source": [
    "#  Get Active Process Count "
   ]
  },
  {
   "cell_type": "code",
   "execution_count": 415,
   "id": "c2cb0601-a626-4a4a-9e98-c756036defb7",
   "metadata": {},
   "outputs": [
    {
     "name": "stdout",
     "output_type": "stream",
     "text": [
      "Active processes before join: 5\n",
      "Active processes after join: 0\n"
     ]
    }
   ],
   "source": [
    "import multiprocessing\n",
    "import time\n",
    "\n",
    "def task():\n",
    "    time.sleep(2)\n",
    "\n",
    "# Create and start processes\n",
    "processes = [multiprocessing.Process(target=task) for _ in range(5)]\n",
    "for p in processes:\n",
    "    p.start()\n",
    "\n",
    "# Manually track active processes\n",
    "active_processes = [p for p in processes if p.is_alive()]\n",
    "print(f\"Active processes before join: {len(active_processes)}\")\n",
    "\n",
    "# Join processes and update the list\n",
    "for p in processes:\n",
    "    p.join()\n",
    "\n",
    "active_processes = [p for p in processes if p.is_alive()]\n",
    "print(f\"Active processes after join: {len(active_processes)}\")\n"
   ]
  },
  {
   "cell_type": "code",
   "execution_count": 403,
   "id": "52051157-7404-47b8-8566-2f5dd7f6e3c8",
   "metadata": {},
   "outputs": [],
   "source": [
    "# Get the Current Process"
   ]
  },
  {
   "cell_type": "code",
   "execution_count": 405,
   "id": "2477c845-c57b-40f0-b22d-99b894fc39d0",
   "metadata": {},
   "outputs": [],
   "source": [
    "import multiprocessing\n",
    "\n",
    "def print_current_process():\n",
    "    current_process = multiprocessing.current_process()\n",
    "    print(f\"Current process: {current_process.name}\")\n",
    "\n",
    "process = multiprocessing.Process(target=print_current_process)\n",
    "process.start()\n",
    "process.join()\n"
   ]
  },
  {
   "cell_type": "code",
   "execution_count": 407,
   "id": "01059b1d-2765-4fcb-a14e-5500870f6737",
   "metadata": {},
   "outputs": [
    {
     "name": "stdout",
     "output_type": "stream",
     "text": [
      "Daemon thread running...\n"
     ]
    }
   ],
   "source": [
    "# Use Daemon Processes"
   ]
  },
  {
   "cell_type": "code",
   "execution_count": 409,
   "id": "f4b5bf19-bfa7-4ff8-b5f1-3529ef59da0f",
   "metadata": {},
   "outputs": [
    {
     "name": "stdout",
     "output_type": "stream",
     "text": [
      "Daemon thread running...\n",
      "Daemon thread running...\n",
      "Daemon thread running...\n",
      "Main process exiting.\n"
     ]
    }
   ],
   "source": [
    "import multiprocessing\n",
    "import time\n",
    "\n",
    "def background_task():\n",
    "    while True:\n",
    "        print(\"Daemon process running...\")\n",
    "        time.sleep(1)\n",
    "\n",
    "daemon_process = multiprocessing.Process(target=background_task)\n",
    "daemon_process.daemon = True\n",
    "daemon_process.start()\n",
    "\n",
    "time.sleep(3)\n",
    "print(\"Main process exiting.\")\n"
   ]
  },
  {
   "cell_type": "code",
   "execution_count": null,
   "id": "69ec70bf-f30c-4fd4-b6ce-43a041bb974e",
   "metadata": {},
   "outputs": [],
   "source": []
  },
  {
   "cell_type": "code",
   "execution_count": null,
   "id": "a63c5d41-7888-4309-b9f6-a705460c68d2",
   "metadata": {},
   "outputs": [],
   "source": []
  },
  {
   "cell_type": "code",
   "execution_count": null,
   "id": "a6ec4892-0c9d-43fa-ba43-c31372a82f82",
   "metadata": {},
   "outputs": [],
   "source": []
  }
 ],
 "metadata": {
  "kernelspec": {
   "display_name": "Python 3 (ipykernel)",
   "language": "python",
   "name": "python3"
  },
  "language_info": {
   "codemirror_mode": {
    "name": "ipython",
    "version": 3
   },
   "file_extension": ".py",
   "mimetype": "text/x-python",
   "name": "python",
   "nbconvert_exporter": "python",
   "pygments_lexer": "ipython3",
   "version": "3.12.4"
  }
 },
 "nbformat": 4,
 "nbformat_minor": 5
}
