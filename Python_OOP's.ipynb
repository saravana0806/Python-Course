{
 "cells": [
  {
   "cell_type": "markdown",
   "id": "4afa5c69-51e3-49c9-9c5f-e4d9dc9eefd9",
   "metadata": {},
   "source": [
    "# Object Oriented Programming"
   ]
  },
  {
   "cell_type": "code",
   "execution_count": 6,
   "id": "69c885e9-3c6e-4131-8444-bc356408b58d",
   "metadata": {},
   "outputs": [],
   "source": [
    "# Defining a class and Creating Objects"
   ]
  },
  {
   "cell_type": "code",
   "execution_count": 10,
   "id": "e15939ff-6044-4921-9eb7-dab2ab85cfab",
   "metadata": {},
   "outputs": [],
   "source": [
    "class ClassName:\n",
    "    def __init__(self, attribute1, attribute2):\n",
    "        self.attribute1 = attribute1\n",
    "        self.attribute2 = attribute2\n",
    "    \n",
    "    def method_name(self, parameter):\n",
    "        pass\n"
   ]
  },
  {
   "cell_type": "code",
   "execution_count": 17,
   "id": "d77e9cfd-63e6-441b-9f92-26596e53fd45",
   "metadata": {},
   "outputs": [],
   "source": [
    "class Dog:\n",
    "    def __init__(self, name, age):\n",
    "        self.name = name\n",
    "        self.age = age\n",
    "    \n",
    "    def bark(self):\n",
    "        print(f\"{self.name} is barking!\")\n",
    "\n",
    "#my_dog = Dog(\"Buddy\", 5)"
   ]
  },
  {
   "cell_type": "code",
   "execution_count": 9,
   "id": "4d22cbda-5a07-44ec-bdcc-958f45bead19",
   "metadata": {},
   "outputs": [],
   "source": [
    "class Car:\n",
    "    def __init__(self, color, model):\n",
    "        self.color = color\n",
    "        self.model = model\n",
    "    \n",
    "    def drive(self):\n",
    "        print(f\"The {self.color} {self.model} is driving.\")\n",
    "    \n",
    "    def brake(self):\n",
    "        print(f\"The {self.color} {self.model} is braking.\")"
   ]
  },
  {
   "cell_type": "code",
   "execution_count": null,
   "id": "b947c93d-aa82-475a-bde5-5e8e3db12aa1",
   "metadata": {},
   "outputs": [],
   "source": []
  },
  {
   "cell_type": "code",
   "execution_count": null,
   "id": "58b84ac5-edf9-4483-83cc-d773e0c57b47",
   "metadata": {},
   "outputs": [],
   "source": []
  },
  {
   "cell_type": "code",
   "execution_count": 5,
   "id": "39760f6f-980b-45d2-bec9-859a1427a36b",
   "metadata": {},
   "outputs": [],
   "source": [
    "# Method vs Function"
   ]
  },
  {
   "cell_type": "code",
   "execution_count": 4,
   "id": "6371d7a2-660e-4565-a384-f2cf1b4a6013",
   "metadata": {},
   "outputs": [],
   "source": [
    "def greet(name):\n",
    "    return f\"Hello, {name}!\"\n",
    "\n",
    "class Greeter:\n",
    "    def greet(self, name):\n",
    "        return f\"Hello, {name}!\""
   ]
  },
  {
   "cell_type": "code",
   "execution_count": null,
   "id": "1276d4f7-39c8-4dff-9039-772be73b8dca",
   "metadata": {},
   "outputs": [],
   "source": []
  },
  {
   "cell_type": "code",
   "execution_count": null,
   "id": "56a68a7e-e871-4f15-b8e8-7a25df97ca23",
   "metadata": {},
   "outputs": [],
   "source": []
  },
  {
   "cell_type": "code",
   "execution_count": 11,
   "id": "186cc615-1e77-4a73-824f-b65bcb96e8f6",
   "metadata": {},
   "outputs": [],
   "source": [
    "# Instance Attributes vs Class Attributes"
   ]
  },
  {
   "cell_type": "code",
   "execution_count": 11,
   "id": "c1580981-25d0-4179-93a5-80d0428d17d5",
   "metadata": {},
   "outputs": [],
   "source": [
    "class Student:\n",
    "    school = \"XYZ School\"  # Class attribute\n",
    "    \n",
    "    def __init__(self, name, grade):\n",
    "        self.name = name  # Instance attribute\n",
    "        self.grade = grade  # Instance attribute\n",
    "\n",
    "s1 = Student(\"Alice\", \"A\")\n",
    "s2 = Student(\"Bob\", \"B\")\n"
   ]
  },
  {
   "cell_type": "code",
   "execution_count": null,
   "id": "392da208-577f-4af4-8669-600e01810bf9",
   "metadata": {},
   "outputs": [],
   "source": []
  },
  {
   "cell_type": "code",
   "execution_count": null,
   "id": "f51ee7d1-8930-4f39-8520-882a89efd2f0",
   "metadata": {},
   "outputs": [],
   "source": []
  },
  {
   "cell_type": "code",
   "execution_count": 21,
   "id": "8b88e9e9-214e-4c03-8bf7-8f079610d9e0",
   "metadata": {},
   "outputs": [],
   "source": [
    "# Decorators"
   ]
  },
  {
   "cell_type": "code",
   "execution_count": 82,
   "id": "d86ffed2-10d1-444c-9ed4-596d48770d0b",
   "metadata": {},
   "outputs": [],
   "source": [
    "# property Methods & staticmethod & class"
   ]
  },
  {
   "cell_type": "code",
   "execution_count": 87,
   "id": "f18c3841-02c7-4b82-978f-850b539a6d5a",
   "metadata": {},
   "outputs": [
    {
     "name": "stdout",
     "output_type": "stream",
     "text": [
      "This is a static method.\n"
     ]
    }
   ],
   "source": [
    "class MyClass:\n",
    "    @staticmethod\n",
    "    def static_method():\n",
    "        print(\"This is a static method.\")\n",
    "\n",
    "MyClass.static_method() "
   ]
  },
  {
   "cell_type": "code",
   "execution_count": 29,
   "id": "0997bb00-a1f3-4d4a-bd31-f12e500e59d2",
   "metadata": {},
   "outputs": [
    {
     "name": "stdout",
     "output_type": "stream",
     "text": [
      "Celsius: 25\n",
      "Fahrenheit: 77.0\n",
      "32.0\n",
      "0.0\n",
      "Updated Fahrenheit: 79.5\n",
      "1.9\n"
     ]
    }
   ],
   "source": [
    "class Temperature:\n",
    "    _conversion_factor = 1.8  # Class attribute for the conversion factor\n",
    "\n",
    "    def __init__(self, celsius):\n",
    "        self._celsius = celsius\n",
    "\n",
    "    @property\n",
    "    def celsius(self):\n",
    "        return self._celsius\n",
    "\n",
    "    @property\n",
    "    def fahrenheit(self):\n",
    "        return self._celsius * Temperature._conversion_factor + 32\n",
    "\n",
    "    @staticmethod\n",
    "    def celsius_to_fahrenheit(celsius):\n",
    "        return celsius * Temperature._conversion_factor + 32\n",
    "\n",
    "    @staticmethod\n",
    "    def fahrenheit_to_celsius(fahrenheit):\n",
    "        \"\"\"Converts Fahrenheit to Celsius using the current conversion factor.\"\"\"\n",
    "        return (fahrenheit - 32) / Temperature._conversion_factor\n",
    "\n",
    "    @classmethod\n",
    "    def set_conversion_factor(cls, factor):\n",
    "        \"\"\"Sets the class-level conversion factor.\"\"\"\n",
    "        if factor <= 0:\n",
    "            raise ValueError(\"Conversion factor must be positive\")\n",
    "        cls._conversion_factor = factor\n",
    "\n",
    "    @classmethod\n",
    "    def get_conversion_factor(cls):\n",
    "        \"\"\"Returns the class-level conversion factor.\"\"\"\n",
    "        return cls._conversion_factor\n",
    "\n",
    "temp = Temperature(25)\n",
    "print(f\"Celsius: {temp.celsius}\") \n",
    "print(f\"Fahrenheit: {temp.fahrenheit}\") \n",
    "print(Temperature.celsius_to_fahrenheit(0))  \n",
    "print(Temperature.fahrenheit_to_celsius(32)) \n",
    "Temperature.set_conversion_factor(1.9)\n",
    "print(f\"Updated Fahrenheit: {temp.fahrenheit}\") \n",
    "print(Temperature.get_conversion_factor()) \n"
   ]
  },
  {
   "cell_type": "code",
   "execution_count": 69,
   "id": "5900149f-66df-498b-bf07-9e58e2715419",
   "metadata": {},
   "outputs": [],
   "source": [
    "# Property method"
   ]
  },
  {
   "cell_type": "code",
   "execution_count": 164,
   "id": "7a66c5df-f373-447c-baa3-e33dd901fd7e",
   "metadata": {},
   "outputs": [
    {
     "name": "stdout",
     "output_type": "stream",
     "text": [
      "42\n"
     ]
    }
   ],
   "source": [
    "class MyClass:\n",
    "    def __init__(self, value):\n",
    "        self._value = value\n",
    "\n",
    "    @property\n",
    "    def value(self):\n",
    "        return self._value\n",
    "\n",
    "obj = MyClass(42)\n",
    "print(obj.value)"
   ]
  },
  {
   "cell_type": "code",
   "execution_count": 38,
   "id": "11330ea1-0b9a-4818-992b-5e0195bbe077",
   "metadata": {},
   "outputs": [
    {
     "name": "stdout",
     "output_type": "stream",
     "text": [
      "5\n",
      "10\n",
      "78.53981633974483\n"
     ]
    }
   ],
   "source": [
    "class Circle:\n",
    "    def __init__(self, radius):\n",
    "        self._radius = radius\n",
    "\n",
    "    @property\n",
    "    def radius(self):\n",
    "        return self._radius\n",
    "\n",
    "    @property\n",
    "    def diameter(self):\n",
    "        return self._radius * 2\n",
    "\n",
    "    @property\n",
    "    def area(self):\n",
    "        import math\n",
    "        return math.pi * (self._radius ** 2)\n",
    "\n",
    "# Usage\n",
    "circle = Circle(5)\n",
    "print(circle.radius)  \n",
    "print(circle.diameter)\n",
    "print(circle.area)"
   ]
  },
  {
   "cell_type": "code",
   "execution_count": 47,
   "id": "a98801b3-3de8-4170-9b07-3ced2e63f02b",
   "metadata": {},
   "outputs": [],
   "source": [
    "class MathUtils:\n",
    "    @staticmethod\n",
    "    def add(x, y):\n",
    "        return x + y\n",
    "\n",
    "    @staticmethod\n",
    "    def multiply(x, y):\n",
    "        return x * y\n"
   ]
  },
  {
   "cell_type": "code",
   "execution_count": null,
   "id": "61bdeefb-0ac4-42fe-b923-c5ae2d088bfd",
   "metadata": {},
   "outputs": [],
   "source": []
  },
  {
   "cell_type": "code",
   "execution_count": 144,
   "id": "a0f3ad1d-81b5-4da9-8ba5-06350283b1ae",
   "metadata": {},
   "outputs": [],
   "source": [
    "# Private Attributes and Methods"
   ]
  },
  {
   "cell_type": "code",
   "execution_count": 146,
   "id": "67751b16-7318-435f-b76f-f1dc4aed1b8e",
   "metadata": {},
   "outputs": [],
   "source": [
    "class Example:\n",
    "    def __init__(self, value):\n",
    "        self.__private_value = value \n",
    "    \n",
    "    def __private_method(self):\n",
    "        return \"This is a private method.\"\n",
    "    \n",
    "    def public_method(self):\n",
    "        return f\"Private value is {self.__private_value}.\"\n"
   ]
  },
  {
   "cell_type": "code",
   "execution_count": null,
   "id": "3a5834bf-1ef3-42d8-b102-25c752934670",
   "metadata": {},
   "outputs": [],
   "source": []
  },
  {
   "cell_type": "code",
   "execution_count": null,
   "id": "0f3fc306-4baf-42d4-8556-42c6f596d57f",
   "metadata": {},
   "outputs": [],
   "source": []
  },
  {
   "cell_type": "code",
   "execution_count": 148,
   "id": "7a3ba74d-98bb-41e3-978f-d2481dac6307",
   "metadata": {},
   "outputs": [],
   "source": [
    "# Constructors"
   ]
  },
  {
   "cell_type": "code",
   "execution_count": 150,
   "id": "911cc5d8-c8be-4e2a-b04d-029845c88c38",
   "metadata": {},
   "outputs": [
    {
     "name": "stdout",
     "output_type": "stream",
     "text": [
      "My name is John and I am 30 years old.\n"
     ]
    }
   ],
   "source": [
    "class Person:\n",
    "    def __init__(self, name, age):\n",
    "        self.name = name\n",
    "        self.age = age\n",
    "    \n",
    "    def introduce(self):\n",
    "        return f\"My name is {self.name} and I am {self.age} years old.\"\n",
    "\n",
    "p = Person(\"John\", 30)\n",
    "print(p.introduce())\n"
   ]
  },
  {
   "cell_type": "code",
   "execution_count": null,
   "id": "fe0308bc-9f76-4dda-bc87-ce1a1caa1493",
   "metadata": {},
   "outputs": [],
   "source": []
  },
  {
   "cell_type": "code",
   "execution_count": null,
   "id": "234b9804-6a46-4726-9e11-1844d1e30c0a",
   "metadata": {},
   "outputs": [],
   "source": []
  },
  {
   "cell_type": "code",
   "execution_count": 161,
   "id": "9a22a1df-ebd9-4c5a-a39e-5f37d429ff7b",
   "metadata": {},
   "outputs": [],
   "source": [
    "# Inheritance"
   ]
  },
  {
   "cell_type": "code",
   "execution_count": 159,
   "id": "48ff2e9f-3193-4c06-b193-69ff5b677dc4",
   "metadata": {},
   "outputs": [],
   "source": [
    "# Basic Inheritance"
   ]
  },
  {
   "cell_type": "code",
   "execution_count": 81,
   "id": "c1c28b04-3e0d-46f6-b1ed-35bae36a992a",
   "metadata": {},
   "outputs": [
    {
     "name": "stdout",
     "output_type": "stream",
     "text": [
      "Buddy says woof!\n",
      "Dog\n"
     ]
    }
   ],
   "source": [
    "class Animal:\n",
    "    def __init__(self, species):\n",
    "        self.species = species\n",
    "\n",
    "    def speak(self):\n",
    "        print(\"Animal sound\")\n",
    "\n",
    "class Dog(Animal):\n",
    "    def __init__(self, breed, name):\n",
    "        super().__init__('Dog') \n",
    "        self.breed = breed\n",
    "        self.name = name\n",
    "\n",
    "    def speak(self):\n",
    "        print(f\"{self.name} says woof!\")\n",
    "\n",
    "dog = Dog(breed=\"Labrador\", name=\"Buddy\")\n",
    "dog.speak() \n",
    "print(dog.species)\n",
    "\n",
    "# The Dog class overrides the speak method to provide a specific implementation\n",
    "\n",
    "# Method overriding occurs when a subclass provides a specific implementation for a method that is already defined in its \n",
    "# superclass. This allows the subclass to tailor or completely change the behavior of the method inherited from the superclass."
   ]
  },
  {
   "cell_type": "code",
   "execution_count": 63,
   "id": "8744f4f8-c46a-4210-b043-40217e6fea3a",
   "metadata": {},
   "outputs": [],
   "source": [
    "# Parent Class vs Child Class"
   ]
  },
  {
   "cell_type": "code",
   "execution_count": 165,
   "id": "c2470f57-223e-41d6-a515-084298f304a1",
   "metadata": {},
   "outputs": [],
   "source": [
    "class Parent:\n",
    "    def __init__(self, name):\n",
    "        self.name = name\n",
    "    \n",
    "    def greet(self):\n",
    "        return f\"Hello, I am {self.name}.\"\n",
    "\n",
    "class Child(Parent):\n",
    "    def __init__(self, name, age):\n",
    "        super().__init__(name)\n",
    "        self.age = age\n",
    "    \n",
    "    def introduce(self):\n",
    "        return f\"I am {self.name} and I am {self.age} years old.\""
   ]
  },
  {
   "cell_type": "code",
   "execution_count": 167,
   "id": "19d6bc07-5b3e-48aa-82fc-50c385000f27",
   "metadata": {},
   "outputs": [
    {
     "name": "stdout",
     "output_type": "stream",
     "text": [
      "Hello, I am Alice.\n",
      "Hello, I am Bob.\n",
      "I am Bob and I am 10 years old.\n"
     ]
    }
   ],
   "source": [
    "parent_instance = Parent(\"Alice\")\n",
    "\n",
    "print(parent_instance.greet())\n",
    "\n",
    "child_instance = Child(\"Bob\", 10)\n",
    "\n",
    "print(child_instance.greet())\n",
    "\n",
    "print(child_instance.introduce()) "
   ]
  },
  {
   "cell_type": "code",
   "execution_count": 169,
   "id": "79b2a310-5dba-48b4-8b16-2764f2adbf16",
   "metadata": {},
   "outputs": [],
   "source": [
    "# Single Inheritance"
   ]
  },
  {
   "cell_type": "code",
   "execution_count": 171,
   "id": "1c2363a4-6e6b-4702-a6ec-ae513209960b",
   "metadata": {},
   "outputs": [
    {
     "name": "stdout",
     "output_type": "stream",
     "text": [
      "Buddy says woof!\n"
     ]
    }
   ],
   "source": [
    "class Animal:\n",
    "    def __init__(self, name):\n",
    "        self.name = name\n",
    "\n",
    "    def speak(self):\n",
    "        print(f\"{self.name} makes a sound\")\n",
    "\n",
    "class Dog(Animal):\n",
    "    def __init__(self, name, breed):\n",
    "        super().__init__(name)  # Call the parent class constructor\n",
    "        self.breed = breed\n",
    "\n",
    "    def speak(self):\n",
    "        print(f\"{self.name} says woof!\")\n",
    "\n",
    "dog = Dog(name=\"Buddy\", breed=\"Labrador\")\n",
    "dog.speak()"
   ]
  },
  {
   "cell_type": "code",
   "execution_count": 173,
   "id": "1c7e6572-0352-437b-b867-b1098ed5ef2b",
   "metadata": {},
   "outputs": [],
   "source": [
    "# Multiple Inheritance"
   ]
  },
  {
   "cell_type": "code",
   "execution_count": 175,
   "id": "7af0ec9a-bd44-4a00-b3fe-7e5b6f26e5e6",
   "metadata": {},
   "outputs": [
    {
     "name": "stdout",
     "output_type": "stream",
     "text": [
      "Hello, my name is Alice\n",
      "Employee ID: E123\n",
      "Managing department: Sales\n"
     ]
    }
   ],
   "source": [
    "class Person:\n",
    "    def __init__(self, name):\n",
    "        self.name = name\n",
    "\n",
    "    def greet(self):\n",
    "        print(f\"Hello, my name is {self.name}\")\n",
    "\n",
    "class Employee:\n",
    "    def __init__(self, employee_id):\n",
    "        self.employee_id = employee_id\n",
    "\n",
    "    def work(self):\n",
    "        print(f\"Employee ID: {self.employee_id}\")\n",
    "\n",
    "class Manager(Person, Employee):\n",
    "    def __init__(self, name, employee_id, department):\n",
    "        Person.__init__(self, name)  \n",
    "        Employee.__init__(self, employee_id)  \n",
    "        self.department = department\n",
    "\n",
    "    def manage(self):\n",
    "        print(f\"Managing department: {self.department}\")\n",
    "\n",
    "manager = Manager(name=\"Alice\", employee_id=\"E123\", department=\"Sales\")\n",
    "manager.greet()  \n",
    "manager.work()   \n",
    "manager.manage() "
   ]
  },
  {
   "cell_type": "code",
   "execution_count": null,
   "id": "a711f915-1065-477d-8e28-86e09a67c778",
   "metadata": {},
   "outputs": [],
   "source": []
  },
  {
   "cell_type": "code",
   "execution_count": null,
   "id": "0571e606-3203-4ddf-aec8-2c5ace175b27",
   "metadata": {},
   "outputs": [],
   "source": []
  },
  {
   "cell_type": "code",
   "execution_count": null,
   "id": "0ea166c9-d5e4-48b1-9cc3-7af654093ae1",
   "metadata": {},
   "outputs": [],
   "source": []
  },
  {
   "cell_type": "code",
   "execution_count": 177,
   "id": "4286b645-9710-4878-90dc-b66d975e6584",
   "metadata": {},
   "outputs": [],
   "source": [
    "# Polymorphism"
   ]
  },
  {
   "cell_type": "code",
   "execution_count": 89,
   "id": "77015823-e765-4446-bb3a-2cc2b5aa8710",
   "metadata": {},
   "outputs": [
    {
     "name": "stdout",
     "output_type": "stream",
     "text": [
      "Drive!\n",
      "Sail!\n",
      "Fly!\n"
     ]
    }
   ],
   "source": [
    "class Car:\n",
    "    def move(self):\n",
    "        print(\"Drive!\")\n",
    "\n",
    "class Boat:\n",
    "    def move(self):\n",
    "        print(\"Sail!\")\n",
    "\n",
    "class Plane:\n",
    "    def move(self):\n",
    "        print(\"Fly!\")\n",
    "\n",
    "car = Car()\n",
    "boat = Boat()\n",
    "plane = Plane()\n",
    "\n",
    "for vehicle in (car, boat, plane):\n",
    "    vehicle.move()"
   ]
  },
  {
   "cell_type": "code",
   "execution_count": 181,
   "id": "8c7e9e0d-389f-4363-82b9-deb7e6fec147",
   "metadata": {},
   "outputs": [],
   "source": [
    "# Run-Time Polymorphism"
   ]
  },
  {
   "cell_type": "code",
   "execution_count": 91,
   "id": "33da6d7c-bb0c-41d2-bae4-cce9aef69de9",
   "metadata": {},
   "outputs": [
    {
     "name": "stdout",
     "output_type": "stream",
     "text": [
      "Woof!\n",
      "Meow!\n"
     ]
    }
   ],
   "source": [
    "class Animal:\n",
    "    def speak(self):\n",
    "        print(\"Animal makes a sound\")\n",
    "\n",
    "class Dog(Animal):\n",
    "    def speak(self):\n",
    "        return \"Woof!\"\n",
    "\n",
    "class Cat(Animal):\n",
    "    def speak(self):\n",
    "        return \"Meow!\"\n",
    "\n",
    "def make_animal_speak(animal):\n",
    "    print(animal.speak())\n",
    "\n",
    "dog = Dog()\n",
    "cat = Cat()\n",
    "\n",
    "make_animal_speak(dog)\n",
    "make_animal_speak(cat)"
   ]
  },
  {
   "cell_type": "code",
   "execution_count": 189,
   "id": "e658ca05-5d63-4d22-a073-3e747f15d01f",
   "metadata": {},
   "outputs": [],
   "source": [
    "# Combining Inheritance and Polymorphism"
   ]
  },
  {
   "cell_type": "code",
   "execution_count": 191,
   "id": "1d828ae0-747b-4dd7-b9e1-e275fd23fca4",
   "metadata": {},
   "outputs": [
    {
     "name": "stdout",
     "output_type": "stream",
     "text": [
      "Area: 50\n",
      "Area: 153.93804002589985\n"
     ]
    }
   ],
   "source": [
    "class Shape:\n",
    "    def area(self):\n",
    "        raise NotImplementedError(\"Subclass must implement abstract method.\")\n",
    "\n",
    "class Rectangle(Shape):\n",
    "    def __init__(self, width, height):\n",
    "        self.width = width\n",
    "        self.height = height\n",
    "    \n",
    "    def area(self):\n",
    "        return self.width * self.height\n",
    "\n",
    "class Circle(Shape):\n",
    "    def __init__(self, radius):\n",
    "        self.radius = radius\n",
    "    \n",
    "    def area(self):\n",
    "        import math\n",
    "        return math.pi * (self.radius ** 2)\n",
    "\n",
    "shapes = [Rectangle(5, 10), Circle(7)]\n",
    "\n",
    "for shape in shapes:\n",
    "    print(f\"Area: {shape.area()}\")\n"
   ]
  },
  {
   "cell_type": "code",
   "execution_count": 275,
   "id": "c3c2a770-9e75-4204-bcaa-cc675446c409",
   "metadata": {},
   "outputs": [
    {
     "name": "stdout",
     "output_type": "stream",
     "text": [
      "Driving on the road.\n",
      "Pedaling on the bike path.\n"
     ]
    }
   ],
   "source": [
    "class Vehicle:\n",
    "    def move(self):\n",
    "        raise NotImplementedError(\"Subclass must implement abstract method.\")\n",
    "\n",
    "class Car(Vehicle):\n",
    "    def move(self):\n",
    "        return \"Driving on the road.\"\n",
    "\n",
    "class Bicycle(Vehicle):\n",
    "    def move(self):\n",
    "        return \"Pedaling on the bike path.\"\n",
    "\n",
    "# Creating instances of Car and Bicycle\n",
    "vehicles = [Car(), Bicycle()]\n",
    "\n",
    "# Demonstrating polymorphism\n",
    "for vehicle in vehicles:\n",
    "    print(vehicle.move())\n"
   ]
  },
  {
   "cell_type": "code",
   "execution_count": 194,
   "id": "b116bbdb-ebc1-4c32-a28f-b89c9ee675d3",
   "metadata": {},
   "outputs": [
    {
     "name": "stdout",
     "output_type": "stream",
     "text": [
      "Car Toyota engine started.\n",
      "Bike Yamaha engine started.\n"
     ]
    }
   ],
   "source": [
    "class Vehicle:\n",
    "    def __init__(self, name):\n",
    "        self.name = name\n",
    "    \n",
    "    def start_engine(self):\n",
    "        raise NotImplementedError(\"Subclass must implement this method.\")\n",
    "\n",
    "class Car(Vehicle):\n",
    "    def start_engine(self):\n",
    "        return f\"Car {self.name} engine started.\"\n",
    "\n",
    "class Bike(Vehicle):\n",
    "    def start_engine(self):\n",
    "        return f\"Bike {self.name} engine started.\"\n",
    "\n",
    "def test_vehicle(vehicle):\n",
    "    print(vehicle.start_engine())\n",
    "\n",
    "# Instantiate concrete classes\n",
    "car = Car(\"Toyota\")\n",
    "bike = Bike(\"Yamaha\")\n",
    "\n",
    "# Demonstrate polymorphism\n",
    "test_vehicle(car)  \n",
    "test_vehicle(bike) \n"
   ]
  },
  {
   "cell_type": "code",
   "execution_count": null,
   "id": "eba469da-e70e-4231-b1df-dace0832a30b",
   "metadata": {},
   "outputs": [],
   "source": []
  },
  {
   "cell_type": "code",
   "execution_count": null,
   "id": "61426fc9-4b91-4806-a511-16400c7a7c7b",
   "metadata": {},
   "outputs": [],
   "source": []
  },
  {
   "cell_type": "code",
   "execution_count": 32,
   "id": "df8279d6-698b-4486-8ffe-7a00d16edf6e",
   "metadata": {},
   "outputs": [],
   "source": [
    "# Encapsulation"
   ]
  },
  {
   "cell_type": "code",
   "execution_count": 93,
   "id": "0dd2652d-69cb-44e8-b5fb-cd9ddd3a4931",
   "metadata": {},
   "outputs": [
    {
     "name": "stdout",
     "output_type": "stream",
     "text": [
      "1300\n"
     ]
    }
   ],
   "source": [
    "class BankAccount:\n",
    "    def __init__(self, balance):\n",
    "        self.__balance = balance  # Private attribute\n",
    "    \n",
    "    def deposit(self, amount):\n",
    "        if amount > 0:\n",
    "            self.__balance += amount\n",
    "    \n",
    "    def withdraw(self, amount):\n",
    "        if 0 < amount <= self.__balance:\n",
    "            self.__balance -= amount\n",
    "    \n",
    "    def get_balance(self):\n",
    "        return self.__balance\n",
    "\n",
    "account = BankAccount(1000)\n",
    "account.deposit(500)\n",
    "account.withdraw(200)\n",
    "print(account.get_balance())"
   ]
  },
  {
   "cell_type": "code",
   "execution_count": 307,
   "id": "90e77b5e-11cf-494f-85ef-760dd34e903c",
   "metadata": {},
   "outputs": [],
   "source": [
    "# Non-Encapsulated Example"
   ]
  },
  {
   "cell_type": "code",
   "execution_count": 218,
   "id": "b024a70c-b1d7-43c9-ac04-63cb3b2745d0",
   "metadata": {},
   "outputs": [
    {
     "name": "stdout",
     "output_type": "stream",
     "text": [
      "1300\n"
     ]
    }
   ],
   "source": [
    "class BankAccount:\n",
    "    def __init__(self, balance):\n",
    "        self.balance = balance  # Public attribute\n",
    "    \n",
    "    def deposit(self, amount):\n",
    "        if amount > 0:\n",
    "            self.balance += amount\n",
    "    \n",
    "    def withdraw(self, amount):\n",
    "        if 0 < amount <= self.balance:\n",
    "            self.balance -= amount\n",
    "\n",
    "# Usage\n",
    "account = BankAccount(1000)\n",
    "account.deposit(500)\n",
    "account.withdraw(200)\n",
    "print(account.balance) "
   ]
  },
  {
   "cell_type": "code",
   "execution_count": null,
   "id": "279a7be1-1bd4-47ac-ae99-e88f2e334db5",
   "metadata": {},
   "outputs": [],
   "source": []
  },
  {
   "cell_type": "code",
   "execution_count": null,
   "id": "e93e6961-64a1-4cbd-87c7-f2f5f6611038",
   "metadata": {},
   "outputs": [],
   "source": []
  },
  {
   "cell_type": "code",
   "execution_count": 216,
   "id": "2b311846-5201-4731-855c-d9ee0266314d",
   "metadata": {},
   "outputs": [],
   "source": [
    "# Module"
   ]
  },
  {
   "cell_type": "code",
   "execution_count": 204,
   "id": "bf3ba28e-fb6b-46d1-8b4d-6b152af317bc",
   "metadata": {},
   "outputs": [],
   "source": [
    "# File: math_utils.py to create\n",
    "\n",
    "def add(x, y):\n",
    "    return x + y\n",
    "\n",
    "def subtract(x, y):\n",
    "    return x - y\n",
    "\n",
    "PI = 3.14159\n",
    "# python math_utils.py to run"
   ]
  },
  {
   "cell_type": "code",
   "execution_count": 206,
   "id": "90935020-301b-46aa-8d03-32d56507ee3b",
   "metadata": {},
   "outputs": [],
   "source": [
    "# import math_utils\n",
    "\n",
    "# print(dir(math_utils))"
   ]
  },
  {
   "cell_type": "code",
   "execution_count": 208,
   "id": "8d9530b0-5d78-4d1b-a284-8a37316995a7",
   "metadata": {},
   "outputs": [
    {
     "data": {
      "text/plain": [
       "['C:\\\\Users\\\\srvna',\n",
       " 'C:\\\\Users\\\\srvna\\\\AppData\\\\Local\\\\anaconda3\\\\python312.zip',\n",
       " 'C:\\\\Users\\\\srvna\\\\AppData\\\\Local\\\\anaconda3\\\\DLLs',\n",
       " 'C:\\\\Users\\\\srvna\\\\AppData\\\\Local\\\\anaconda3\\\\Lib',\n",
       " 'C:\\\\Users\\\\srvna\\\\AppData\\\\Local\\\\anaconda3',\n",
       " '',\n",
       " 'C:\\\\Users\\\\srvna\\\\AppData\\\\Local\\\\anaconda3\\\\Lib\\\\site-packages',\n",
       " 'C:\\\\Users\\\\srvna\\\\AppData\\\\Local\\\\anaconda3\\\\Lib\\\\site-packages\\\\win32',\n",
       " 'C:\\\\Users\\\\srvna\\\\AppData\\\\Local\\\\anaconda3\\\\Lib\\\\site-packages\\\\win32\\\\lib',\n",
       " 'C:\\\\Users\\\\srvna\\\\AppData\\\\Local\\\\anaconda3\\\\Lib\\\\site-packages\\\\Pythonwin']"
      ]
     },
     "execution_count": 208,
     "metadata": {},
     "output_type": "execute_result"
    }
   ],
   "source": [
    "import sys\n",
    "sys.path"
   ]
  },
  {
   "cell_type": "code",
   "execution_count": 210,
   "id": "019f7123-29d5-461e-be81-a3a5f21bfc78",
   "metadata": {},
   "outputs": [],
   "source": [
    "# Package"
   ]
  },
  {
   "cell_type": "code",
   "execution_count": 214,
   "id": "7892329e-9cf9-4af9-bbf2-3a3aa956c47f",
   "metadata": {},
   "outputs": [
    {
     "data": {
      "text/plain": [
       "'my_package/\\n    __init__.py\\n    module1.py\\n    module2.py\\n    sub_package/\\n        __init__.py\\n        module3.py\\n'"
      ]
     },
     "execution_count": 214,
     "metadata": {},
     "output_type": "execute_result"
    }
   ],
   "source": [
    "'''my_package/\n",
    "    __init__.py\n",
    "    module1.py\n",
    "    module2.py\n",
    "    sub_package/\n",
    "        __init__.py\n",
    "        module3.py\n",
    "'''"
   ]
  },
  {
   "cell_type": "code",
   "execution_count": null,
   "id": "43c3ca67-1ef6-49b8-8258-14ea62d563f3",
   "metadata": {},
   "outputs": [],
   "source": []
  },
  {
   "cell_type": "code",
   "execution_count": null,
   "id": "0bbb342f-de13-4efc-9cbd-80aca96218ee",
   "metadata": {},
   "outputs": [],
   "source": []
  },
  {
   "cell_type": "code",
   "execution_count": null,
   "id": "143b907a-9e66-41c0-b205-dda865010822",
   "metadata": {},
   "outputs": [],
   "source": []
  },
  {
   "cell_type": "code",
   "execution_count": 34,
   "id": "0baf920d-0c74-4077-ae14-866eb0f9dc25",
   "metadata": {},
   "outputs": [],
   "source": [
    "# Introduction to Database Operations ​"
   ]
  },
  {
   "cell_type": "code",
   "execution_count": null,
   "id": "801d89d1-29cb-4e43-99e8-45dcd15ea612",
   "metadata": {},
   "outputs": [],
   "source": [
    "pip install mysql-connector-python"
   ]
  },
  {
   "cell_type": "code",
   "execution_count": null,
   "id": "2d9fb06a-acac-49fa-91c8-6e99415908b5",
   "metadata": {},
   "outputs": [],
   "source": [
    "import mysql.connector\n",
    "\n",
    "# Establish a connection to the database\n",
    "connection = mysql.connector.connect(\n",
    "    host=\"localhost\",\n",
    "    user=\"your_username\",\n",
    "    password=\"your_password\",\n",
    "    database=\"your_database\"\n",
    ")\n",
    "\n",
    "# Check if the connection is successful\n",
    "if connection.is_connected():\n",
    "    print(\"Connected to MySQL database\")\n"
   ]
  },
  {
   "cell_type": "code",
   "execution_count": null,
   "id": "db611bb7-ec8c-4785-a557-6faccf1a5da4",
   "metadata": {},
   "outputs": [],
   "source": [
    "# Create database"
   ]
  },
  {
   "cell_type": "code",
   "execution_count": null,
   "id": "787eabe2-d460-4488-a6a4-fbefdd1e7fcb",
   "metadata": {},
   "outputs": [],
   "source": [
    "CREATE DATABASE mydatabase;\n",
    "\n",
    "cursor = connection.cursor()\n",
    "cursor.execute(\"CREATE DATABASE mydatabase\")\n",
    "print(\"Database created successfully\")\n"
   ]
  },
  {
   "cell_type": "code",
   "execution_count": 35,
   "id": "e5df99a5-6c8c-4732-b4d6-0172648a6d6b",
   "metadata": {},
   "outputs": [],
   "source": [
    "# Creating table "
   ]
  },
  {
   "cell_type": "code",
   "execution_count": null,
   "id": "a58ac164-d599-4794-a918-8bcd5a753540",
   "metadata": {},
   "outputs": [],
   "source": [
    "CREATE TABLE users (\n",
    "    id INT AUTO_INCREMENT PRIMARY KEY,\n",
    "    name VARCHAR(255) NOT NULL,\n",
    "    email VARCHAR(255) UNIQUE NOT NULL,\n",
    "    age INT\n",
    ");"
   ]
  },
  {
   "cell_type": "code",
   "execution_count": null,
   "id": "c5b62c84-240a-405e-98e1-8b1f543768aa",
   "metadata": {},
   "outputs": [],
   "source": [
    "cursor = connection.cursor()\n",
    "cursor.execute(\"\"\"\n",
    "    CREATE TABLE users (\n",
    "        id INT AUTO_INCREMENT PRIMARY KEY,\n",
    "        name VARCHAR(255) NOT NULL,\n",
    "        email VARCHAR(255) UNIQUE NOT NULL,\n",
    "        age INT\n",
    "    )\n",
    "\"\"\")\n",
    "print(\"Table created successfully\")\n"
   ]
  },
  {
   "cell_type": "code",
   "execution_count": 37,
   "id": "d5f6ba38-eace-4e70-b151-2a7282fda499",
   "metadata": {},
   "outputs": [],
   "source": [
    "# Performing SQL Operations in MySQL"
   ]
  },
  {
   "cell_type": "code",
   "execution_count": null,
   "id": "c51c1a63-906c-4694-9915-42e50c893f17",
   "metadata": {},
   "outputs": [],
   "source": [
    "cursor = connection.cursor()\n",
    "cursor.execute(\"\"\"\n",
    "    INSERT INTO users (name, email, age)\n",
    "    VALUES (%s, %s, %s)\n",
    "\"\"\", (\"John Doe\", \"john@example.com\", 30))\n",
    "connection.commit()\n",
    "print(\"Data inserted successfully\")\n"
   ]
  },
  {
   "cell_type": "code",
   "execution_count": null,
   "id": "6da7a72d-bd5d-46be-b6b3-b28a14acf45d",
   "metadata": {},
   "outputs": [],
   "source": [
    "cursor = connection.cursor()\n",
    "cursor.execute(\"SELECT * FROM users\")\n",
    "for row in cursor.fetchall():\n",
    "    print(row)\n"
   ]
  },
  {
   "cell_type": "code",
   "execution_count": null,
   "id": "d235c6ec-913a-4aa5-bd06-434c47eea10e",
   "metadata": {},
   "outputs": [],
   "source": [
    "cursor = connection.cursor()\n",
    "cursor.execute(\"\"\"\n",
    "    UPDATE users\n",
    "    SET age = %s\n",
    "    WHERE name = %s\n",
    "\"\"\", (31, \"John Doe\"))\n",
    "connection.commit()\n",
    "print(\"Data updated successfully\")\n"
   ]
  },
  {
   "cell_type": "code",
   "execution_count": null,
   "id": "a15aae54-7bdb-48c1-a4f8-f65cdd6c502e",
   "metadata": {},
   "outputs": [],
   "source": [
    "cursor = connection.cursor()\n",
    "cursor.execute(\"DELETE FROM users WHERE name = %s\", (\"John Doe\",))\n",
    "connection.commit()\n",
    "print(\"Data deleted successfully\")\n"
   ]
  },
  {
   "cell_type": "code",
   "execution_count": null,
   "id": "3a51a053-25ac-4d39-9ee2-07726d19c407",
   "metadata": {},
   "outputs": [],
   "source": []
  },
  {
   "cell_type": "code",
   "execution_count": null,
   "id": "d914a525-af44-4e70-866d-bb0b6cf5ef06",
   "metadata": {},
   "outputs": [],
   "source": []
  },
  {
   "cell_type": "code",
   "execution_count": 38,
   "id": "26c520dc-5b14-4e02-a162-faeda114784c",
   "metadata": {},
   "outputs": [],
   "source": [
    "# Connect to Oracle Database"
   ]
  },
  {
   "cell_type": "code",
   "execution_count": null,
   "id": "966e7bf5-4a27-476c-94f2-e4ead806e5bc",
   "metadata": {},
   "outputs": [],
   "source": [
    "pip install cx_Oracle"
   ]
  },
  {
   "cell_type": "code",
   "execution_count": null,
   "id": "47e345d1-b7a5-4452-84ac-bb660063b55e",
   "metadata": {},
   "outputs": [],
   "source": [
    "import cx_Oracle\n",
    "\n",
    "# Establish a connection to the database\n",
    "connection = cx_Oracle.connect(\n",
    "    user=\"your_username\",\n",
    "    password=\"your_password\",\n",
    "    dsn=\"localhost/orclpdb\"\n",
    ")\n",
    "\n",
    "# Check if the connection is successful\n",
    "print(\"Connected to Oracle database\")\n"
   ]
  },
  {
   "cell_type": "code",
   "execution_count": 39,
   "id": "40097115-4d89-4ed9-aa8d-49e6e2b302f9",
   "metadata": {},
   "outputs": [],
   "source": [
    "# Create database"
   ]
  },
  {
   "cell_type": "code",
   "execution_count": null,
   "id": "54457d32-725f-4f05-b1e5-ade0daa37d01",
   "metadata": {},
   "outputs": [],
   "source": [
    "CREATE USER myuser IDENTIFIED BY mypassword;\n",
    "GRANT CONNECT, RESOURCE TO myuser;"
   ]
  },
  {
   "cell_type": "code",
   "execution_count": 40,
   "id": "91221dd7-579d-4b3d-be73-2ef2d798626d",
   "metadata": {},
   "outputs": [],
   "source": [
    "# Crate table"
   ]
  },
  {
   "cell_type": "code",
   "execution_count": null,
   "id": "f62f1cb0-cf4a-422e-8b18-9240d1f6f756",
   "metadata": {},
   "outputs": [],
   "source": [
    "CREATE TABLE users (\n",
    "    id NUMBER GENERATED BY DEFAULT AS IDENTITY PRIMARY KEY,\n",
    "    name VARCHAR2(255) NOT NULL,\n",
    "    email VARCHAR2(255) UNIQUE NOT NULL,\n",
    "    age NUMBER\n",
    ");"
   ]
  },
  {
   "cell_type": "code",
   "execution_count": null,
   "id": "f58cfe04-9417-49a8-ac2e-e49df623a3de",
   "metadata": {},
   "outputs": [],
   "source": [
    "cursor = connection.cursor()\n",
    "cursor.execute(\"\"\"\n",
    "    CREATE TABLE users (\n",
    "        id NUMBER GENERATED BY DEFAULT AS IDENTITY PRIMARY KEY,\n",
    "        name VARCHAR2(255) NOT NULL,\n",
    "        email VARCHAR2(255) UNIQUE NOT NULL,\n",
    "        age NUMBER\n",
    "    )\n",
    "\"\"\")\n",
    "print(\"Table created successfully\")\n"
   ]
  },
  {
   "cell_type": "code",
   "execution_count": 41,
   "id": "c16468b6-c15b-498b-bf60-4318242386be",
   "metadata": {},
   "outputs": [],
   "source": [
    "# Performing SQL Operations in Oracle"
   ]
  },
  {
   "cell_type": "code",
   "execution_count": null,
   "id": "3a14e9fb-a843-4275-8ed4-0851bfdef678",
   "metadata": {},
   "outputs": [],
   "source": [
    "cursor = connection.cursor()\n",
    "cursor.execute(\"\"\"\n",
    "    INSERT INTO users (name, email, age)\n",
    "    VALUES (:name, :email, :age)\n",
    "\"\"\", {\"name\": \"John Doe\", \"email\": \"john@example.com\", \"age\": 30})\n",
    "connection.commit()\n",
    "print(\"Data inserted successfully\")\n"
   ]
  },
  {
   "cell_type": "code",
   "execution_count": null,
   "id": "1963afcb-50f2-491c-87b2-a8733d40ac67",
   "metadata": {},
   "outputs": [],
   "source": [
    "cursor = connection.cursor()\n",
    "cursor.execute(\"SELECT * FROM users\")\n",
    "for row in cursor.fetchall():\n",
    "    print(row)\n"
   ]
  },
  {
   "cell_type": "code",
   "execution_count": null,
   "id": "071df36c-d37d-4b8f-b6d7-c4266f458411",
   "metadata": {},
   "outputs": [],
   "source": [
    "cursor = connection.cursor()\n",
    "cursor.execute(\"\"\"\n",
    "    UPDATE users\n",
    "    SET age = :age\n",
    "    WHERE name = :name\n",
    "\"\"\", {\"age\": 31, \"name\": \"John Doe\"})\n",
    "connection.commit()\n",
    "print(\"Data updated successfully\")\n"
   ]
  },
  {
   "cell_type": "code",
   "execution_count": null,
   "id": "b8e49f09-f60d-4106-aa3f-2dc46b2ad420",
   "metadata": {},
   "outputs": [],
   "source": [
    "cursor = connection.cursor()\n",
    "cursor.execute(\"DELETE FROM users WHERE name = :name\", {\"name\": \"John Doe\"})\n",
    "connection.commit()\n",
    "print(\"Data deleted successfully\")\n"
   ]
  },
  {
   "cell_type": "code",
   "execution_count": null,
   "id": "116a4d8f-7d18-48f6-b898-7d9b63ae7f21",
   "metadata": {},
   "outputs": [],
   "source": []
  },
  {
   "cell_type": "code",
   "execution_count": null,
   "id": "30f13eb9-8367-407a-985c-cb87c1d2a95e",
   "metadata": {},
   "outputs": [],
   "source": []
  },
  {
   "cell_type": "code",
   "execution_count": null,
   "id": "52b62569-2de7-47d3-89e9-b7454040cba6",
   "metadata": {},
   "outputs": [],
   "source": []
  },
  {
   "cell_type": "code",
   "execution_count": 347,
   "id": "18484242-eec2-4a5d-80c5-1158e9a99030",
   "metadata": {},
   "outputs": [],
   "source": [
    "# Multithreading"
   ]
  },
  {
   "cell_type": "code",
   "execution_count": 349,
   "id": "597ac6f3-e9a2-4841-b687-9a33235d890d",
   "metadata": {},
   "outputs": [
    {
     "name": "stdout",
     "output_type": "stream",
     "text": [
      "Number: 0\n",
      "Letter: a\n",
      "Letter: bNumber: 1\n",
      "\n",
      "Letter: cNumber: 2\n",
      "\n",
      "Letter: dNumber: 3\n",
      "\n",
      "Letter: eNumber: 4\n",
      "\n"
     ]
    }
   ],
   "source": [
    "import threading\n",
    "import time\n",
    "\n",
    "def print_numbers():\n",
    "    for i in range(5):\n",
    "        print(f\"Number: {i}\")\n",
    "        time.sleep(1)\n",
    "\n",
    "def print_letters():\n",
    "    for letter in 'abcde':\n",
    "        print(f\"Letter: {letter}\")\n",
    "        time.sleep(1)\n",
    "\n",
    "# Creating threads\n",
    "thread1 = threading.Thread(target=print_numbers)\n",
    "thread2 = threading.Thread(target=print_letters)\n",
    "\n",
    "# Starting threads\n",
    "thread1.start()\n",
    "thread2.start()\n",
    "\n",
    "# Wait for threads to complete\n",
    "thread1.join()\n",
    "thread2.join()"
   ]
  },
  {
   "cell_type": "code",
   "execution_count": 367,
   "id": "00999edf-bf4f-424a-9b6e-b53f01b74962",
   "metadata": {},
   "outputs": [],
   "source": [
    "# Sleep"
   ]
  },
  {
   "cell_type": "code",
   "execution_count": 369,
   "id": "c54fd110-66cc-44ac-8513-fd02eb61f56b",
   "metadata": {},
   "outputs": [
    {
     "name": "stdout",
     "output_type": "stream",
     "text": [
      "Task started\n",
      "Daemon thread running...\n",
      "Daemon thread running...\n",
      "Task ended\n"
     ]
    }
   ],
   "source": [
    "import threading\n",
    "import time\n",
    "\n",
    "def task():\n",
    "    print(\"Task started\")\n",
    "    time.sleep(2)\n",
    "    print(\"Task ended\")\n",
    "\n",
    "thread = threading.Thread(target=task)\n",
    "thread.start()\n",
    "thread.join()"
   ]
  },
  {
   "cell_type": "code",
   "execution_count": 351,
   "id": "9eb6e249-bc64-4375-87d1-afa89e45a02d",
   "metadata": {},
   "outputs": [],
   "source": [
    "# Checking if a thread is alive"
   ]
  },
  {
   "cell_type": "code",
   "execution_count": 371,
   "id": "95ff7ec7-fd79-4921-a53c-225b31303011",
   "metadata": {},
   "outputs": [
    {
     "name": "stdout",
     "output_type": "stream",
     "text": [
      "Thread is still running...\n",
      "Daemon thread running...\n",
      "Thread is still running...\n",
      "Thread is still running...\n",
      "Daemon thread running...\n",
      "Thread is still running...\n",
      "Task completedThread is still running...\n",
      "\n",
      "Daemon thread running...\n",
      "Thread has finished.\n"
     ]
    }
   ],
   "source": [
    "import threading\n",
    "import time\n",
    "\n",
    "def task():\n",
    "    time.sleep(2)\n",
    "    print(\"Task completed\")\n",
    "\n",
    "thread = threading.Thread(target=task)\n",
    "thread.start()\n",
    "\n",
    "while thread.is_alive():\n",
    "    print(\"Thread is still running...\")\n",
    "    time.sleep(0.5)\n",
    "\n",
    "print(\"Thread has finished.\")"
   ]
  },
  {
   "cell_type": "code",
   "execution_count": 355,
   "id": "037ac548-1bc6-4553-89ff-c003e49c6aa3",
   "metadata": {},
   "outputs": [],
   "source": [
    "# Inter thread commnunication with query"
   ]
  },
  {
   "cell_type": "code",
   "execution_count": 357,
   "id": "4edcd50d-f4f2-49b0-90c7-4f06885fcaa9",
   "metadata": {},
   "outputs": [
    {
     "name": "stdout",
     "output_type": "stream",
     "text": [
      "Produced 0\n",
      "Produced 1\n",
      "Produced 2\n",
      "Produced 3\n",
      "Produced 4\n",
      "Consumed 0\n",
      "Consumed 1\n",
      "Consumed 2\n",
      "Consumed 3\n",
      "Consumed 4\n"
     ]
    }
   ],
   "source": [
    "import threading\n",
    "import queue\n",
    "\n",
    "def producer(q):\n",
    "    for i in range(5):\n",
    "        q.put(i)\n",
    "        print(f\"Produced {i}\")\n",
    "\n",
    "def consumer(q):\n",
    "    while True:\n",
    "        item = q.get()\n",
    "        if item is None:\n",
    "            break\n",
    "        print(f\"Consumed {item}\")\n",
    "\n",
    "q = queue.Queue()\n",
    "t1 = threading.Thread(target=producer, args=(q,))\n",
    "t2 = threading.Thread(target=consumer, args=(q,))\n",
    "\n",
    "t1.start()\n",
    "t2.start()\n",
    "\n",
    "t1.join()\n",
    "q.put(None)  # Signal the consumer to exit\n",
    "t2.join()"
   ]
  },
  {
   "cell_type": "code",
   "execution_count": 361,
   "id": "15b59634-4e34-40d0-9ea2-713888e8fc26",
   "metadata": {},
   "outputs": [
    {
     "name": "stdout",
     "output_type": "stream",
     "text": [
      "Current thread: Thread-11 (print_current_thread)\n"
     ]
    }
   ],
   "source": [
    "import threading\n",
    "\n",
    "def print_current_thread():\n",
    "    current_thread = threading.current_thread()\n",
    "    print(f\"Current thread: {current_thread.name}\")\n",
    "\n",
    "thread = threading.Thread(target=print_current_thread)\n",
    "thread.start()\n",
    "thread.join()"
   ]
  },
  {
   "cell_type": "code",
   "execution_count": 363,
   "id": "f54ffc3b-a931-474a-b262-5ad81253d85f",
   "metadata": {},
   "outputs": [],
   "source": [
    "# Deamon Thread"
   ]
  },
  {
   "cell_type": "code",
   "execution_count": 365,
   "id": "b683f6c2-2747-417e-a780-90d6b8360ffb",
   "metadata": {},
   "outputs": [
    {
     "name": "stdout",
     "output_type": "stream",
     "text": [
      "Daemon thread running...\n",
      "Daemon thread running...\n",
      "Daemon thread running...\n",
      "Main thread exiting.\n",
      "Daemon thread running...\n"
     ]
    }
   ],
   "source": [
    "import threading\n",
    "import time\n",
    "\n",
    "def background_task():\n",
    "    while True:\n",
    "        print(\"Daemon thread running...\")\n",
    "        time.sleep(1)\n",
    "\n",
    "daemon_thread = threading.Thread(target=background_task, daemon=True)\n",
    "daemon_thread.start()\n",
    "\n",
    "time.sleep(3)\n",
    "print(\"Main thread exiting.\")"
   ]
  },
  {
   "cell_type": "code",
   "execution_count": null,
   "id": "59caa392-997d-45b0-bd7c-16a89c882d69",
   "metadata": {},
   "outputs": [],
   "source": []
  },
  {
   "cell_type": "code",
   "execution_count": null,
   "id": "f79cb847-6504-43f2-b4c0-2e65f26c2acf",
   "metadata": {},
   "outputs": [],
   "source": []
  },
  {
   "cell_type": "code",
   "execution_count": 373,
   "id": "290c415a-450c-4226-99c7-5e127c0899a5",
   "metadata": {},
   "outputs": [],
   "source": [
    "# Multiprocessing"
   ]
  },
  {
   "cell_type": "code",
   "execution_count": 375,
   "id": "e01810b2-8915-495f-be7e-38d0f84e15db",
   "metadata": {},
   "outputs": [
    {
     "name": "stdout",
     "output_type": "stream",
     "text": [
      "Daemon thread running...\n",
      "All processes completed.\n"
     ]
    }
   ],
   "source": [
    "import multiprocessing\n",
    "import time\n",
    "\n",
    "def print_numbers():\n",
    "    for i in range(5):\n",
    "        print(f\"Number: {i}\")\n",
    "        time.sleep(1)\n",
    "\n",
    "def print_letters():\n",
    "    for letter in 'abcde':\n",
    "        print(f\"Letter: {letter}\")\n",
    "        time.sleep(1)\n",
    "\n",
    "# Create processes\n",
    "process1 = multiprocessing.Process(target=print_numbers)\n",
    "process2 = multiprocessing.Process(target=print_letters)\n",
    "\n",
    "# Start processes\n",
    "process1.start()\n",
    "process2.start()\n",
    "\n",
    "# Wait for processes to complete\n",
    "process1.join()\n",
    "process2.join()\n",
    "\n",
    "print(\"All processes completed.\")\n"
   ]
  },
  {
   "cell_type": "code",
   "execution_count": 377,
   "id": "57d3fa42-0e87-4d39-840a-459a254ab562",
   "metadata": {},
   "outputs": [],
   "source": [
    "# sleep "
   ]
  },
  {
   "cell_type": "code",
   "execution_count": 379,
   "id": "098d65c8-8253-474e-a365-0cb7f9edea9a",
   "metadata": {},
   "outputs": [],
   "source": [
    "import multiprocessing\n",
    "import time\n",
    "\n",
    "def task():\n",
    "    print(\"Task started\")\n",
    "    time.sleep(2)\n",
    "    print(\"Task ended\")\n",
    "\n",
    "process = multiprocessing.Process(target=task)\n",
    "process.start()\n",
    "process.join()\n"
   ]
  },
  {
   "cell_type": "code",
   "execution_count": 385,
   "id": "0c25f2e7-e7db-4125-9ff0-87f9980d8160",
   "metadata": {},
   "outputs": [],
   "source": [
    "# Check if Processes are Alive"
   ]
  },
  {
   "cell_type": "code",
   "execution_count": 387,
   "id": "c4c9a7ea-4957-4e1c-8c56-153ec8b29355",
   "metadata": {},
   "outputs": [
    {
     "name": "stdout",
     "output_type": "stream",
     "text": [
      "Process is still running...\n",
      "Daemon thread running...\n",
      "Process has finished.\n"
     ]
    }
   ],
   "source": [
    "import multiprocessing\n",
    "import time\n",
    "\n",
    "def task():\n",
    "    time.sleep(2)\n",
    "    print(\"Task completed\")\n",
    "\n",
    "process = multiprocessing.Process(target=task)\n",
    "process.start()\n",
    "\n",
    "while process.is_alive():\n",
    "    print(\"Process is still running...\")\n",
    "    time.sleep(0.5)\n",
    "\n",
    "print(\"Process has finished.\")\n"
   ]
  },
  {
   "cell_type": "code",
   "execution_count": 389,
   "id": "08bfc601-990d-4ee1-8736-cd61fcee2151",
   "metadata": {},
   "outputs": [],
   "source": [
    "# Communicate Between Processes Using Queues"
   ]
  },
  {
   "cell_type": "code",
   "execution_count": 391,
   "id": "8bd4ff4e-5ebb-41a2-88cc-700f77459981",
   "metadata": {},
   "outputs": [
    {
     "name": "stdout",
     "output_type": "stream",
     "text": [
      "Daemon thread running...\n"
     ]
    }
   ],
   "source": [
    "import multiprocessing\n",
    "\n",
    "def producer(queue):\n",
    "    for i in range(5):\n",
    "        queue.put(i)\n",
    "        print(f\"Produced {i}\")\n",
    "\n",
    "def consumer(queue):\n",
    "    while True:\n",
    "        item = queue.get()\n",
    "        if item is None:\n",
    "            break\n",
    "        print(f\"Consumed {item}\")\n",
    "\n",
    "queue = multiprocessing.Queue()\n",
    "producer_process = multiprocessing.Process(target=producer, args=(queue,))\n",
    "consumer_process = multiprocessing.Process(target=consumer, args=(queue,))\n",
    "\n",
    "producer_process.start()\n",
    "consumer_process.start()\n",
    "\n",
    "producer_process.join()\n",
    "queue.put(None)  # Signal consumer to exit\n",
    "consumer_process.join()\n"
   ]
  },
  {
   "cell_type": "code",
   "execution_count": 413,
   "id": "e16509fe-8a61-469f-b703-f889aa3363a9",
   "metadata": {},
   "outputs": [],
   "source": [
    "#  Get Active Process Count "
   ]
  },
  {
   "cell_type": "code",
   "execution_count": 415,
   "id": "c2cb0601-a626-4a4a-9e98-c756036defb7",
   "metadata": {},
   "outputs": [
    {
     "name": "stdout",
     "output_type": "stream",
     "text": [
      "Active processes before join: 5\n",
      "Active processes after join: 0\n"
     ]
    }
   ],
   "source": [
    "import multiprocessing\n",
    "import time\n",
    "\n",
    "def task():\n",
    "    time.sleep(2)\n",
    "\n",
    "# Create and start processes\n",
    "processes = [multiprocessing.Process(target=task) for _ in range(5)]\n",
    "for p in processes:\n",
    "    p.start()\n",
    "\n",
    "# Manually track active processes\n",
    "active_processes = [p for p in processes if p.is_alive()]\n",
    "print(f\"Active processes before join: {len(active_processes)}\")\n",
    "\n",
    "# Join processes and update the list\n",
    "for p in processes:\n",
    "    p.join()\n",
    "\n",
    "active_processes = [p for p in processes if p.is_alive()]\n",
    "print(f\"Active processes after join: {len(active_processes)}\")\n"
   ]
  },
  {
   "cell_type": "code",
   "execution_count": 403,
   "id": "52051157-7404-47b8-8566-2f5dd7f6e3c8",
   "metadata": {},
   "outputs": [],
   "source": [
    "# Get the Current Process"
   ]
  },
  {
   "cell_type": "code",
   "execution_count": 405,
   "id": "2477c845-c57b-40f0-b22d-99b894fc39d0",
   "metadata": {},
   "outputs": [],
   "source": [
    "import multiprocessing\n",
    "\n",
    "def print_current_process():\n",
    "    current_process = multiprocessing.current_process()\n",
    "    print(f\"Current process: {current_process.name}\")\n",
    "\n",
    "process = multiprocessing.Process(target=print_current_process)\n",
    "process.start()\n",
    "process.join()\n"
   ]
  },
  {
   "cell_type": "code",
   "execution_count": 407,
   "id": "01059b1d-2765-4fcb-a14e-5500870f6737",
   "metadata": {},
   "outputs": [
    {
     "name": "stdout",
     "output_type": "stream",
     "text": [
      "Daemon thread running...\n"
     ]
    }
   ],
   "source": [
    "# Use Daemon Processes"
   ]
  },
  {
   "cell_type": "code",
   "execution_count": 409,
   "id": "f4b5bf19-bfa7-4ff8-b5f1-3529ef59da0f",
   "metadata": {},
   "outputs": [
    {
     "name": "stdout",
     "output_type": "stream",
     "text": [
      "Daemon thread running...\n",
      "Daemon thread running...\n",
      "Daemon thread running...\n",
      "Main process exiting.\n"
     ]
    }
   ],
   "source": [
    "import multiprocessing\n",
    "import time\n",
    "\n",
    "def background_task():\n",
    "    while True:\n",
    "        print(\"Daemon process running...\")\n",
    "        time.sleep(1)\n",
    "\n",
    "daemon_process = multiprocessing.Process(target=background_task)\n",
    "daemon_process.daemon = True\n",
    "daemon_process.start()\n",
    "\n",
    "time.sleep(3)\n",
    "print(\"Main process exiting.\")\n"
   ]
  },
  {
   "cell_type": "code",
   "execution_count": null,
   "id": "69ec70bf-f30c-4fd4-b6ce-43a041bb974e",
   "metadata": {},
   "outputs": [],
   "source": []
  },
  {
   "cell_type": "code",
   "execution_count": null,
   "id": "a63c5d41-7888-4309-b9f6-a705460c68d2",
   "metadata": {},
   "outputs": [],
   "source": []
  },
  {
   "cell_type": "code",
   "execution_count": null,
   "id": "a6ec4892-0c9d-43fa-ba43-c31372a82f82",
   "metadata": {},
   "outputs": [],
   "source": []
  }
 ],
 "metadata": {
  "kernelspec": {
   "display_name": "Python 3 (ipykernel)",
   "language": "python",
   "name": "python3"
  },
  "language_info": {
   "codemirror_mode": {
    "name": "ipython",
    "version": 3
   },
   "file_extension": ".py",
   "mimetype": "text/x-python",
   "name": "python",
   "nbconvert_exporter": "python",
   "pygments_lexer": "ipython3",
   "version": "3.12.4"
  }
 },
 "nbformat": 4,
 "nbformat_minor": 5
}
