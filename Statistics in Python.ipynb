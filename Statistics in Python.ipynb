{
 "cells": [
  {
   "cell_type": "code",
   "execution_count": 82,
   "id": "66fc71ff-9b68-41d1-b66a-5ad92e5da1af",
   "metadata": {},
   "outputs": [],
   "source": [
    "# Statistics"
   ]
  },
  {
   "cell_type": "code",
   "execution_count": 1,
   "id": "3e84938a-6bae-4577-81b5-b9b4bdaa1f25",
   "metadata": {},
   "outputs": [],
   "source": [
    "# Numpy"
   ]
  },
  {
   "cell_type": "code",
   "execution_count": 3,
   "id": "056415fe-de84-4352-b4a3-a3fd7967461f",
   "metadata": {},
   "outputs": [
    {
     "name": "stdout",
     "output_type": "stream",
     "text": [
      "Mean: 7.875\n",
      "Median: 7.5\n",
      "Standard Deviation: 3.179524335494226\n",
      "Variance: 10.109375\n",
      "Minimum: 3\n",
      "Maximum: 13\n",
      "25th Percentile: 5.75\n",
      "75th Percentile: 9.75\n",
      "Range: 10\n",
      "Mean Absolute Deviation: 2.625\n"
     ]
    }
   ],
   "source": [
    "import numpy as np\n",
    "\n",
    "data = np.array([12, 7, 3, 9, 5, 8, 13, 6])\n",
    "\n",
    "mean = np.mean(data)\n",
    "print(f\"Mean: {mean}\")\n",
    "\n",
    "median = np.median(data)\n",
    "print(f\"Median: {median}\")\n",
    "\n",
    "std_dev = np.std(data)\n",
    "print(f\"Standard Deviation: {std_dev}\")\n",
    "\n",
    "variance = np.var(data)\n",
    "print(f\"Variance: {variance}\")\n",
    "\n",
    "min_value = np.min(data)\n",
    "print(f\"Minimum: {min_value}\")\n",
    "\n",
    "max_value = np.max(data)\n",
    "print(f\"Maximum: {max_value}\")\n",
    "\n",
    "percentile_25 = np.percentile(data, 25)\n",
    "print(f\"25th Percentile: {percentile_25}\")\n",
    "\n",
    "percentile_75 = np.percentile(data, 75)\n",
    "print(f\"75th Percentile: {percentile_75}\")\n",
    "\n",
    "data_range = np.ptp(data)\n",
    "print(f\"Range: {data_range}\")\n",
    "\n",
    "mean_absolute_deviation = np.mean(np.abs(data - mean))\n",
    "print(f\"Mean Absolute Deviation: {mean_absolute_deviation}\")"
   ]
  },
  {
   "cell_type": "code",
   "execution_count": 80,
   "id": "2464d1bd-da83-47ed-8f12-d96f4b38e0c5",
   "metadata": {},
   "outputs": [],
   "source": [
    "# to find the minimum of a function."
   ]
  },
  {
   "cell_type": "code",
   "execution_count": 63,
   "id": "6798482a-9f95-486a-acb1-9d20d9990706",
   "metadata": {},
   "outputs": [],
   "source": [
    "#Let's say we want to minimize the following quadratic function:\n",
    "\n",
    "#f(x)=(x−2)2 + 1"
   ]
  },
  {
   "cell_type": "code",
   "execution_count": 11,
   "id": "4bc091ce-430b-4cbb-8625-4cf08b00cec0",
   "metadata": {},
   "outputs": [
    {
     "name": "stdout",
     "output_type": "stream",
     "text": [
      "Optimal value of x: 1.9999999746237656\n",
      "Minimum value of the function: 1.0000000000000007\n"
     ]
    }
   ],
   "source": [
    "import numpy as np\n",
    "from scipy.optimize import minimize\n",
    "\n",
    "def objective_function(x):\n",
    "    return (x - 2)**2 + 1\n",
    "\n",
    "initial_guess = [0]\n",
    "\n",
    "result = minimize(objective_function, initial_guess)\n",
    "\n",
    "optimal_x = result.x[0]\n",
    "minimum_value = result.fun\n",
    "\n",
    "print(f\"Optimal value of x: {optimal_x}\")\n",
    "print(f\"Minimum value of the function: {minimum_value}\")\n"
   ]
  },
  {
   "cell_type": "code",
   "execution_count": 47,
   "id": "eabc9bcf-6153-4eb5-8536-9075eb1cb4fd",
   "metadata": {},
   "outputs": [],
   "source": [
    "# Shapiro-Wilk Test\n",
    "\n",
    "#Null Hypothesis (H0): The data is normally distributed.\n",
    "#Alternative Hypothesis (H1): The data is not normally distributed."
   ]
  },
  {
   "cell_type": "code",
   "execution_count": 43,
   "id": "9ef92ec2-49d2-4fba-b3b2-58a89328264d",
   "metadata": {},
   "outputs": [
    {
     "name": "stdout",
     "output_type": "stream",
     "text": [
      "Shapiro-Wilk Test Statistic: 0.9971177832131567\n",
      "P-value: 0.06944295497025646\n",
      "T-test Statistic: -2.3277752040243427\n",
      "P-value: 0.02002344232102888\n"
     ]
    }
   ],
   "source": [
    "from scipy import stats\n",
    "import numpy as np\n",
    "\n",
    "data = np.random.normal(loc=0, scale=1, size=1000)\n",
    "#print(data)\n",
    "stat, p_value = stats.shapiro(data)\n",
    "\n",
    "print(f\"Shapiro-Wilk Test Statistic: {stat}\")\n",
    "print(f\"P-value: {p_value}\")\n",
    "\n",
    "data2 = np.random.normal(loc=0.1, scale=1, size=1000)\n",
    "t_stat, p_val = stats.ttest_ind(data, data2)\n",
    "\n",
    "print(f\"T-test Statistic: {t_stat}\")\n",
    "print(f\"P-value: {p_val}\")"
   ]
  },
  {
   "cell_type": "code",
   "execution_count": 49,
   "id": "6503019b-6784-4a9d-9821-86efd34fc670",
   "metadata": {},
   "outputs": [],
   "source": [
    "# One-Sample t-test\n",
    "\n",
    "#Null Hypothesis :Statement: The mean of the sample is equal to the hypothesized population mean.\n",
    "\n",
    "# Alternative Hypothesis : Statement: The mean of the sample is different from the hypothesized population mean."
   ]
  },
  {
   "cell_type": "code",
   "execution_count": 27,
   "id": "28778cbd-7536-4f9b-b07b-fbcffcfd16dc",
   "metadata": {},
   "outputs": [
    {
     "name": "stdout",
     "output_type": "stream",
     "text": [
      "One-Sample t-test Statistic: 0.712068994916313\n",
      "P-value: 0.5031565072452971\n"
     ]
    }
   ],
   "source": [
    "from scipy import stats\n",
    "import numpy as np\n",
    "\n",
    "data = np.array([2.1, 2.3, 2.5, 2.7, 2.6, 2.9, 3.0])\n",
    "\n",
    "known_mean = 2.5\n",
    "\n",
    "t_statistic, p_value = stats.ttest_1samp(data, known_mean)\n",
    "\n",
    "print(f\"One-Sample t-test Statistic: {t_statistic}\")\n",
    "print(f\"P-value: {p_value}\")"
   ]
  },
  {
   "cell_type": "code",
   "execution_count": 29,
   "id": "01ab0601-c8e7-4dc5-832d-6efb5dc411de",
   "metadata": {},
   "outputs": [],
   "source": [
    "#  Independent Two-Sample t-test"
   ]
  },
  {
   "cell_type": "code",
   "execution_count": 31,
   "id": "226c2d99-2a3b-461f-a0d1-7e7335806186",
   "metadata": {},
   "outputs": [
    {
     "name": "stdout",
     "output_type": "stream",
     "text": [
      "Independent Two-Sample t-test Statistic: -5.874269508076823\n",
      "P-value: 7.547919961220426e-05\n"
     ]
    }
   ],
   "source": [
    "from scipy import stats\n",
    "import numpy as np\n",
    "\n",
    "group1 = np.array([2.1, 2.3, 2.5, 2.7, 2.6, 2.9, 3.0])\n",
    "group2 = np.array([3.1, 3.3, 3.5, 3.7, 3.6, 3.9, 4.0])\n",
    "\n",
    "t_statistic, p_value = stats.ttest_ind(group1, group2)\n",
    "\n",
    "print(f\"Independent Two-Sample t-test Statistic: {t_statistic}\")\n",
    "print(f\"P-value: {p_value}\")\n"
   ]
  },
  {
   "cell_type": "code",
   "execution_count": 33,
   "id": "f1a4af97-060d-489d-99c2-729d0ea0d5f4",
   "metadata": {},
   "outputs": [],
   "source": [
    "# Paired t-test"
   ]
  },
  {
   "cell_type": "code",
   "execution_count": 35,
   "id": "fd62ebe2-2307-4bfc-a174-f2d866f1e1ad",
   "metadata": {},
   "outputs": [
    {
     "name": "stdout",
     "output_type": "stream",
     "text": [
      "Paired t-test Statistic: -3.8334908600273216\n",
      "P-value: 0.018562564501560526\n"
     ]
    }
   ],
   "source": [
    "from scipy import stats\n",
    "import numpy as np\n",
    "\n",
    "before_treatment = np.array([2.1, 2.3, 2.5, 2.7, 2.6])\n",
    "after_treatment = np.array([2.5, 2.7, 2.6, 2.8, 2.9])\n",
    "\n",
    "t_statistic, p_value = stats.ttest_rel(before_treatment, after_treatment)\n",
    "\n",
    "print(f\"Paired t-test Statistic: {t_statistic}\")\n",
    "print(f\"P-value: {p_value}\")\n"
   ]
  },
  {
   "cell_type": "code",
   "execution_count": 51,
   "id": "58b56854-34b7-4997-9690-a7dd55e5fc10",
   "metadata": {},
   "outputs": [],
   "source": [
    "# interpolate - method used to estimate unknown values that fall between known values."
   ]
  },
  {
   "cell_type": "code",
   "execution_count": 53,
   "id": "384a6cf4-04b5-4274-a690-8f7bbb6c144c",
   "metadata": {},
   "outputs": [],
   "source": [
    "# Linear Interpolation"
   ]
  },
  {
   "cell_type": "code",
   "execution_count": 55,
   "id": "17544233-306d-4bbb-886c-5c84d2ba29ae",
   "metadata": {},
   "outputs": [
    {
     "data": {
      "image/png": "[encoded data removed]",
      "text/plain": [
       "<Figure size 640x480 with 1 Axes>"
      ]
     },
     "metadata": {},
     "output_type": "display_data"
    }
   ],
   "source": [
    "import numpy as np\n",
    "from scipy.interpolate import interp1d\n",
    "import matplotlib.pyplot as plt\n",
    "\n",
    "x = np.array([0, 1, 2, 3, 4])\n",
    "y = np.array([1, 4, 9, 16, 25])\n",
    "\n",
    "linear_interp = interp1d(x, y, kind='linear')\n",
    "\n",
    "x_new = np.linspace(0, 4, 100)\n",
    "y_new = linear_interp(x_new)\n",
    "\n",
    "plt.plot(x, y, 'o', label='Data points')\n",
    "plt.plot(x_new, y_new, '-', label='Linear interpolation')\n",
    "plt.legend()\n",
    "plt.show()\n"
   ]
  },
  {
   "cell_type": "code",
   "execution_count": 57,
   "id": "64275a36-8bb6-46f4-b109-b49fa00beb6d",
   "metadata": {},
   "outputs": [],
   "source": [
    "# Cubic Spline Interpolation"
   ]
  },
  {
   "cell_type": "code",
   "execution_count": 59,
   "id": "77108aaf-a50b-42ee-9723-a99db9ea0cf9",
   "metadata": {},
   "outputs": [
    {
     "data": {
      "image/png": "[encoded data removed]",
      "text/plain": [
       "<Figure size 640x480 with 1 Axes>"
      ]
     },
     "metadata": {},
     "output_type": "display_data"
    }
   ],
   "source": [
    "import numpy as np\n",
    "from scipy.interpolate import CubicSpline\n",
    "import matplotlib.pyplot as plt\n",
    "\n",
    "x = np.array([0, 1, 2, 3, 4])\n",
    "y = np.array([1, 4, 9, 16, 25])\n",
    "\n",
    "cubic_spline = CubicSpline(x, y)\n",
    "\n",
    "x_new = np.linspace(0, 4, 100)\n",
    "y_new = cubic_spline(x_new)\n",
    "\n",
    "plt.plot(x, y, 'o', label='Data points')\n",
    "plt.plot(x_new, y_new, '-', label='Cubic spline interpolation')\n",
    "plt.legend()\n",
    "plt.show()"
   ]
  },
  {
   "cell_type": "code",
   "execution_count": 28,
   "id": "1bf82cc3-e032-4002-969c-8b4c174e1794",
   "metadata": {},
   "outputs": [],
   "source": [
    "# to find the root of a simple scalar function."
   ]
  },
  {
   "cell_type": "code",
   "execution_count": 32,
   "id": "28fe6424-22df-4af9-bc4d-92bda93eb274",
   "metadata": {},
   "outputs": [
    {
     "name": "stdout",
     "output_type": "stream",
     "text": [
      "Root: 1.0\n"
     ]
    }
   ],
   "source": [
    "from scipy.optimize import root_scalar\n",
    "\n",
    "def func(x):\n",
    "    return x**3 - 1\n",
    "\n",
    "result = root_scalar(func, bracket=[0, 2])\n",
    "\n",
    "print(f\"Root: {result.root}\")"
   ]
  },
  {
   "cell_type": "code",
   "execution_count": 34,
   "id": "f7093aef-8523-45b5-99ed-3641845beb9a",
   "metadata": {},
   "outputs": [],
   "source": [
    "# Matrix Mulitplcation"
   ]
  },
  {
   "cell_type": "code",
   "execution_count": 36,
   "id": "51d07f40-9602-4054-9d56-c095b1f9e66b",
   "metadata": {},
   "outputs": [
    {
     "name": "stdout",
     "output_type": "stream",
     "text": [
      "Matrix A:\n",
      "[[1 2]\n",
      " [3 4]]\n",
      "Inverse of matrix A:\n",
      "[[-2.   1. ]\n",
      " [ 1.5 -0.5]]\n"
     ]
    }
   ],
   "source": [
    "import numpy as np\n",
    "from scipy.linalg import inv\n",
    "\n",
    "A = np.array([[1, 2], [3, 4]])\n",
    "\n",
    "A_inv = inv(A)\n",
    "\n",
    "print(\"Matrix A:\")\n",
    "print(A)\n",
    "print(\"Inverse of matrix A:\")\n",
    "print(A_inv)\n"
   ]
  },
  {
   "cell_type": "code",
   "execution_count": null,
   "id": "7854392e-5a19-4591-ac5a-af58ac16507f",
   "metadata": {},
   "outputs": [],
   "source": []
  },
  {
   "cell_type": "code",
   "execution_count": null,
   "id": "0ae175d2-0ff2-4352-950b-08955b37a1eb",
   "metadata": {},
   "outputs": [],
   "source": []
  },
  {
   "cell_type": "code",
   "execution_count": null,
   "id": "1a957e39-3a05-487d-b1c2-656b3cd90971",
   "metadata": {},
   "outputs": [],
   "source": []
  },
  {
   "cell_type": "code",
   "execution_count": 46,
   "id": "207ab433-6e17-4dea-ae4a-84acdd059e11",
   "metadata": {},
   "outputs": [],
   "source": [
    "# Linear Regression"
   ]
  },
  {
   "cell_type": "code",
   "execution_count": 38,
   "id": "f27c30e9-a75a-4e94-ac43-5bdd07bec32d",
   "metadata": {},
   "outputs": [
    {
     "name": "stdout",
     "output_type": "stream",
     "text": [
      "                            OLS Regression Results                            \n",
      "==============================================================================\n",
      "Dep. Variable:                      y   R-squared:                       0.743\n",
      "Model:                            OLS   Adj. R-squared:                  0.738\n",
      "Method:                 Least Squares   F-statistic:                     140.3\n",
      "Date:                Sat, 07 Sep 2024   Prob (F-statistic):           2.39e-29\n",
      "Time:                        10:58:01   Log-Likelihood:                -133.53\n",
      "No. Observations:                 100   AIC:                             273.1\n",
      "Df Residuals:                      97   BIC:                             280.9\n",
      "Df Model:                           2                                         \n",
      "Covariance Type:            nonrobust                                         \n",
      "==============================================================================\n",
      "                 coef    std err          t      P>|t|      [0.025      0.975]\n",
      "------------------------------------------------------------------------------\n",
      "const          2.1145      0.259      8.162      0.000       1.600       2.629\n",
      "x1             2.5737      0.332      7.742      0.000       1.914       3.233\n",
      "x2             5.0296      0.328     15.346      0.000       4.379       5.680\n",
      "==============================================================================\n",
      "Omnibus:                        0.410   Durbin-Watson:                   2.045\n",
      "Prob(Omnibus):                  0.815   Jarque-Bera (JB):                0.502\n",
      "Skew:                           0.144   Prob(JB):                        0.778\n",
      "Kurtosis:                       2.807   Cond. No.                         5.58\n",
      "==============================================================================\n",
      "\n",
      "Notes:\n",
      "[1] Standard Errors assume that the covariance matrix of the errors is correctly specified.\n"
     ]
    }
   ],
   "source": [
    "import numpy as np\n",
    "import statsmodels.api as sm\n",
    "\n",
    "np.random.seed(0)\n",
    "X = np.random.rand(100, 2)\n",
    "X = sm.add_constant(X)  # Add a constant term (intercept)\n",
    "y = 2 + 3 * X[:, 1] + 5 * X[:, 2] + np.random.randn(100)\n",
    "\n",
    "model = sm.OLS(y, X)\n",
    "results = model.fit()\n",
    "\n",
    "print(results.summary())\n"
   ]
  },
  {
   "cell_type": "code",
   "execution_count": null,
   "id": "41cc03a1-0882-40b0-9a08-9ff3f96c1c4e",
   "metadata": {},
   "outputs": [],
   "source": []
  },
  {
   "cell_type": "code",
   "execution_count": null,
   "id": "677db704-f361-452f-a0cf-6eeb18e4afc4",
   "metadata": {},
   "outputs": [],
   "source": []
  },
  {
   "cell_type": "code",
   "execution_count": 48,
   "id": "694c790e-c5d8-419a-8698-eb74429df4e1",
   "metadata": {},
   "outputs": [],
   "source": [
    "# Time series"
   ]
  },
  {
   "cell_type": "code",
   "execution_count": 42,
   "id": "1ccc3869-b461-4c18-b539-bbcc016700af",
   "metadata": {},
   "outputs": [
    {
     "name": "stdout",
     "output_type": "stream",
     "text": [
      "                               SARIMAX Results                                \n",
      "==============================================================================\n",
      "Dep. Variable:                      y   No. Observations:                  100\n",
      "Model:                 ARIMA(1, 0, 1)   Log Likelihood                -150.160\n",
      "Date:                Sat, 07 Sep 2024   AIC                            308.320\n",
      "Time:                        10:58:37   BIC                            318.741\n",
      "Sample:                             0   HQIC                           312.538\n",
      "                                - 100                                         \n",
      "Covariance Type:                  opg                                         \n",
      "==============================================================================\n",
      "                 coef    std err          z      P>|z|      [0.025      0.975]\n",
      "------------------------------------------------------------------------------\n",
      "const          0.1985      0.323      0.615      0.539      -0.434       0.831\n",
      "ar.L1          0.8691      0.096      9.017      0.000       0.680       1.058\n",
      "ma.L1         -0.5928      0.138     -4.298      0.000      -0.863      -0.322\n",
      "sigma2         1.1752      0.173      6.780      0.000       0.835       1.515\n",
      "===================================================================================\n",
      "Ljung-Box (L1) (Q):                   0.38   Jarque-Bera (JB):                 0.17\n",
      "Prob(Q):                              0.54   Prob(JB):                         0.92\n",
      "Heteroskedasticity (H):               0.75   Skew:                            -0.07\n",
      "Prob(H) (two-sided):                  0.41   Kurtosis:                         2.86\n",
      "===================================================================================\n",
      "\n",
      "Warnings:\n",
      "[1] Covariance matrix calculated using the outer product of gradients (complex-step).\n"
     ]
    },
    {
     "data": {
      "image/png": "[encoded data removed]",
      "text/plain": [
       "<Figure size 640x480 with 1 Axes>"
      ]
     },
     "metadata": {},
     "output_type": "display_data"
    }
   ],
   "source": [
    "import numpy as np\n",
    "import pandas as pd\n",
    "import statsmodels.api as sm\n",
    "\n",
    "np.random.seed(0)\n",
    "n = 100\n",
    "t = np.arange(n)\n",
    "data = np.sin(0.2 * t) + np.random.normal(size=n)\n",
    "ts = pd.Series(data)\n",
    "\n",
    "model = sm.tsa.ARIMA(ts, order=(1, 0, 1))\n",
    "results = model.fit()\n",
    "\n",
    "print(results.summary())\n",
    "\n",
    "import matplotlib.pyplot as plt\n",
    "\n",
    "forecast = results.get_forecast(steps=10)\n",
    "forecast_index = np.arange(n, n+10)\n",
    "forecast_values = forecast.predicted_mean\n",
    "plt.plot(ts, label='Observed')\n",
    "plt.plot(forecast_index, forecast_values, label='Forecast', color='red')\n",
    "plt.legend()\n",
    "plt.show()\n"
   ]
  },
  {
   "cell_type": "code",
   "execution_count": null,
   "id": "c491faf8-a294-49ed-930b-4e5f1dd7bc55",
   "metadata": {},
   "outputs": [],
   "source": []
  },
  {
   "cell_type": "code",
   "execution_count": 52,
   "id": "8e8c287e-1ec1-41be-ae5e-3663cba24f98",
   "metadata": {},
   "outputs": [],
   "source": [
    "# Mean, median Mode"
   ]
  },
  {
   "cell_type": "code",
   "execution_count": 54,
   "id": "39a6937d-60c7-43e7-9d08-c7152c101c86",
   "metadata": {},
   "outputs": [
    {
     "name": "stdout",
     "output_type": "stream",
     "text": [
      "Mean: 30.0\n",
      "Median: 30.0\n",
      "Variance: 250.0\n",
      "Standard Deviation: 15.811388300841896\n"
     ]
    }
   ],
   "source": [
    "import numpy as np\n",
    "\n",
    "data = np.array([10, 20, 30, 40, 50])\n",
    "\n",
    "mean = np.mean(data)\n",
    "print(f\"Mean: {mean}\")\n",
    "\n",
    "median = np.median(data)\n",
    "print(f\"Median: {median}\")\n",
    "\n",
    "variance = np.var(data, ddof=1)  # ddof=1 for sample variance\n",
    "print(f\"Variance: {variance}\")\n",
    "\n",
    "std_dev = np.std(data, ddof=1)  # ddof=1 for sample standard deviation\n",
    "print(f\"Standard Deviation: {std_dev}\")\n"
   ]
  },
  {
   "cell_type": "code",
   "execution_count": 56,
   "id": "31b106d6-9190-4bdb-be47-655db81156d3",
   "metadata": {},
   "outputs": [],
   "source": [
    "# Summary Statistics with SciPy"
   ]
  },
  {
   "cell_type": "code",
   "execution_count": 60,
   "id": "b3bb8485-1493-41d9-8bd7-33dc89f70dfb",
   "metadata": {},
   "outputs": [
    {
     "name": "stdout",
     "output_type": "stream",
     "text": [
      "Skewness: 0.0\n",
      "Kurtosis: -1.3\n"
     ]
    }
   ],
   "source": [
    "import scipy.stats as stats\n",
    "\n",
    "data = np.array([10, 20, 30, 40, 50])\n",
    "\n",
    "skewness = stats.skew(data)\n",
    "print(f\"Skewness: {skewness}\")\n",
    "\n",
    "kurtosis = stats.kurtosis(data)\n",
    "print(f\"Kurtosis: {kurtosis}\")\n"
   ]
  },
  {
   "cell_type": "code",
   "execution_count": 62,
   "id": "567f4a43-d01e-4683-9203-55d5b9a2a954",
   "metadata": {},
   "outputs": [
    {
     "data": {
      "text/plain": [
       "array([10, 20, 30, 40, 50])"
      ]
     },
     "execution_count": 62,
     "metadata": {},
     "output_type": "execute_result"
    }
   ],
   "source": [
    "data"
   ]
  },
  {
   "cell_type": "code",
   "execution_count": null,
   "id": "4e9c0e4a-deea-4064-860d-7d79879dd570",
   "metadata": {},
   "outputs": [],
   "source": []
  },
  {
   "cell_type": "code",
   "execution_count": null,
   "id": "ba0debfa-2588-4920-8e83-4f2b0eca5ad2",
   "metadata": {},
   "outputs": [],
   "source": [
    "# Correlaton and Covariance"
   ]
  },
  {
   "cell_type": "code",
   "execution_count": 64,
   "id": "68b4f067-d134-4a70-866f-b6cd82d4900c",
   "metadata": {},
   "outputs": [
    {
     "name": "stdout",
     "output_type": "stream",
     "text": [
      "Pearson Correlation Coefficient: 0.9999999999999999\n",
      "Covariance Matrix:\n",
      "[[2. 4.]\n",
      " [4. 8.]]\n"
     ]
    }
   ],
   "source": [
    "import numpy as np\n",
    "\n",
    "x = np.array([1, 2, 3, 4, 5])\n",
    "y = np.array([2, 4, 6, 8, 10])\n",
    "\n",
    "correlation = np.corrcoef(x, y)[0, 1]\n",
    "print(f\"Pearson Correlation Coefficient: {correlation}\")\n",
    "\n",
    "cov_matrix = np.cov(x, y, ddof=0)\n",
    "print(f\"Covariance Matrix:\\n{cov_matrix}\")\n"
   ]
  },
  {
   "cell_type": "code",
   "execution_count": null,
   "id": "b1a03583-7e1f-468d-81b7-8f0b910e7a51",
   "metadata": {},
   "outputs": [],
   "source": []
  },
  {
   "cell_type": "code",
   "execution_count": null,
   "id": "e6e9c456-e5ca-4df4-961b-bd8c1897a9b0",
   "metadata": {},
   "outputs": [],
   "source": []
  },
  {
   "cell_type": "code",
   "execution_count": 66,
   "id": "687212bf-1923-46ab-9380-67ec372491e5",
   "metadata": {},
   "outputs": [],
   "source": [
    "# Hypothesis testing"
   ]
  },
  {
   "cell_type": "code",
   "execution_count": 70,
   "id": "aa34e489-617a-4a36-b2ca-b38642da0aa5",
   "metadata": {},
   "outputs": [
    {
     "name": "stdout",
     "output_type": "stream",
     "text": [
      "T-statistic: 0.0\n",
      "P-value: 1.0\n"
     ]
    }
   ],
   "source": [
    "import scipy.stats as stats\n",
    "\n",
    "data = np.array([10, 20, 30, 40, 50])\n",
    "\n",
    "t_stat, p_value = stats.ttest_1samp(data, 30)\n",
    "print(f\"T-statistic: {t_stat}\")\n",
    "print(f\"P-value: {p_value}\")\n"
   ]
  },
  {
   "cell_type": "code",
   "execution_count": null,
   "id": "d6c21099-bab4-4cc1-8256-20a5c34f6af9",
   "metadata": {},
   "outputs": [],
   "source": []
  },
  {
   "cell_type": "code",
   "execution_count": null,
   "id": "0efa9576-d47f-4a36-9913-c066861466c0",
   "metadata": {},
   "outputs": [],
   "source": []
  },
  {
   "cell_type": "code",
   "execution_count": 72,
   "id": "b5070053-d534-4ea5-a0fa-de1e21b9513f",
   "metadata": {},
   "outputs": [],
   "source": [
    "# Confidence Intervals"
   ]
  },
  {
   "cell_type": "code",
   "execution_count": 74,
   "id": "54029ff7-750e-4c77-bfe0-0f0a0abb6fa5",
   "metadata": {},
   "outputs": [
    {
     "name": "stdout",
     "output_type": "stream",
     "text": [
      "95% Confidence Interval: (10.367568385224395, 49.632431614775605)\n"
     ]
    }
   ],
   "source": [
    "import numpy as np\n",
    "import scipy.stats as stats\n",
    "\n",
    "data = np.array([10, 20, 30, 40, 50])\n",
    "\n",
    "mean = np.mean(data)\n",
    "sem = stats.sem(data)  # Standard Error of the Mean\n",
    "\n",
    "confidence_interval = stats.t.interval(0.95, len(data)-1, loc=mean, scale=sem)\n",
    "print(f\"95% Confidence Interval: {confidence_interval}\")\n"
   ]
  },
  {
   "cell_type": "code",
   "execution_count": null,
   "id": "e363be1f-0f5d-4d04-b9fe-7e0c412efde5",
   "metadata": {},
   "outputs": [],
   "source": []
  },
  {
   "cell_type": "code",
   "execution_count": null,
   "id": "d6205552-af90-4e41-86a4-5634c1dbe9b0",
   "metadata": {},
   "outputs": [],
   "source": []
  },
  {
   "cell_type": "code",
   "execution_count": 76,
   "id": "b1376cd6-c9b3-46a4-b6d4-4214388f8237",
   "metadata": {},
   "outputs": [],
   "source": [
    "# Frequency distribution"
   ]
  },
  {
   "cell_type": "code",
   "execution_count": 78,
   "id": "69af5017-36ea-43f3-afc1-09a4c07e8ed2",
   "metadata": {},
   "outputs": [
    {
     "data": {
      "image/png": "[encoded data removed]",
      "text/plain": [
       "<Figure size 640x480 with 1 Axes>"
      ]
     },
     "metadata": {},
     "output_type": "display_data"
    }
   ],
   "source": [
    "import numpy as np\n",
    "import matplotlib.pyplot as plt\n",
    "\n",
    "data = np.random.randn(1000)\n",
    "\n",
    "plt.hist(data, bins=30, density=True, alpha=0.6, color='g')\n",
    "\n",
    "plt.title('Histogram of Random Data')\n",
    "plt.xlabel('Value')\n",
    "plt.ylabel('Frequency')\n",
    "plt.show()\n"
   ]
  }
 ],
 "metadata": {
  "kernelspec": {
   "display_name": "Python 3 (ipykernel)",
   "language": "python",
   "name": "python3"
  },
  "language_info": {
   "codemirror_mode": {
    "name": "ipython",
    "version": 3
   },
   "file_extension": ".py",
   "mimetype": "text/x-python",
   "name": "python",
   "nbconvert_exporter": "python",
   "pygments_lexer": "ipython3",
   "version": "3.12.4"
  }
 },
 "nbformat": 4,
 "nbformat_minor": 5
}
