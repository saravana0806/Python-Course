{
 "cells": [
  {
   "cell_type": "markdown",
   "id": "8bfb591a-113d-4ecf-b271-e8992b9f7201",
   "metadata": {},
   "source": [
    "##  Python Data Structures "
   ]
  },
  {
   "cell_type": "markdown",
   "id": "0414fc2a-eb94-4938-9775-aff3e59dba23",
   "metadata": {},
   "source": [
    "### Lists"
   ]
  },
  {
   "cell_type": "code",
   "execution_count": 140,
   "id": "7d40504b-da2c-403a-bdf9-28f68d6d5848",
   "metadata": {},
   "outputs": [],
   "source": [
    "my_list = []\n",
    "\n",
    "my_list = [1, 2, 3, \"Python\", 3.14]"
   ]
  },
  {
   "cell_type": "markdown",
   "id": "8c753258-0600-4899-914a-f0ed8bf9bfb1",
   "metadata": {},
   "source": [
    "### Accessing Elements"
   ]
  },
  {
   "cell_type": "code",
   "execution_count": 141,
   "id": "8b344aa6-0741-4fed-9cbf-9adedaec0d51",
   "metadata": {},
   "outputs": [],
   "source": [
    "# Accessing elements by index\n",
    "first_element = my_list[0]     \n",
    "second_element = my_list[1]    \n",
    "last_element = my_list[-1]     \n",
    "\n",
    "# Slicing a list\n",
    "sub_list = my_list[1:4]       "
   ]
  },
  {
   "cell_type": "markdown",
   "id": "88971e94-85fb-403a-9abf-45ca05abeee6",
   "metadata": {},
   "source": [
    "### List Methods"
   ]
  },
  {
   "cell_type": "code",
   "execution_count": 142,
   "id": "156ab7ec-f975-48af-aa63-a503c819be74",
   "metadata": {},
   "outputs": [],
   "source": [
    "# Append an element\n",
    "my_list.append(\"New Element\")\n",
    "\n",
    "# Remove an element\n",
    "my_list.remove(2)  # Removes the first occurrence of 2\n",
    "\n",
    "# Insert an element at a specific position\n",
    "my_list.insert(1, \"Inserted Element\")\n",
    "\n",
    "# Extend the list with another list\n",
    "my_list.extend([7, 8, 9])\n",
    "\n",
    "# Pop an element (removes and returns the last element by default)\n",
    "popped_element = my_list.pop()\n",
    "\n",
    "# Reverse the list\n",
    "my_list.reverse()\n",
    "\n",
    "# Find the index of an element\n",
    "index_of_python = my_list.index(\"Python\")\n",
    "\n",
    "# Count occurrences of an element\n",
    "count_of_element = my_list.count(\"Python\")\n"
   ]
  },
  {
   "cell_type": "markdown",
   "id": "c0f2703e-b61e-45f6-a3e2-5df52040791d",
   "metadata": {},
   "source": [
    "### List Comprehension"
   ]
  },
  {
   "cell_type": "code",
   "execution_count": 143,
   "id": "bcc178b8-8956-4151-b646-d0336697be6b",
   "metadata": {},
   "outputs": [],
   "source": [
    "# Basic list comprehension\n",
    "squares = [x**2 for x in range(10)]  \n",
    "\n",
    "# With a condition\n",
    "even_squares = [x**2 for x in range(10) if x % 2 == 0] "
   ]
  },
  {
   "cell_type": "code",
   "execution_count": null,
   "id": "089aa937-160e-4906-9a2d-7004c90a4655",
   "metadata": {},
   "outputs": [],
   "source": []
  },
  {
   "cell_type": "code",
   "execution_count": null,
   "id": "108c1ed7-d778-40fc-a19a-21d5052f1c7b",
   "metadata": {},
   "outputs": [],
   "source": []
  },
  {
   "cell_type": "markdown",
   "id": "c2df8efb-df74-43ac-92fd-51d83f7c2e71",
   "metadata": {},
   "source": [
    "### Tuples"
   ]
  },
  {
   "cell_type": "code",
   "execution_count": 144,
   "id": "c5f8dea7-2239-4b84-964c-1b2c249d9927",
   "metadata": {},
   "outputs": [],
   "source": [
    "my_tuple = ()\n",
    "\n",
    "my_tuple = (1, 2, 3, \"Python\", 3.14)"
   ]
  },
  {
   "cell_type": "markdown",
   "id": "7d0a5349-7c7e-499b-afa4-d803a0b7f08f",
   "metadata": {},
   "source": [
    "### Accessing Element"
   ]
  },
  {
   "cell_type": "code",
   "execution_count": 145,
   "id": "c845f890-4f6b-433a-8610-1944a4a4ab63",
   "metadata": {},
   "outputs": [],
   "source": [
    "# Accessing elements by index\n",
    "first_element = my_tuple[0]     \n",
    "second_element = my_tuple[1]    \n",
    "last_element = my_tuple[-1]     \n",
    "\n",
    "# Slicing a tuple\n",
    "sub_tuple = my_tuple[1:4]       "
   ]
  },
  {
   "cell_type": "markdown",
   "id": "6703df60-7de4-42da-afae-3e2e55dbf09e",
   "metadata": {},
   "source": [
    "### Tuple Methods"
   ]
  },
  {
   "cell_type": "code",
   "execution_count": 146,
   "id": "401968c7-485e-4c8d-ac29-e8942f9c3a8a",
   "metadata": {},
   "outputs": [],
   "source": [
    "# Count occurrences of an element\n",
    "count_of_python = my_tuple.count(\"Python\")\n",
    "\n",
    "# Find the index of an element\n",
    "index_of_python = my_tuple.index(\"Python\")"
   ]
  },
  {
   "cell_type": "markdown",
   "id": "1405d38b-13fd-45d5-96d8-daa9e20242ba",
   "metadata": {},
   "source": [
    "### Tuple Comprehension"
   ]
  },
  {
   "cell_type": "code",
   "execution_count": 147,
   "id": "bb7971e0-63a0-472e-8f9a-3b57619c6924",
   "metadata": {},
   "outputs": [],
   "source": [
    "# Tuple comprehension using a generator expression\n",
    "squares_tuple = tuple(x**2 for x in range(10))  "
   ]
  },
  {
   "cell_type": "code",
   "execution_count": null,
   "id": "2f63ca0c-036b-42af-b52f-2ae97b1f5cb3",
   "metadata": {},
   "outputs": [],
   "source": []
  },
  {
   "cell_type": "code",
   "execution_count": null,
   "id": "d6d337a8-67fc-4138-99b4-6df1cc2ee6f7",
   "metadata": {},
   "outputs": [],
   "source": []
  },
  {
   "cell_type": "markdown",
   "id": "0063bc52-e25f-46c8-ad47-108e4434f083",
   "metadata": {},
   "source": [
    "### Dictionaries"
   ]
  },
  {
   "cell_type": "code",
   "execution_count": 148,
   "id": "eac578c2-a886-4cc8-9cdb-63d48c2ef801",
   "metadata": {},
   "outputs": [],
   "source": [
    "my_dict = {}\n",
    "\n",
    "my_dict = {\"name\": \"Alice\", \"age\": 25, \"city\": \"New York\"}"
   ]
  },
  {
   "cell_type": "markdown",
   "id": "8df400f1-fe41-41e0-810e-dcb321172cf0",
   "metadata": {},
   "source": [
    "### Accessing Elements"
   ]
  },
  {
   "cell_type": "code",
   "execution_count": 149,
   "id": "309501c1-2541-4d09-9928-cf399cc0fd2a",
   "metadata": {},
   "outputs": [],
   "source": [
    "# Accessing values by key\n",
    "name = my_dict[\"name\"]  \n",
    "age = my_dict[\"age\"]    \n",
    "\n",
    "# Using the get method (avoids KeyError if the key is not present)\n",
    "city = my_dict.get(\"city\", \"Unknown\") "
   ]
  },
  {
   "cell_type": "markdown",
   "id": "b1f00245-7b22-417a-b721-c91f1ff1b8a4",
   "metadata": {},
   "source": [
    "### Dictionary Methods"
   ]
  },
  {
   "cell_type": "code",
   "execution_count": 150,
   "id": "ae0ded5c-e92f-4eb9-a9e9-6fe15c0f0e62",
   "metadata": {},
   "outputs": [],
   "source": [
    "# Add or update an item\n",
    "my_dict[\"email\"] = \"alice@example.com\"\n",
    "\n",
    "# Remove an item\n",
    "del my_dict[\"age\"]\n",
    "\n",
    "# Get all keys\n",
    "keys = my_dict.keys()  # dict_keys(['name', 'city', 'email'])\n",
    "\n",
    "# Get all values\n",
    "values = my_dict.values()  # dict_values(['Alice', 'New York', 'alice@example.com'])\n",
    "\n",
    "# Get all key-value pairs\n",
    "items = my_dict.items()  # dict_items([('name', 'Alice'), ('city', 'New York'), ('email', 'alice@example.com')])\n",
    "\n",
    "# Pop an item (removes and returns the item with the specified key)\n",
    "email = my_dict.pop(\"email\")\n",
    "\n",
    "# Clear all items\n",
    "my_dict.clear()"
   ]
  },
  {
   "cell_type": "markdown",
   "id": "4f4c8566-9b06-429f-af7f-af32bdf7333b",
   "metadata": {},
   "source": [
    "### Dictionary Comprehension"
   ]
  },
  {
   "cell_type": "code",
   "execution_count": 151,
   "id": "8e9ee4f8-1f86-4e8d-9b6d-eb43832dfcaa",
   "metadata": {},
   "outputs": [],
   "source": [
    "# Basic dictionary comprehension\n",
    "squares_dict = {x: x**2 for x in range(10)} \n",
    "# With a condition\n",
    "even_squares_dict = {x: x**2 for x in range(10) if x % 2 == 0}  "
   ]
  },
  {
   "cell_type": "code",
   "execution_count": null,
   "id": "011c3774-a60b-4f22-9f97-b4295a69cedc",
   "metadata": {},
   "outputs": [],
   "source": []
  },
  {
   "cell_type": "code",
   "execution_count": null,
   "id": "e0f4ceff-b532-4503-8db0-1396034f8bbf",
   "metadata": {},
   "outputs": [],
   "source": []
  },
  {
   "cell_type": "markdown",
   "id": "e7d64c63-8fef-4b9e-bdb0-4b3623b1b9f0",
   "metadata": {},
   "source": [
    "### Sets"
   ]
  },
  {
   "cell_type": "code",
   "execution_count": 156,
   "id": "55c0be52-3dc6-4ad4-ac63-17efa42dd7bd",
   "metadata": {},
   "outputs": [],
   "source": [
    "my_set = set()\n",
    "\n",
    "my_set = {1, 2, 3, \"Python\", 3.14}"
   ]
  },
  {
   "cell_type": "markdown",
   "id": "ce624f06-3c2f-4df9-8e6c-322fdee1bf3b",
   "metadata": {},
   "source": [
    "### Accessing Elements"
   ]
  },
  {
   "cell_type": "code",
   "execution_count": 157,
   "id": "d3491bdb-5e54-4154-9db6-0fe881991ffd",
   "metadata": {},
   "outputs": [
    {
     "name": "stdout",
     "output_type": "stream",
     "text": [
      "1\n",
      "2\n",
      "3.14\n",
      "3\n",
      "Python\n"
     ]
    }
   ],
   "source": [
    "# Check if an element is in the set\n",
    "contains_python = \"Python\" in my_set  # True\n",
    "\n",
    "# Iterate over the set\n",
    "for item in my_set:\n",
    "    print(item)"
   ]
  },
  {
   "cell_type": "markdown",
   "id": "5ad3635d-d19d-4898-9135-d2e8d3a10363",
   "metadata": {},
   "source": [
    "### Set Methods"
   ]
  },
  {
   "cell_type": "code",
   "execution_count": 158,
   "id": "9dfeac1e-8ded-4a8e-9b83-b0ec866cc87a",
   "metadata": {},
   "outputs": [],
   "source": [
    "# Add an element\n",
    "my_set.add(\"New Element\")\n",
    "\n",
    "# Remove an element\n",
    "my_set.remove(2)  # Raises KeyError if the element is not present\n",
    "\n",
    "# Discard an element (does not raise an error if the element is not present)\n",
    "my_set.discard(2)\n",
    "\n",
    "# Pop an element (removes and returns an arbitrary element)\n",
    "popped_element = my_set.pop()\n",
    "\n",
    "# Clear all elements\n",
    "my_set.clear()\n",
    "\n",
    "# Union of sets\n",
    "another_set = {3, 4, 5}\n",
    "union_set = my_set.union(another_set)\n",
    "\n",
    "# Intersection of sets\n",
    "intersection_set = my_set.intersection(another_set)\n",
    "\n",
    "# Difference of sets\n",
    "difference_set = my_set.difference(another_set)\n",
    "\n",
    "# Symmetric difference of sets\n",
    "symmetric_difference_set = my_set.symmetric_difference(another_set)"
   ]
  },
  {
   "cell_type": "markdown",
   "id": "c3f10eea-1737-4e02-8591-769fffd9dcf8",
   "metadata": {},
   "source": [
    "### Set Comprehension"
   ]
  },
  {
   "cell_type": "code",
   "execution_count": 159,
   "id": "34e5bbf9-8276-4ee5-9819-49ee48ad9565",
   "metadata": {},
   "outputs": [],
   "source": [
    "# Basic set comprehension\n",
    "squares_set = {x**2 for x in range(10)}  \n",
    "# With a condition\n",
    "even_squares_set = {x**2 for x in range(10) if x % 2 == 0}  "
   ]
  },
  {
   "cell_type": "markdown",
   "id": "36562dd7-7b84-419c-9ca2-cf75574bc127",
   "metadata": {},
   "source": [
    "### Set Operations"
   ]
  },
  {
   "cell_type": "code",
   "execution_count": 160,
   "id": "7e53a289-a345-4745-85a3-4ba10c39fa5a",
   "metadata": {},
   "outputs": [],
   "source": [
    "set1 = {1, 2, 3, 4}\n",
    "set2 = {3, 4, 5, 6}\n",
    "\n",
    "# Union\n",
    "union_set = set1 | set2  \n",
    "\n",
    "# Intersection\n",
    "intersection_set = set1 & set2 \n",
    "\n",
    "# Difference\n",
    "difference_set = set1 - set2  \n",
    "\n",
    "# Symmetric Difference\n",
    "symmetric_difference_set = set1 ^ set2  "
   ]
  },
  {
   "cell_type": "code",
   "execution_count": null,
   "id": "584c99d0-a7d3-424a-9dd5-b69c90c986c6",
   "metadata": {},
   "outputs": [],
   "source": []
  },
  {
   "cell_type": "code",
   "execution_count": null,
   "id": "0df224a3-5eed-4b9b-98fe-302c0d2358e7",
   "metadata": {},
   "outputs": [],
   "source": []
  },
  {
   "cell_type": "markdown",
   "id": "e7d904a9-7a7d-42b0-b824-f78b1765faf7",
   "metadata": {},
   "source": [
    "## Immutability"
   ]
  },
  {
   "cell_type": "code",
   "execution_count": 161,
   "id": "bcbcff5a-5e24-4174-ab11-d398ef4c9ad5",
   "metadata": {},
   "outputs": [
    {
     "data": {
      "text/plain": [
       "'Mutable vs Immutable:\\n\\nMutable: Lists, dictionaries, sets.\\nImmutable: Tuples, strings'"
      ]
     },
     "execution_count": 161,
     "metadata": {},
     "output_type": "execute_result"
    }
   ],
   "source": [
    "'''Mutable vs Immutable:\n",
    "\n",
    "Mutable: Lists, dictionaries, sets.\n",
    "Immutable: Tuples, strings'''"
   ]
  },
  {
   "cell_type": "code",
   "execution_count": null,
   "id": "1eab2a59-25d3-4d99-8fef-901c9dd5157e",
   "metadata": {},
   "outputs": [],
   "source": []
  },
  {
   "cell_type": "code",
   "execution_count": null,
   "id": "93af7a0a-8b08-4ceb-a475-d11d38aded85",
   "metadata": {},
   "outputs": [],
   "source": []
  },
  {
   "cell_type": "markdown",
   "id": "a194fe3c-e4e1-49bb-af55-23889685c220",
   "metadata": {},
   "source": [
    "### Comparison: Lists vs Tuples"
   ]
  },
  {
   "cell_type": "code",
   "execution_count": 162,
   "id": "7be842c3-8b1d-4ee7-9b87-f4ece2f4f3fd",
   "metadata": {},
   "outputs": [],
   "source": [
    "# List Example\n",
    "my_list = [1, 2, 3]\n",
    "my_list.append(4)\n",
    "my_list[0] = 10  # Modifying an element\n",
    "\n",
    "# Tuple Example\n",
    "my_tuple = (1, 2, 3)\n",
    "# my_tuple.append(4)  # AttributeError: 'tuple' object has no attribute 'append'\n",
    "# my_tuple[0] = 10  # TypeError: 'tuple' object does not support item assignment\n"
   ]
  },
  {
   "cell_type": "code",
   "execution_count": null,
   "id": "9c3beea6-5a5b-4496-808f-d13cedae1cd8",
   "metadata": {},
   "outputs": [],
   "source": []
  },
  {
   "cell_type": "code",
   "execution_count": 31,
   "id": "2515c034-d85f-493a-a772-884d4c754890",
   "metadata": {},
   "outputs": [],
   "source": []
  },
  {
   "cell_type": "markdown",
   "id": "75dbc754-cbea-43c1-b79e-5c8f45717ff8",
   "metadata": {},
   "source": [
    "### Numeric Types in Python"
   ]
  },
  {
   "cell_type": "code",
   "execution_count": 163,
   "id": "dae961f4-eeac-4281-a43a-38476cff1f6e",
   "metadata": {},
   "outputs": [],
   "source": [
    "# Integer\n",
    "num_int = 42\n",
    "\n",
    "# Floating-point number\n",
    "num_float = 3.14\n",
    "\n",
    "# Complex number\n",
    "num_complex = 2 + 3j\n",
    "\n",
    "# Arithmetic Operations\n",
    "sum_int = num_int + 10          \n",
    "diff_float = num_float - 1.14   \n",
    "product = num_int * num_float   \n",
    "quotient = num_float / 2        \n",
    "\n",
    "# Complex Number Operations\n",
    "complex_sum = num_complex + (1 - 1j)  "
   ]
  },
  {
   "cell_type": "code",
   "execution_count": null,
   "id": "efe0a819-da45-41f7-856e-b466834c8a26",
   "metadata": {},
   "outputs": [],
   "source": []
  },
  {
   "cell_type": "code",
   "execution_count": null,
   "id": "accbe445-49ff-48ac-9345-baf03298b609",
   "metadata": {},
   "outputs": [],
   "source": []
  },
  {
   "cell_type": "markdown",
   "id": "2598e8a8-93fe-45f7-9891-0c79032d0e23",
   "metadata": {},
   "source": [
    "### String Types"
   ]
  },
  {
   "cell_type": "code",
   "execution_count": 164,
   "id": "bac9452a-2579-49aa-87d7-f6dffec19a18",
   "metadata": {},
   "outputs": [],
   "source": [
    "# Defining a string\n",
    "text = \"Hello, World!\"\n",
    "\n",
    "# Accessing Characters\n",
    "first_char = text[0]   \n",
    "last_char = text[-1]   \n",
    "\n",
    "# Slicing\n",
    "substring = text[7:12] \n",
    "\n",
    "# Concatenation\n",
    "greeting = \"Hello\" + \" \" + \"Python\"  \n",
    "\n",
    "# Repetition\n",
    "repeated = \"Ha\" * 3  # 'HaHaHa'\n",
    "\n",
    "# String Methods\n",
    "upper_text = text.upper()       \n",
    "lower_text = text.lower()       \n",
    "replace_text = text.replace(\"World\", \"Python\") \n",
    "split_text = text.split(\", \") "
   ]
  },
  {
   "cell_type": "markdown",
   "id": "dfb711ef-4708-4432-bac5-09dd50a62998",
   "metadata": {},
   "source": [
    "### String Formating"
   ]
  },
  {
   "cell_type": "code",
   "execution_count": 167,
   "id": "27ce83db-db07-45cf-ab18-eccf14811008",
   "metadata": {},
   "outputs": [
    {
     "name": "stdout",
     "output_type": "stream",
     "text": [
      "Name: Alice, Age: 30\n",
      "Name: Alice, Age: 30\n"
     ]
    }
   ],
   "source": [
    "# Using f-strings (Python 3.6+)\n",
    "name = \"Alice\"\n",
    "age = 30\n",
    "formatted_str = f\"Name: {name}, Age: {age}\"  \n",
    "print(formatted_str)\n",
    "# Using .format()\n",
    "formatted_str = \"Name: {}, Age: {}\".format(name, age)  \n",
    "print(formatted_str)"
   ]
  },
  {
   "cell_type": "code",
   "execution_count": null,
   "id": "cbf52325-0a96-45bc-b126-dbe17c68e0f1",
   "metadata": {},
   "outputs": [],
   "source": []
  },
  {
   "cell_type": "code",
   "execution_count": null,
   "id": "24690015-2512-414a-b192-52c8fdacd4a8",
   "metadata": {},
   "outputs": [],
   "source": []
  },
  {
   "cell_type": "markdown",
   "id": "0d7b22f2-7f78-43e9-9ea7-713fd3d69508",
   "metadata": {},
   "source": [
    "### Random Number Generation"
   ]
  },
  {
   "cell_type": "code",
   "execution_count": 169,
   "id": "8e00b6b1-b513-422a-93cb-6a24340cdb04",
   "metadata": {},
   "outputs": [
    {
     "name": "stdout",
     "output_type": "stream",
     "text": [
      "['banana', 'cherry', 'apple']\n"
     ]
    }
   ],
   "source": [
    "import random\n",
    "\n",
    "# Generating a random integer between 1 and 10\n",
    "rand_int = random.randint(1, 10)  \n",
    "\n",
    "# Generating a random floating-point number between 0 and 1\n",
    "rand_float = random.random()      \n",
    "\n",
    "# Generating a random floating-point number within a specific range\n",
    "rand_float_range = random.uniform(1.5, 2.5)  \n",
    "\n",
    "# Choosing a random element from a list\n",
    "elements = ['apple', 'banana', 'cherry']\n",
    "rand_element = random.choice(elements)  \n",
    "\n",
    "# Shuffling a list\n",
    "random.shuffle(elements)\n",
    "print(elements)  "
   ]
  },
  {
   "cell_type": "code",
   "execution_count": null,
   "id": "703f32e1-ab26-4819-b22e-c636567cfb34",
   "metadata": {},
   "outputs": [],
   "source": []
  },
  {
   "cell_type": "code",
   "execution_count": null,
   "id": "6d41febe-ff29-43f0-9afd-bc6ce52e8d8c",
   "metadata": {},
   "outputs": [],
   "source": []
  },
  {
   "cell_type": "markdown",
   "id": "8e1ab140-865c-4a83-b113-682dcd3b2afa",
   "metadata": {},
   "source": [
    "### Matrix Operations"
   ]
  },
  {
   "cell_type": "code",
   "execution_count": 170,
   "id": "f48718d2-eb9a-43f8-b54e-007e332d3c8d",
   "metadata": {},
   "outputs": [],
   "source": [
    "import numpy as np\n",
    "\n",
    "# Defining matrices\n",
    "matrix_a = np.array([[1, 2], [3, 4]])\n",
    "matrix_b = np.array([[5, 6], [7, 8]])\n",
    "\n",
    "# Matrix Addition\n",
    "matrix_sum = matrix_a + matrix_b\n",
    "\n",
    "# Matrix Multiplication\n",
    "matrix_product = np.dot(matrix_a, matrix_b)\n",
    "\n",
    "# Element-wise Multiplication\n",
    "elementwise_product = matrix_a * matrix_b\n",
    "\n",
    "# Transposing a Matrix\n",
    "matrix_transpose = matrix_a.T"
   ]
  },
  {
   "cell_type": "code",
   "execution_count": null,
   "id": "dc394118-7ee8-4f20-a3f5-ac17feea4021",
   "metadata": {},
   "outputs": [],
   "source": []
  },
  {
   "cell_type": "code",
   "execution_count": null,
   "id": "0da6025d-c03a-48d1-8867-597cd9f28a3b",
   "metadata": {},
   "outputs": [],
   "source": []
  },
  {
   "cell_type": "markdown",
   "id": "bbada31b-caa7-495b-997a-257d8f40d07e",
   "metadata": {},
   "source": [
    "###  List Comprehension"
   ]
  },
  {
   "cell_type": "code",
   "execution_count": 171,
   "id": "1ac64bbe-388a-4470-a70c-98589297af98",
   "metadata": {},
   "outputs": [],
   "source": [
    "# Creating a list of squares\n",
    "squares = [x**2 for x in range(10)] \n",
    "\n",
    "# Creating a list of even numbers\n",
    "even_numbers = [x for x in range(20) if x % 2 == 0] \n",
    "\n",
    "# Applying a function to each element in a list\n",
    "words = [\"hello\", \"world\", \"python\"]\n",
    "uppercase_words = [word.upper() for word in words] \n",
    "\n",
    "# Nested list comprehension\n",
    "matrix = [[1, 2, 3], [4, 5, 6], [7, 8, 9]]\n",
    "flattened = [num for row in matrix for num in row] "
   ]
  },
  {
   "cell_type": "code",
   "execution_count": null,
   "id": "b3357808-42a3-47b8-bc4b-4ade9a3b7635",
   "metadata": {},
   "outputs": [],
   "source": []
  },
  {
   "cell_type": "code",
   "execution_count": null,
   "id": "87f314bf-edaa-4795-830d-600285f1b5ed",
   "metadata": {},
   "outputs": [],
   "source": []
  },
  {
   "cell_type": "markdown",
   "id": "211ed76b-7fdc-495e-b7f8-31ac5d500aec",
   "metadata": {},
   "source": [
    "### User-Defined Functions"
   ]
  },
  {
   "cell_type": "code",
   "execution_count": 172,
   "id": "ebf2afc6-e8e7-4b54-9657-9f74a1990210",
   "metadata": {},
   "outputs": [],
   "source": [
    "def function_name(parameters):\n",
    "    \"\"\"\n",
    "    Optional docstring: Description of the function.\n",
    "    \"\"\"\n",
    "    # Function body\n",
    "    pass  # Replace pass with actual code"
   ]
  },
  {
   "cell_type": "code",
   "execution_count": 45,
   "id": "82327420-224e-4726-bee7-30ff95704c00",
   "metadata": {},
   "outputs": [],
   "source": [
    "# Functions with and without Parameters"
   ]
  },
  {
   "cell_type": "code",
   "execution_count": 173,
   "id": "33b6864c-abc2-40b2-a593-87cb652955e4",
   "metadata": {},
   "outputs": [
    {
     "name": "stdout",
     "output_type": "stream",
     "text": [
      "Hello, World!\n"
     ]
    }
   ],
   "source": [
    "def greet():\n",
    "    \"\"\"\n",
    "    Function that prints a greeting message.\n",
    "    \"\"\"\n",
    "    print(\"Hello, World!\")\n",
    "\n",
    "# Calling the function\n",
    "greet()  \n"
   ]
  },
  {
   "cell_type": "code",
   "execution_count": 174,
   "id": "2858f390-e02f-4149-8376-e762220d29a6",
   "metadata": {},
   "outputs": [
    {
     "name": "stdout",
     "output_type": "stream",
     "text": [
      "Hello, Alice!\n"
     ]
    }
   ],
   "source": [
    "def greet(name):\n",
    "    \"\"\"\n",
    "    Function that prints a personalized greeting message.\n",
    "    \n",
    "    Parameters:\n",
    "    name (str): The name of the person to greet.\n",
    "    \"\"\"\n",
    "    print(f\"Hello, {name}!\")\n",
    "\n",
    "# Calling the function with an argument\n",
    "greet(\"Alice\")  \n"
   ]
  },
  {
   "cell_type": "code",
   "execution_count": 48,
   "id": "6473e2ab-49fd-4f44-a443-c1d565375b6b",
   "metadata": {},
   "outputs": [],
   "source": [
    "# Local & Global Variables"
   ]
  },
  {
   "cell_type": "code",
   "execution_count": 175,
   "id": "a4dae639-4822-473a-9374-b2173fbd6ec4",
   "metadata": {},
   "outputs": [
    {
     "name": "stdout",
     "output_type": "stream",
     "text": [
      "I am local\n"
     ]
    }
   ],
   "source": [
    "def local_example():\n",
    "    local_var = \"I am local\"\n",
    "    print(local_var)\n",
    "\n",
    "# Calling the function\n",
    "local_example()  \n",
    "\n",
    "# Trying to access local_var outside the function will result in an error\n",
    "# print(local_var)  # NameError: name 'local_var' is not defined"
   ]
  },
  {
   "cell_type": "code",
   "execution_count": 50,
   "id": "d9d1b091-d3fc-49f9-a1a4-bab9df6a104e",
   "metadata": {},
   "outputs": [],
   "source": [
    "# Global Variables"
   ]
  },
  {
   "cell_type": "code",
   "execution_count": 176,
   "id": "a5768ab2-10ad-43cb-b3d1-06d887236e0c",
   "metadata": {},
   "outputs": [
    {
     "name": "stdout",
     "output_type": "stream",
     "text": [
      "I am global\n"
     ]
    }
   ],
   "source": [
    "global_var = \"I am global\"\n",
    "\n",
    "def global_example():\n",
    "    print(global_var)\n",
    "\n",
    "# Calling the function\n",
    "global_example()"
   ]
  },
  {
   "cell_type": "code",
   "execution_count": 177,
   "id": "968d2264-68f4-450f-89c9-ed40c01f87dd",
   "metadata": {},
   "outputs": [
    {
     "name": "stdout",
     "output_type": "stream",
     "text": [
      "I have been modified\n"
     ]
    }
   ],
   "source": [
    "global_var = \"I am global\"\n",
    "\n",
    "def modify_global():\n",
    "    global global_var\n",
    "    global_var = \"I have been modified\"\n",
    "\n",
    "# Calling the function\n",
    "modify_global()\n",
    "print(global_var) "
   ]
  },
  {
   "cell_type": "code",
   "execution_count": null,
   "id": "873f9ff9-2694-4645-9645-4b6b74d667d3",
   "metadata": {},
   "outputs": [],
   "source": []
  },
  {
   "cell_type": "code",
   "execution_count": null,
   "id": "cbc7c550-4f63-40d7-bccd-2dc1f3d29b66",
   "metadata": {},
   "outputs": [],
   "source": []
  },
  {
   "cell_type": "markdown",
   "id": "b5f6c007-adea-4c97-8a39-e871809dbed7",
   "metadata": {},
   "source": [
    "### Lambda Functions"
   ]
  },
  {
   "cell_type": "code",
   "execution_count": 178,
   "id": "9b02ff91-a46d-4b0c-b9eb-b3409b4e6d60",
   "metadata": {},
   "outputs": [
    {
     "data": {
      "text/plain": [
       "<function __main__.<lambda>(arguments)>"
      ]
     },
     "execution_count": 178,
     "metadata": {},
     "output_type": "execute_result"
    }
   ],
   "source": [
    "lambda arguments: expression"
   ]
  },
  {
   "cell_type": "code",
   "execution_count": 183,
   "id": "a5337222-4998-41d1-8d35-ce2bfefaaf8d",
   "metadata": {},
   "outputs": [
    {
     "name": "stdout",
     "output_type": "stream",
     "text": [
      "15\n"
     ]
    }
   ],
   "source": [
    "# A lambda function that adds 10 to its input\n",
    "add_ten = lambda x: x + 10\n",
    "\n",
    "# Calling the lambda function\n",
    "result = add_ten(5)  \n",
    "print(result)"
   ]
  },
  {
   "cell_type": "code",
   "execution_count": 55,
   "id": "0130b4d8-64d2-4498-a334-2ad8ea16d8ee",
   "metadata": {},
   "outputs": [],
   "source": [
    "# Using Lambda with Functions"
   ]
  },
  {
   "cell_type": "code",
   "execution_count": 182,
   "id": "193463b9-c338-4b36-b7d3-1fa299935eed",
   "metadata": {},
   "outputs": [
    {
     "name": "stdout",
     "output_type": "stream",
     "text": [
      "[1, 4, 9, 16]\n",
      "[2, 4]\n",
      "['banana', 'cherry', 'apple']\n"
     ]
    }
   ],
   "source": [
    "# Using lambda with map() to square each element in a list\n",
    "numbers = [1, 2, 3, 4]\n",
    "squares = list(map(lambda x: x**2, numbers)) \n",
    "print(squares)\n",
    "\n",
    "# Using lambda with filter() to get even numbers\n",
    "even_numbers = list(filter(lambda x: x % 2 == 0, numbers)) \n",
    "print(even_numbers)\n",
    "\n",
    "# Using lambda with sorted() to sort by the second character of each string\n",
    "strings = [\"apple\", \"banana\", \"cherry\"]\n",
    "sorted_strings = sorted(strings, key=lambda s: s[1]) \n",
    "print(sorted_strings)"
   ]
  },
  {
   "cell_type": "code",
   "execution_count": null,
   "id": "29b40622-5978-4c53-9f72-9ad8049733b8",
   "metadata": {},
   "outputs": [],
   "source": []
  },
  {
   "cell_type": "code",
   "execution_count": null,
   "id": "1bd92f1f-6601-4685-b2b7-d1e0d51147c7",
   "metadata": {},
   "outputs": [],
   "source": []
  },
  {
   "cell_type": "markdown",
   "id": "64ba9b9d-da79-4afe-9991-17d86ede1399",
   "metadata": {},
   "source": [
    "### Calling Functions"
   ]
  },
  {
   "cell_type": "code",
   "execution_count": 181,
   "id": "6d209e71-23b2-4a37-95c9-3795630d203a",
   "metadata": {},
   "outputs": [
    {
     "name": "stdout",
     "output_type": "stream",
     "text": [
      "8\n"
     ]
    }
   ],
   "source": [
    "def add(x, y):\n",
    "    return x + y\n",
    "\n",
    "# Calling the function with arguments\n",
    "result = add(5, 3)  # Output: 8\n",
    "print(result)\n"
   ]
  },
  {
   "cell_type": "code",
   "execution_count": null,
   "id": "c64e91ef-10dd-4c05-b2e5-c16380995f2e",
   "metadata": {},
   "outputs": [],
   "source": []
  },
  {
   "cell_type": "code",
   "execution_count": null,
   "id": "42294021-1ad3-4352-b02d-c977218042e7",
   "metadata": {},
   "outputs": [],
   "source": []
  },
  {
   "cell_type": "markdown",
   "id": "b9ece75b-0c84-4424-b102-d2441b6f4d71",
   "metadata": {},
   "source": [
    "### Parameters"
   ]
  },
  {
   "cell_type": "code",
   "execution_count": 60,
   "id": "edb98cea-8650-4de2-b244-0968a9475690",
   "metadata": {},
   "outputs": [
    {
     "name": "stdout",
     "output_type": "stream",
     "text": [
      "Hello, Guest!\n",
      "Hello, Alice!\n"
     ]
    }
   ],
   "source": [
    "def greet(name=\"Guest\"):\n",
    "    print(f\"Hello, {name}!\")\n",
    "\n",
    "greet()          # Output: Hello, Guest!\n",
    "greet(\"Alice\")   # Output: Hello, Alice!"
   ]
  },
  {
   "cell_type": "code",
   "execution_count": 61,
   "id": "1b13b84b-bf08-457a-8606-854bb16748f6",
   "metadata": {},
   "outputs": [
    {
     "name": "stdout",
     "output_type": "stream",
     "text": [
      "I have a dog named Buddy.\n",
      "I have a cat named Whiskers.\n"
     ]
    }
   ],
   "source": [
    "def describe_pet(name, animal_type=\"dog\"):\n",
    "    print(f\"I have a {animal_type} named {name}.\")\n",
    "\n",
    "describe_pet(\"Buddy\")                 # Output: I have a dog named Buddy.\n",
    "describe_pet(\"Whiskers\", animal_type=\"cat\")  # Output: I have a cat named Whiskers."
   ]
  },
  {
   "cell_type": "code",
   "execution_count": 62,
   "id": "5bd8a086-6a85-476b-b593-4be8842d261a",
   "metadata": {},
   "outputs": [],
   "source": [
    "# Variable-Length Arguments"
   ]
  },
  {
   "cell_type": "code",
   "execution_count": 63,
   "id": "e80b0c18-f9c4-4fa9-800e-c574519b20fe",
   "metadata": {},
   "outputs": [
    {
     "name": "stdout",
     "output_type": "stream",
     "text": [
      "10\n",
      "name: Alice\n",
      "age: 30\n",
      "city: New York\n"
     ]
    }
   ],
   "source": [
    "def add_numbers(*args):\n",
    "    return sum(args)\n",
    "\n",
    "print(add_numbers(1, 2, 3, 4))  # Output: 10\n",
    "\n",
    "def print_info(**kwargs):\n",
    "    for key, value in kwargs.items():\n",
    "        print(f\"{key}: {value}\")\n",
    "\n",
    "print_info(name=\"Alice\", age=30, city=\"New York\")"
   ]
  },
  {
   "cell_type": "code",
   "execution_count": 64,
   "id": "76a44a99-9f46-4b08-9487-845d5e8d67a9",
   "metadata": {},
   "outputs": [],
   "source": [
    "# Return Values"
   ]
  },
  {
   "cell_type": "code",
   "execution_count": null,
   "id": "7931fc3a-d6d9-4c79-8437-3cc6db382a10",
   "metadata": {},
   "outputs": [],
   "source": [
    "def multiply(x, y):\n",
    "    return x * y\n",
    "\n",
    "result = multiply(4, 5)  # Output: 20\n",
    "print(result)"
   ]
  },
  {
   "cell_type": "code",
   "execution_count": 65,
   "id": "4da78fe2-648e-45f9-b23c-55b2e173010d",
   "metadata": {},
   "outputs": [],
   "source": [
    "# Example with Multiple Return Values"
   ]
  },
  {
   "cell_type": "code",
   "execution_count": 66,
   "id": "c063a0eb-6ec3-4ed9-bc4e-36274b853eef",
   "metadata": {},
   "outputs": [
    {
     "name": "stdout",
     "output_type": "stream",
     "text": [
      "Quotient: 3, Remainder: 1\n"
     ]
    }
   ],
   "source": [
    "def divide(x, y):\n",
    "    return x // y, x % y  # Return quotient and remainder\n",
    "\n",
    "quotient, remainder = divide(10, 3)\n",
    "print(f\"Quotient: {quotient}, Remainder: {remainder}\")  # Output: Quotient: 3, Remainder: 1"
   ]
  },
  {
   "cell_type": "code",
   "execution_count": null,
   "id": "2aebbd36-e40c-4000-9082-70799b6ea0f7",
   "metadata": {},
   "outputs": [],
   "source": []
  },
  {
   "cell_type": "code",
   "execution_count": null,
   "id": "e1d9cd47-558e-43d3-b37c-6696761b87ab",
   "metadata": {},
   "outputs": [],
   "source": []
  },
  {
   "cell_type": "markdown",
   "id": "f2737cea-8faf-4e9d-b0fc-52b1491036a9",
   "metadata": {},
   "source": [
    "### Introduction to External Libraries"
   ]
  },
  {
   "cell_type": "markdown",
   "id": "0e3bccd9-c4a2-498c-9b93-2ea46b314ccf",
   "metadata": {},
   "source": [
    "### NumPy"
   ]
  },
  {
   "cell_type": "code",
   "execution_count": 69,
   "id": "e6bed91a-86e4-4601-a137-2b65e3b34bb0",
   "metadata": {},
   "outputs": [
    {
     "name": "stdout",
     "output_type": "stream",
     "text": [
      "Requirement already satisfied: numpy in c:\\users\\srvna\\appdata\\local\\anaconda3\\lib\\site-packages (1.26.4)\n",
      "Note: you may need to restart the kernel to use updated packages.\n"
     ]
    }
   ],
   "source": [
    "pip install numpy"
   ]
  },
  {
   "cell_type": "code",
   "execution_count": null,
   "id": "4ec71ad0-00f9-4a59-b78c-314008942c61",
   "metadata": {},
   "outputs": [],
   "source": [
    "import numpy as np\n",
    "\n",
    "# Create a NumPy array\n",
    "arr = np.array([1, 2, 3, 4, 5])\n",
    "\n",
    "# Basic operations\n",
    "arr_sum = np.sum(arr)  # Sum of elements: 15\n",
    "arr_mean = np.mean(arr)  # Mean of elements: 3.0\n",
    "\n",
    "# Array operations\n",
    "arr_squared = arr ** 2  # [1, 4, 9, 16, 25]\n",
    "\n",
    "# Multi-dimensional arrays\n",
    "matrix = np.array([[1, 2], [3, 4]])\n",
    "matrix_transposed = matrix.T  # Transpose of the matrix"
   ]
  },
  {
   "cell_type": "code",
   "execution_count": null,
   "id": "ba0e5a0a-a0c9-48c4-a98c-3ae7b4dd62bc",
   "metadata": {},
   "outputs": [],
   "source": []
  },
  {
   "cell_type": "markdown",
   "id": "bc721cef-ca6e-492a-bc63-036de3df1bec",
   "metadata": {},
   "source": [
    "### Pandas"
   ]
  },
  {
   "cell_type": "code",
   "execution_count": null,
   "id": "4c54cc50-7a99-48a3-9dd6-3093314276d0",
   "metadata": {},
   "outputs": [],
   "source": [
    "pip install pandas"
   ]
  },
  {
   "cell_type": "code",
   "execution_count": null,
   "id": "eb837d84-2f19-49a0-9a06-1f1893db8714",
   "metadata": {},
   "outputs": [],
   "source": [
    "import pandas as pd\n",
    "\n",
    "# Create a DataFrame\n",
    "data = {\n",
    "    'Name': ['Alice', 'Bob', 'Charlie'],\n",
    "    'Age': [25, 30, 35],\n",
    "    'City': ['New York', 'Los Angeles', 'Chicago']\n",
    "}\n",
    "df = pd.DataFrame(data)\n",
    "\n",
    "# DataFrame operations\n",
    "df_summary = df.describe()  # Summary statistics\n",
    "df_filtered = df[df['Age'] > 25]  # Filter rows where Age > 25\n",
    "\n",
    "# Handling missing data\n",
    "df_filled = df.fillna(value={'Age': 0})  # Fill missing values with 0"
   ]
  },
  {
   "cell_type": "code",
   "execution_count": null,
   "id": "7ed87011-981b-4155-864a-91fa584fd72e",
   "metadata": {},
   "outputs": [],
   "source": []
  },
  {
   "cell_type": "code",
   "execution_count": null,
   "id": "04247e4c-7cfa-432a-ab67-d1631b1f6ec9",
   "metadata": {},
   "outputs": [],
   "source": []
  },
  {
   "cell_type": "markdown",
   "id": "eb7ba27b-4e85-4f91-a0c7-8e2b18a7ceb8",
   "metadata": {},
   "source": [
    "### Matplotlib"
   ]
  },
  {
   "cell_type": "code",
   "execution_count": null,
   "id": "8cde119a-f388-4b98-b5ba-4b76821edea7",
   "metadata": {},
   "outputs": [],
   "source": [
    "pip install matplotlib"
   ]
  },
  {
   "cell_type": "code",
   "execution_count": null,
   "id": "9a55c11f-6069-4f0e-b91e-23c3e2b2ae6a",
   "metadata": {},
   "outputs": [],
   "source": [
    "import matplotlib.pyplot as plt\n",
    "\n",
    "# Create a simple line plot\n",
    "x = [1, 2, 3, 4, 5]\n",
    "y = [2, 3, 5, 7, 11]\n",
    "\n",
    "plt.plot(x, y, marker='o')\n",
    "plt.title('Simple Line Plot')\n",
    "plt.xlabel('X-axis')\n",
    "plt.ylabel('Y-axis')\n",
    "plt.grid(True)\n",
    "plt.show()"
   ]
  },
  {
   "cell_type": "code",
   "execution_count": null,
   "id": "5b904dd6-088a-4f8b-aa6d-467ae409bf70",
   "metadata": {},
   "outputs": [],
   "source": []
  },
  {
   "cell_type": "code",
   "execution_count": null,
   "id": "34a40ca5-9c8b-4f97-9246-c1387690230f",
   "metadata": {},
   "outputs": [],
   "source": []
  },
  {
   "cell_type": "markdown",
   "id": "761c44ee-ba3a-47ba-ae65-202c60d50b06",
   "metadata": {},
   "source": [
    "### Modules and Packages"
   ]
  },
  {
   "cell_type": "code",
   "execution_count": null,
   "id": "ef916fae-5a2f-4c1b-94bd-8592c5fb3d9d",
   "metadata": {},
   "outputs": [],
   "source": [
    "my_package/\n",
    "    __init__.py\n",
    "    module1.py\n",
    "    module2.py"
   ]
  },
  {
   "cell_type": "code",
   "execution_count": null,
   "id": "6e439a63-6e62-407b-a0f6-50909ceaf29f",
   "metadata": {},
   "outputs": [],
   "source": [
    "def function1():\n",
    "    return \"Function 1 in Module 1\"  # module1.py"
   ]
  },
  {
   "cell_type": "code",
   "execution_count": null,
   "id": "158161e7-29fc-46bf-802f-6fe20113ee6c",
   "metadata": {},
   "outputs": [],
   "source": [
    "def function2():\n",
    "    return \"Function 2 in Module 2\"  # module2.py"
   ]
  },
  {
   "cell_type": "code",
   "execution_count": null,
   "id": "c86d5c0d-3d11-461e-a18d-0aae22810679",
   "metadata": {},
   "outputs": [],
   "source": [
    "from .module1 import function1\n",
    "from .module2 import function2\n",
    "# __init__.py"
   ]
  },
  {
   "cell_type": "code",
   "execution_count": null,
   "id": "684e62cf-e3ee-4b98-8adb-c41ff5411091",
   "metadata": {},
   "outputs": [],
   "source": [
    "# Usage\n",
    "from my_package import function1, function2\n",
    "\n",
    "print(function1())  # Output: Function 1 in Module 1\n",
    "print(function2())  # Output: Function 2 in Module 2"
   ]
  },
  {
   "cell_type": "code",
   "execution_count": null,
   "id": "f9280164-6acf-4e59-8215-976d0702faeb",
   "metadata": {},
   "outputs": [],
   "source": []
  },
  {
   "cell_type": "markdown",
   "id": "46ad1b1e-03f8-4326-bca4-97a287f3c515",
   "metadata": {},
   "source": [
    "### Packages"
   ]
  },
  {
   "cell_type": "code",
   "execution_count": null,
   "id": "89ae6b96-5faf-410d-828d-b6ddad17ff78",
   "metadata": {},
   "outputs": [],
   "source": [
    "pip install package_name\n",
    "\n",
    "pip install --upgrade package_name\n",
    "\n",
    "pip uninstall package_name\n",
    "\n",
    "pip list\n",
    "\n",
    "activate deactivate"
   ]
  },
  {
   "cell_type": "code",
   "execution_count": null,
   "id": "aecacbad-abd2-4f7e-a66a-b39f90c51ce0",
   "metadata": {},
   "outputs": [],
   "source": []
  },
  {
   "cell_type": "code",
   "execution_count": null,
   "id": "90d9f167-ef95-4eb9-a20a-a5ce34e4cb71",
   "metadata": {},
   "outputs": [],
   "source": []
  },
  {
   "cell_type": "markdown",
   "id": "93df6179-d523-45e4-8ef8-5bbcfbeca58f",
   "metadata": {},
   "source": [
    "### Basic data analysis with Pandas"
   ]
  },
  {
   "cell_type": "code",
   "execution_count": null,
   "id": "dcd70879-bd84-404b-9d3f-bcf07bbe2616",
   "metadata": {},
   "outputs": [],
   "source": [
    "pip install pandas"
   ]
  },
  {
   "cell_type": "code",
   "execution_count": null,
   "id": "88c91b37-77ab-45dc-81d5-e7528d249139",
   "metadata": {},
   "outputs": [],
   "source": [
    "import pandas as pd"
   ]
  },
  {
   "cell_type": "code",
   "execution_count": null,
   "id": "54c97016-8442-41f5-83c9-a0e559fea4af",
   "metadata": {},
   "outputs": [],
   "source": [
    "df = pd.read_csv('data.csv')"
   ]
  },
  {
   "cell_type": "markdown",
   "id": "291b0b59-f6a1-4239-b0b1-da5e3f64b6de",
   "metadata": {},
   "source": [
    "### Exploring Data"
   ]
  },
  {
   "cell_type": "code",
   "execution_count": null,
   "id": "8ce0d46e-bd03-43b9-ad9d-8abba99ef523",
   "metadata": {},
   "outputs": [],
   "source": [
    "# Display the first 5 rows of the DataFrame\n",
    "print(df.head())\n",
    "\n",
    "# Display the last 5 rows of the DataFrame\n",
    "print(df.tail())\n",
    "\n",
    "# Display basic information about the DataFrame\n",
    "print(df.info())\n",
    "\n",
    "# Display summary statistics for numerical columns\n",
    "print(df.describe())\n"
   ]
  },
  {
   "cell_type": "markdown",
   "id": "881282a2-2d84-4b85-8b09-01f98c6af83a",
   "metadata": {},
   "source": [
    "### Accessing Columns and Rows"
   ]
  },
  {
   "cell_type": "code",
   "execution_count": null,
   "id": "66aef7d6-497c-4f18-854b-01fd1cbbfb58",
   "metadata": {},
   "outputs": [],
   "source": [
    "# Access a single column (returns a Series)\n",
    "column_data = df['column_name']\n",
    "\n",
    "# Access multiple columns (returns a DataFrame)\n",
    "multiple_columns = df[['col1', 'col2']]\n",
    "\n",
    "# Access a single row by index\n",
    "row_data = df.iloc[0]  # First row\n",
    "\n",
    "# Access rows by a condition\n",
    "filtered_data = df[df['column_name'] > value]\n"
   ]
  },
  {
   "cell_type": "markdown",
   "id": "eb187cff-5a11-4f0a-89cd-1d64aefd151f",
   "metadata": {},
   "source": [
    "### Data Cleaning"
   ]
  },
  {
   "cell_type": "code",
   "execution_count": null,
   "id": "b5227e88-e0c6-452e-862e-b05993549cfb",
   "metadata": {},
   "outputs": [],
   "source": [
    "# Check for missing values\n",
    "print(df.isna().sum())\n",
    "\n",
    "# Drop rows with missing values\n",
    "df_cleaned = df.dropna()\n",
    "\n",
    "# Fill missing values with a specific value\n",
    "df_filled = df.fillna(value='default_value')"
   ]
  },
  {
   "cell_type": "code",
   "execution_count": 78,
   "id": "f9ad784f-6c50-4280-af0e-7e20e093b558",
   "metadata": {},
   "outputs": [],
   "source": [
    "# Removing Duplicates"
   ]
  },
  {
   "cell_type": "code",
   "execution_count": null,
   "id": "b04a2b93-0cfb-4475-a158-c87144000a84",
   "metadata": {},
   "outputs": [],
   "source": [
    "# Drop duplicate rows\n",
    "df_unique = df.drop_duplicates()"
   ]
  },
  {
   "cell_type": "markdown",
   "id": "2b161033-df2b-4e06-ae76-cb43e9a11a12",
   "metadata": {},
   "source": [
    "### Data Manipulation"
   ]
  },
  {
   "cell_type": "code",
   "execution_count": null,
   "id": "229b8423-66c9-4673-8bea-cb90d002f49d",
   "metadata": {},
   "outputs": [],
   "source": [
    "# Add a new column with a default value\n",
    "df['new_column'] = 'default_value'\n",
    "\n",
    "# Add a new column based on existing columns\n",
    "df['new_column'] = df['column1'] + df['column2']\n",
    "\n",
    "# Rename columns\n",
    "df.rename(columns={'old_name': 'new_name'}, inplace=True)\n",
    "\n",
    "# Drop a column\n",
    "df = df.drop(columns=['column_to_drop'])\n",
    "\n",
    "# Drop a row by index\n",
    "df = df.drop(index=0)\n"
   ]
  },
  {
   "cell_type": "code",
   "execution_count": 79,
   "id": "cf1688ff-3005-413b-bb7a-b2def6ef17f0",
   "metadata": {},
   "outputs": [],
   "source": [
    "# Aggregation and Grouping"
   ]
  },
  {
   "cell_type": "code",
   "execution_count": null,
   "id": "d1c22020-2ae6-4a70-9d59-c05956e9b950",
   "metadata": {},
   "outputs": [],
   "source": [
    "# Group data by a column and calculate the mean\n",
    "grouped = df.groupby('column_name').mean()\n",
    "\n",
    "# Group data by multiple columns\n",
    "grouped_multi = df.groupby(['col1', 'col2']).sum()\n",
    "\n",
    "# Calculate multiple aggregation functions\n",
    "agg_results = df.groupby('column_name').agg({\n",
    "    'col1': 'mean',\n",
    "    'col2': 'sum'\n",
    "})\n"
   ]
  },
  {
   "cell_type": "markdown",
   "id": "791d28f6-1d0c-4cb9-9424-00cab57ba966",
   "metadata": {},
   "source": [
    "### Data Visualization"
   ]
  },
  {
   "cell_type": "code",
   "execution_count": null,
   "id": "fadbf51a-9e0a-4102-aa44-2d63bb6dc334",
   "metadata": {},
   "outputs": [],
   "source": [
    "import matplotlib.pyplot as plt\n",
    "\n",
    "# Plot a column as a line chart\n",
    "df['column_name'].plot()\n",
    "\n",
    "# Plot a histogram\n",
    "df['column_name'].hist()\n",
    "\n",
    "# Plot with labels and title\n",
    "plt.xlabel('X-axis Label')\n",
    "plt.ylabel('Y-axis Label')\n",
    "plt.title('Plot Title')\n",
    "plt.show()\n"
   ]
  },
  {
   "cell_type": "markdown",
   "id": "088cc06e-527f-48a2-9fb1-7e85af3b399f",
   "metadata": {},
   "source": [
    "### Saving Data"
   ]
  },
  {
   "cell_type": "code",
   "execution_count": null,
   "id": "14989f74-e002-4cef-bb08-0b9648c835bf",
   "metadata": {},
   "outputs": [],
   "source": [
    "df.to_csv('cleaned_data.csv', index=False)"
   ]
  },
  {
   "cell_type": "code",
   "execution_count": null,
   "id": "6e69a2da-f6a0-4336-9816-3471f1284f4f",
   "metadata": {},
   "outputs": [],
   "source": []
  },
  {
   "cell_type": "code",
   "execution_count": null,
   "id": "557e2f3b-5f5c-4c75-9504-eba8c248ab8c",
   "metadata": {},
   "outputs": [],
   "source": []
  },
  {
   "cell_type": "code",
   "execution_count": null,
   "id": "eba9ee24-3c56-4a62-98bd-86aa4eb57639",
   "metadata": {},
   "outputs": [],
   "source": [
    "# Example workflow\n",
    "\n",
    "import pandas as pd\n",
    "import matplotlib.pyplot as plt\n",
    "\n",
    "# Load the data\n",
    "df = pd.read_csv('data.csv')\n",
    "\n",
    "# Display basic information\n",
    "print(df.info())\n",
    "print(df.describe())\n",
    "\n",
    "# Clean the data\n",
    "df = df.dropna()  # Remove missing values\n",
    "df = df.drop_duplicates()  # Remove duplicates\n",
    "\n",
    "# Manipulate the data\n",
    "df['new_column'] = df['existing_column'] * 2  # Create new column\n",
    "\n",
    "# Analyze the data\n",
    "grouped = df.groupby('category_column').mean()\n",
    "\n",
    "# Visualize the data\n",
    "df['numeric_column'].hist()\n",
    "plt.xlabel('Value')\n",
    "plt.ylabel('Frequency')\n",
    "plt.title('Histogram of Numeric Column')\n",
    "plt.show()\n",
    "\n",
    "# Save the cleaned data\n",
    "df.to_csv('cleaned_data.csv', index=False)\n"
   ]
  },
  {
   "cell_type": "code",
   "execution_count": null,
   "id": "8b299760-fc3d-45c7-89ef-264924494f3e",
   "metadata": {},
   "outputs": [],
   "source": []
  },
  {
   "cell_type": "code",
   "execution_count": null,
   "id": "d98e8d25-b801-444a-bc22-98005d453ca9",
   "metadata": {},
   "outputs": [],
   "source": []
  },
  {
   "cell_type": "code",
   "execution_count": null,
   "id": "13700a48-f8f9-4b34-a1f0-c213820e79d5",
   "metadata": {},
   "outputs": [],
   "source": []
  },
  {
   "cell_type": "code",
   "execution_count": null,
   "id": "b0169eb6-6092-4644-8e3e-63234661cb17",
   "metadata": {},
   "outputs": [],
   "source": []
  },
  {
   "cell_type": "code",
   "execution_count": null,
   "id": "8495dd31-36a6-4e91-91bc-1fa37abd76c5",
   "metadata": {},
   "outputs": [],
   "source": []
  },
  {
   "cell_type": "code",
   "execution_count": null,
   "id": "cced7d80-dee0-405c-9d67-617533f956e0",
   "metadata": {},
   "outputs": [],
   "source": []
  }
 ],
 "metadata": {
  "kernelspec": {
   "display_name": "Python 3 (ipykernel)",
   "language": "python",
   "name": "python3"
  },
  "language_info": {
   "codemirror_mode": {
    "name": "ipython",
    "version": 3
   },
   "file_extension": ".py",
   "mimetype": "text/x-python",
   "name": "python",
   "nbconvert_exporter": "python",
   "pygments_lexer": "ipython3",
   "version": "3.12.4"
  }
 },
 "nbformat": 4,
 "nbformat_minor": 5
}
