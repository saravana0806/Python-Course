{
 "cells": [
  {
   "cell_type": "markdown",
   "id": "7a96f4e3-aa86-4493-b19f-99e1e49d0920",
   "metadata": {},
   "source": [
    "# Python basics"
   ]
  },
  {
   "cell_type": "code",
   "execution_count": null,
   "id": "db9128ac-1902-4663-bdb3-a47d5d0ce2b0",
   "metadata": {},
   "outputs": [],
   "source": [
    "# Introduction to Python Programming\n",
    "# Getting Started\n",
    "# Python - python.org - Python is a langugage which can be written in various tools like anaconda, pycharm\n",
    "# But we can install anaconda which comes with python inbuilt"
   ]
  },
  {
   "cell_type": "code",
   "execution_count": null,
   "id": "cb0a3ad1-9cfd-47be-8488-33401e4774b0",
   "metadata": {},
   "outputs": [],
   "source": []
  },
  {
   "cell_type": "markdown",
   "id": "14c820fc-6ff3-44d6-8e98-6c809d33aee2",
   "metadata": {},
   "source": [
    "## Creating Variables"
   ]
  },
  {
   "cell_type": "code",
   "execution_count": null,
   "id": "6d4c4944-e398-45d8-9f8a-0f2160198d9d",
   "metadata": {},
   "outputs": [],
   "source": [
    "# variable_name = value\n",
    "age = 25\n",
    "name = \"Alice\"\n",
    "is_student = True\n",
    "\n",
    "#age is a variable holding an integer value (25).\n",
    "#name is a variable holding a string value (\"Alice\").\n",
    "#is_student is a variable holding a boolean value (True)."
   ]
  },
  {
   "cell_type": "code",
   "execution_count": null,
   "id": "a4cf96fb-2636-44fe-8c3c-1c2b8f03b400",
   "metadata": {},
   "outputs": [],
   "source": [
    "# Eaxmple of valid variables\n",
    "my_variable = 10\n",
    "_variable_name = \"Python\"\n",
    "variable2 = 3.14\n",
    "\n",
    "# Example of invalid variables\n",
    "2variable = 10   # Cannot start with a digit\n",
    "my-variable = 5  # Hyphens are not allowed"
   ]
  },
  {
   "cell_type": "code",
   "execution_count": null,
   "id": "38d0bed7-7e96-4eda-965b-84540b14f643",
   "metadata": {},
   "outputs": [],
   "source": []
  },
  {
   "cell_type": "code",
   "execution_count": null,
   "id": "c007a9c6-71a1-492e-b091-5113d8125dfb",
   "metadata": {},
   "outputs": [],
   "source": []
  },
  {
   "cell_type": "markdown",
   "id": "5f3533f9-6511-4142-bd44-42fecde16c75",
   "metadata": {},
   "source": [
    "## Variable Types"
   ]
  },
  {
   "cell_type": "code",
   "execution_count": null,
   "id": "c3f47627-c06f-4ccd-9d25-b3f012953f4d",
   "metadata": {},
   "outputs": [],
   "source": [
    "#Integers (int): Whole numbers\n",
    "#Floating-point numbers (float): Numbers with decimal points\n",
    "#Strings (str): Sequences of characters\n",
    "#Booleans (bool): True or False"
   ]
  },
  {
   "cell_type": "code",
   "execution_count": null,
   "id": "c024413b-baf7-4396-b8e3-ede9556efbf5",
   "metadata": {},
   "outputs": [],
   "source": [
    "number_of_apples = 10         # int\n",
    "price_per_apple = 0.75        # float\n",
    "apple_name = \"Granny Smith\"  # str\n",
    "is_available = True          # bool"
   ]
  },
  {
   "cell_type": "code",
   "execution_count": null,
   "id": "735cfe21-d219-412b-8cbd-f3af2d5744e7",
   "metadata": {},
   "outputs": [],
   "source": [
    "# Dynamic Typing\n",
    "\n",
    "# Python is dynamically typed, which means you don’t need to declare a variable’s type explicitly."
   ]
  },
  {
   "cell_type": "code",
   "execution_count": null,
   "id": "026477eb-9235-491a-b610-948e028e0852",
   "metadata": {},
   "outputs": [],
   "source": [
    "# Initially an integer\n",
    "data = 42          \n",
    "# Now a string\n",
    "data = \"Hello\"     "
   ]
  },
  {
   "cell_type": "code",
   "execution_count": null,
   "id": "bc875711-a431-4d77-9ae6-e3c1ff1425b0",
   "metadata": {},
   "outputs": [],
   "source": [
    "# Using Variables\n",
    "\n",
    "# You can use variables in expressions and functions. Here’s an example of using variables in a function\n",
    "def greet_user(name):\n",
    "    return f\"Hello, {name}!\"\n",
    "\n",
    "user_name = \"Alice\"\n",
    "message = greet_user(user_name)\n",
    "print(message)"
   ]
  },
  {
   "cell_type": "code",
   "execution_count": null,
   "id": "5b9e4395-cb5c-4579-be69-e054d7efebd2",
   "metadata": {},
   "outputs": [],
   "source": []
  },
  {
   "cell_type": "code",
   "execution_count": null,
   "id": "8c6879d7-d8c5-473d-a016-4e2570e8ba3d",
   "metadata": {},
   "outputs": [],
   "source": []
  },
  {
   "cell_type": "markdown",
   "id": "85a12a13-e414-4394-9cfd-7975882118a6",
   "metadata": {},
   "source": [
    "## Data Types"
   ]
  },
  {
   "cell_type": "code",
   "execution_count": null,
   "id": "cf00ca8c-b3c7-4e8c-bce4-bb6b0bc8d7ea",
   "metadata": {},
   "outputs": [],
   "source": [
    "# Integers (int): \n",
    "age = 30\n",
    "# Floating-point numbers (float)\n",
    "temperature = 98.6\n",
    "# Strings (str)\n",
    "greeting = \"Hello, world!\"\n",
    "# Booleans (bool)\n",
    "is_active = True\n",
    "# Special Data Types - NoneType (None)\n",
    "result = None"
   ]
  },
  {
   "cell_type": "code",
   "execution_count": null,
   "id": "eda02e3b-8b9d-402b-a0cd-451628e1aaa7",
   "metadata": {},
   "outputs": [],
   "source": []
  },
  {
   "cell_type": "code",
   "execution_count": null,
   "id": "d16e025c-d1f2-424c-84fc-ee241d9f4406",
   "metadata": {},
   "outputs": [],
   "source": []
  },
  {
   "cell_type": "markdown",
   "id": "9420d935-7bb4-4435-ada2-65d54c0ea3ff",
   "metadata": {},
   "source": [
    "## Operators"
   ]
  },
  {
   "cell_type": "code",
   "execution_count": null,
   "id": "73c21eea-87ae-4c30-8d16-236cf3a4c3c5",
   "metadata": {},
   "outputs": [],
   "source": [
    "# Arithmetic Operators"
   ]
  },
  {
   "cell_type": "code",
   "execution_count": null,
   "id": "24d1e099-5b47-4fd6-a5cd-5268248c26a9",
   "metadata": {},
   "outputs": [],
   "source": [
    "x = 5 + 3  # Addition (+)\n",
    "y = 10 - 4  # Subtraction (-)\n",
    "z = 7 * 6  # Multiplication (*)\n",
    "a = 15 / 3 # Division (/)\n",
    "b = 15 // 4  # Integer Division (//)\n",
    "c = 15 % 4  # Modulus (%)\n",
    "d = 2 ** 3  # Exponentiation (**)"
   ]
  },
  {
   "cell_type": "code",
   "execution_count": null,
   "id": "19f04d35-3e21-413b-88c4-36027d5b6ac6",
   "metadata": {},
   "outputs": [],
   "source": [
    "# Comparison Operators"
   ]
  },
  {
   "cell_type": "code",
   "execution_count": null,
   "id": "2f32c030-c7ee-494b-93ee-ce7d8ee22629",
   "metadata": {},
   "outputs": [],
   "source": [
    "is_equal = (5 == 5)  # Equal to (==)\n",
    "not_equal = (5 != 3)  # Not equal to (!=)\n",
    "greater = (5 > 3)  # Greater than (>)\n",
    "less = (5 < 10)  # Less than (<)\n",
    "greater_equal = (5 >= 5)  # Greater than or equal to (>=)\n",
    "less_equal = (3 <= 5)  # Less than or equal to (<=)"
   ]
  },
  {
   "cell_type": "code",
   "execution_count": null,
   "id": "4aac9db0-b3e2-4f60-86c0-591a3cbd74b6",
   "metadata": {},
   "outputs": [],
   "source": [
    "# Logical Operators"
   ]
  },
  {
   "cell_type": "code",
   "execution_count": null,
   "id": "9300493e-25f1-4b0f-9e79-7ca6fae1c0b4",
   "metadata": {},
   "outputs": [],
   "source": [
    "result = (5 > 3) and (2 < 4)  # And (and)\n",
    "result = (5 > 3) or (2 > 4)  # Or (or)\n",
    "result = not (5 > 3)  # Not (not)"
   ]
  },
  {
   "cell_type": "code",
   "execution_count": null,
   "id": "3f4462c3-7a20-4957-b91b-8a73aabc2f47",
   "metadata": {},
   "outputs": [],
   "source": [
    "#  Assignment Operators"
   ]
  },
  {
   "cell_type": "code",
   "execution_count": null,
   "id": "8c510c58-d549-4ff4-b942-ea2ff75279e2",
   "metadata": {},
   "outputs": [],
   "source": [
    "x = 10    # Simple Assignment (=)\n",
    "x += 5  # Add and Assign (+=)\n",
    "x -= 3  # Subtract and Assign (-=)\n",
    "x *= 2  # Multiply and Assign (*=)\n",
    "x /= 4  # Divide and Assign (/=)\n",
    "x %= 3  # Modulus and Assign (%=)\n",
    "x **= 2  # Exponent and Assign (**=)\n",
    "x //= 3  # Floor Divide and Assign (//=)"
   ]
  },
  {
   "cell_type": "code",
   "execution_count": null,
   "id": "4957b00d-1bf0-49ba-b0b0-1697623ddf25",
   "metadata": {},
   "outputs": [],
   "source": [
    "# Identity Operators"
   ]
  },
  {
   "cell_type": "code",
   "execution_count": null,
   "id": "fff6672a-e0f6-4c9c-9bbb-03e8dbcfc180",
   "metadata": {},
   "outputs": [],
   "source": [
    "# is: Checks if two variables point to the same object in memory.\n",
    "# is not: Checks if two variables point to different objects in memory\n",
    "\n",
    "a = [1, 2, 3]\n",
    "b = a          \n",
    "c = [1, 2, 3]  \n",
    "\n",
    "# Check if two variables point to the same object\n",
    "print(a is b)   \n",
    "print(a is c)   \n",
    "\n",
    "# Check if two variables point to different objects\n",
    "print(a is not c)  \n",
    "print(a is not b)  \n",
    "\n",
    "# Example with integers (Python caches small integers)\n",
    "x = 10\n",
    "y = 10\n",
    "print(x is y)    \n",
    "\n",
    "# Example with strings\n",
    "str1 = \"hello\"\n",
    "str2 = \"hello\"\n",
    "print(str1 is str2)"
   ]
  },
  {
   "cell_type": "code",
   "execution_count": null,
   "id": "4f803e61-62f8-471d-9a64-5d50681168e8",
   "metadata": {},
   "outputs": [],
   "source": [
    "# Membership Operators"
   ]
  },
  {
   "cell_type": "code",
   "execution_count": null,
   "id": "fce34d85-f237-45c5-b4e9-c17bdc09024f",
   "metadata": {},
   "outputs": [],
   "source": [
    "# in: Checks if a value is present in a sequence.\n",
    "# not in: Checks if a value is not present in a sequence.\n",
    "\n",
    "fruits = [\"apple\", \"banana\", \"cherry\"]\n",
    "sentence = \"Python is awesome\"\n",
    "numbers = {1, 2, 3, 4, 5}\n",
    "\n",
    "# Check if a value is present in a list\n",
    "print(\"apple\" in fruits)        \n",
    "print(\"orange\" in fruits)     \n",
    "\n",
    "# Check if a value is present in a string\n",
    "print(\"awesome\" in sentence)   \n",
    "print(\"java\" in sentence)      \n",
    "\n",
    "# Check if a value is present in a set\n",
    "print(3 in numbers)             \n",
    "print(6 in numbers)             \n",
    "\n",
    "# Check if a key is present in a dictionary\n",
    "person = {\"name\": \"Alice\", \"age\": 30}\n",
    "print(\"name\" in person)         \n",
    "print(\"address\" in person)      \n",
    "\n",
    "# Check if a value is not present\n",
    "print(\"apple\" not in fruits)    \n",
    "print(\"orange\" not in fruits)  "
   ]
  },
  {
   "cell_type": "code",
   "execution_count": null,
   "id": "df9aacad-281e-453e-9a08-528f035e27bc",
   "metadata": {},
   "outputs": [],
   "source": []
  },
  {
   "cell_type": "code",
   "execution_count": null,
   "id": "a3c8d8a8-7a9e-44b3-9cc4-b6098934c515",
   "metadata": {},
   "outputs": [],
   "source": []
  },
  {
   "cell_type": "code",
   "execution_count": null,
   "id": "5fcfd088-2c4e-4200-8149-0eecce654cad",
   "metadata": {},
   "outputs": [],
   "source": []
  },
  {
   "cell_type": "markdown",
   "id": "90bc59d3-d344-4a87-a44d-8c0e22724813",
   "metadata": {},
   "source": [
    "## Example Code"
   ]
  },
  {
   "cell_type": "code",
   "execution_count": null,
   "id": "5e48c72e-6a20-46ff-a319-f6caaf49c8f7",
   "metadata": {},
   "outputs": [],
   "source": [
    "# Data Types\n",
    "number = 10\n",
    "pi = 3.14159\n",
    "name = \"Alice\"\n",
    "is_valid = True\n",
    "\n",
    "# Arithmetic Operators\n",
    "sum_result = number + 5\n",
    "product = number * 2\n",
    "\n",
    "# Comparison Operators\n",
    "is_equal = (number == 10)\n",
    "is_greater = (number > 5)\n",
    "\n",
    "# Logical Operators\n",
    "is_true = is_valid and (number > 5)\n",
    "\n",
    "# Assignment Operators\n",
    "number += 5  # number is now 15\n",
    "\n",
    "print(\"Sum:\", sum_result)\n",
    "print(\"Product:\", product)\n",
    "print(\"Is Equal:\", is_equal)\n",
    "print(\"Is Greater:\", is_greater)\n",
    "print(\"Is True:\", is_true)\n",
    "print(\"Number after addition:\", number)\n"
   ]
  },
  {
   "cell_type": "code",
   "execution_count": null,
   "id": "bdc52163-b271-488a-b34a-a8fe9b2c2d35",
   "metadata": {},
   "outputs": [],
   "source": []
  },
  {
   "cell_type": "code",
   "execution_count": null,
   "id": "ba731d73-0b07-4e7a-a00c-582a99cb04b0",
   "metadata": {},
   "outputs": [],
   "source": []
  },
  {
   "cell_type": "markdown",
   "id": "d3fcfe92-4a22-42b6-b39e-2e331a30bcd0",
   "metadata": {},
   "source": [
    "## Keywords"
   ]
  },
  {
   "cell_type": "code",
   "execution_count": null,
   "id": "5f6b4bce-2ca7-410b-bc65-1d42ee588587",
   "metadata": {},
   "outputs": [],
   "source": [
    "# Keywords are reserved words in Python that have special meanings. They cannot be used as identifiers (variable names, function names, etc.)."
   ]
  },
  {
   "cell_type": "code",
   "execution_count": null,
   "id": "c29b37f5-0b5d-4180-b624-19187235f8e4",
   "metadata": {},
   "outputs": [],
   "source": [
    "# Example using keywords\n",
    "age=20\n",
    "if age >= 18:            # 'if' and 'else' is a keyword\n",
    "    print(\"Adult\")\n",
    "else:\n",
    "    print(\"Not an adult\")"
   ]
  },
  {
   "cell_type": "code",
   "execution_count": null,
   "id": "d5ad9ed8-1c50-474a-ae6f-355aeb279c3c",
   "metadata": {},
   "outputs": [],
   "source": []
  },
  {
   "cell_type": "code",
   "execution_count": null,
   "id": "cd0bf821-c18e-428f-b51c-fe6585aba4ff",
   "metadata": {},
   "outputs": [],
   "source": []
  },
  {
   "cell_type": "markdown",
   "id": "c340558c-1110-486c-9bdb-2d3c47f15a1a",
   "metadata": {},
   "source": [
    "## Statements"
   ]
  },
  {
   "cell_type": "code",
   "execution_count": null,
   "id": "7e2822d7-0267-4005-af45-33a6e415b957",
   "metadata": {},
   "outputs": [],
   "source": [
    "# Statements are instructions that Python can execute. They include assignments, expressions, conditionals, loops, and function calls."
   ]
  },
  {
   "cell_type": "code",
   "execution_count": null,
   "id": "14373018-a531-417a-9ec1-3d1d30880489",
   "metadata": {},
   "outputs": [],
   "source": [
    "# Assignment statement\n",
    "x = 10\n",
    "\n",
    "# Expression statement\n",
    "y = x + 5\n",
    "\n",
    "# Conditional statement\n",
    "if y > 10:\n",
    "    print(\"y is greater than 10\")  # Output: y is greater than 10"
   ]
  },
  {
   "cell_type": "code",
   "execution_count": null,
   "id": "4d601489-b2fc-4033-8c2a-9704cce9733c",
   "metadata": {},
   "outputs": [],
   "source": []
  },
  {
   "cell_type": "code",
   "execution_count": null,
   "id": "45296154-2411-4650-b21f-a62912741cdc",
   "metadata": {},
   "outputs": [],
   "source": []
  },
  {
   "cell_type": "markdown",
   "id": "e30bfa11-5d04-4729-88da-429074fde686",
   "metadata": {},
   "source": [
    "## Comments"
   ]
  },
  {
   "cell_type": "code",
   "execution_count": null,
   "id": "ac603129-c89f-435d-a2ac-8d639e7f78f5",
   "metadata": {},
   "outputs": [],
   "source": [
    "# Comments are notes in your code to explain what it does. They are not executed. \n",
    "# Use # for single-line comments and triple quotes \"\"\" or ''' for multi-line comments."
   ]
  },
  {
   "cell_type": "code",
   "execution_count": null,
   "id": "dd569bed-e317-44b2-91ac-c3c6df97c55b",
   "metadata": {},
   "outputs": [],
   "source": [
    "# Single-line comment\n",
    "x = 10  # This is a comment\n",
    "\n",
    "\"\"\"\n",
    "Multi-line comment:\n",
    "The following block of code demonstrates\n",
    "how to use multi-line comments.\n",
    "\"\"\"\n",
    "print(x)"
   ]
  },
  {
   "cell_type": "code",
   "execution_count": null,
   "id": "dd7c6807-8ffc-4027-8e09-a27a989da24f",
   "metadata": {},
   "outputs": [],
   "source": []
  },
  {
   "cell_type": "code",
   "execution_count": null,
   "id": "5a8b6a83-a767-46bf-b7e2-0c85f26963f3",
   "metadata": {},
   "outputs": [],
   "source": []
  },
  {
   "cell_type": "markdown",
   "id": "3de22966-625d-4aa9-b0e1-060b3f7c3839",
   "metadata": {},
   "source": [
    "## Indentation"
   ]
  },
  {
   "cell_type": "code",
   "execution_count": null,
   "id": "948ac1ea-6d52-4a31-9962-12ba5bfe7460",
   "metadata": {},
   "outputs": [],
   "source": [
    "# Indentation is crucial in Python as it defines the blocks of code. Proper indentation ensures that your code executes as intended. "
   ]
  },
  {
   "cell_type": "code",
   "execution_count": null,
   "id": "43de8937-ee29-4a5e-86bc-45c7af04a24a",
   "metadata": {},
   "outputs": [],
   "source": [
    "if age >= 18:\n",
    "    print(\"Adult\")\n",
    "    print(\"You are eligible to vote.\")\n",
    "else:\n",
    "    print(\"Not an adult\")\n",
    "    print(\"You are not eligible to vote.\")\n",
    "\n",
    "for i in range(3):\n",
    "    print(i)\n",
    "    if i == 1:\n",
    "        print(\"Middle value\")\n"
   ]
  },
  {
   "cell_type": "code",
   "execution_count": null,
   "id": "01464974-1b52-4a71-97fd-37f0922e580e",
   "metadata": {},
   "outputs": [],
   "source": []
  },
  {
   "cell_type": "code",
   "execution_count": null,
   "id": "671e96c0-fe99-4d56-ad45-3d6e937b1e8c",
   "metadata": {},
   "outputs": [],
   "source": []
  },
  {
   "cell_type": "markdown",
   "id": "ca09f215-9a25-4626-9c62-2567cb7d96bd",
   "metadata": {},
   "source": [
    "## String Manipulation"
   ]
  },
  {
   "cell_type": "code",
   "execution_count": null,
   "id": "f300f729-2578-48ab-8e97-9665104db646",
   "metadata": {},
   "outputs": [],
   "source": [
    "# Python provides various methods for manipulating strings. "
   ]
  },
  {
   "cell_type": "code",
   "execution_count": null,
   "id": "00b78e77-8ef1-4515-a1d3-bf6138f703d6",
   "metadata": {},
   "outputs": [],
   "source": [
    "text = \"   Hello, World!   \"\n",
    "\n",
    "# Remove leading and trailing spaces\n",
    "trimmed_text = text.strip()\n",
    "print(trimmed_text)  # Output: Hello, World!\n",
    "\n",
    "# Convert to uppercase\n",
    "uppercase_text = text.upper()\n",
    "print(uppercase_text)  # Output:    HELLO, WORLD!   \n",
    "\n",
    "# Convert to lowercase\n",
    "lowercase_text = text.lower()\n",
    "print(lowercase_text)  # Output:    hello, world!   \n",
    "\n",
    "# Find a substring\n",
    "index = text.find(\"World\")\n",
    "print(index)  # Output: 8\n",
    "\n",
    "# Replace a substring\n",
    "replaced_text = text.replace(\"World\", \"Python\")\n",
    "print(replaced_text)  # Output:    Hello, Python!   \n",
    "\n",
    "# Split a string\n",
    "words = text.split(\",\")\n",
    "print(words)  # Output: ['   Hello', ' World!   ']\n",
    "\n",
    "# Join a list into a string\n",
    "joined_text = \" | \".join(words)\n",
    "print(joined_text)  # Output:    Hello | World!   \n"
   ]
  },
  {
   "cell_type": "code",
   "execution_count": null,
   "id": "b0199bd1-3723-4bc5-9646-73290d61e8c9",
   "metadata": {},
   "outputs": [],
   "source": []
  },
  {
   "cell_type": "code",
   "execution_count": null,
   "id": "389fca14-ac7d-4b91-b589-2a827387a6fc",
   "metadata": {},
   "outputs": [],
   "source": []
  },
  {
   "cell_type": "code",
   "execution_count": null,
   "id": "ffbe198a-4f2e-4b77-9bab-ed9db149f5ac",
   "metadata": {},
   "outputs": [],
   "source": []
  },
  {
   "cell_type": "markdown",
   "id": "e22e2c67-9765-4a4d-8fe1-352744856253",
   "metadata": {},
   "source": [
    "## Data Structures"
   ]
  },
  {
   "cell_type": "code",
   "execution_count": null,
   "id": "7b01c85d-156a-4a5c-8ccb-f0d06d7efd8a",
   "metadata": {},
   "outputs": [],
   "source": [
    "# Data Structures\n",
    "\n",
    "#Lists =[1,2,3]\n",
    "#Tuple = (1,2,3)\n",
    "#Dictionary = {'name':['Ram','Sham'],'Age':[10,20]}\n",
    "#Sets = {1,2,3}"
   ]
  },
  {
   "cell_type": "code",
   "execution_count": null,
   "id": "e75f8d2a-844d-4780-a35f-bd7e6a0b7a03",
   "metadata": {},
   "outputs": [],
   "source": [
    "# Lists"
   ]
  },
  {
   "cell_type": "code",
   "execution_count": null,
   "id": "9e7aff88-7762-4e09-87e5-709eec30d90c",
   "metadata": {},
   "outputs": [],
   "source": [
    "fruits = [\"apple\", \"banana\", \"cherry\", \"date\"]\n",
    "\n",
    "# Accessing elements\n",
    "print(fruits[0])  \n",
    "print(fruits[-1])\n",
    "\n",
    "# Modifying elements\n",
    "fruits[1] = \"blueberry\"\n",
    "print(fruits)      \n",
    "\n",
    "# Adding elements\n",
    "fruits.append(\"elderberry\")\n",
    "print(fruits)      \n",
    "\n",
    "# Removing elements\n",
    "fruits.remove(\"date\")\n",
    "print(fruits)    "
   ]
  },
  {
   "cell_type": "code",
   "execution_count": null,
   "id": "90ea2466-9be3-440e-a3c7-0ab02698c1c3",
   "metadata": {},
   "outputs": [],
   "source": [
    "# Tuples"
   ]
  },
  {
   "cell_type": "code",
   "execution_count": null,
   "id": "512b1311-0ff7-4861-a601-9d1649412955",
   "metadata": {},
   "outputs": [],
   "source": [
    "coordinates = (10, 20, 30)\n",
    "\n",
    "# Accessing elements\n",
    "print(coordinates[0]) \n",
    "print(coordinates[-1])\n",
    "\n",
    "# Tuples are immutable, so you cannot modify them\n",
    "coordinates[1] = 25  # This will raise a TypeError\n",
    "\n",
    "# Unpacking a tuple\n",
    "x, y, z = coordinates\n",
    "print(x, y, z) "
   ]
  },
  {
   "cell_type": "code",
   "execution_count": null,
   "id": "8777a030-052f-4cd7-b2e0-8be5e17e9d63",
   "metadata": {},
   "outputs": [],
   "source": [
    "# Dictionaries"
   ]
  },
  {
   "cell_type": "code",
   "execution_count": null,
   "id": "86a2ba26-ec1c-4349-b0e8-43ef57c9af95",
   "metadata": {},
   "outputs": [],
   "source": [
    "person = {\n",
    "    \"name\": \"Alice\",\n",
    "    \"age\": 30,\n",
    "    \"city\": \"New York\"\n",
    "}\n",
    "\n",
    "# Accessing values\n",
    "print(person[\"name\"])  \n",
    "print(person.get(\"age\"))\n",
    "\n",
    "# Adding or updating values\n",
    "person[\"email\"] = \"alice@example.com\"\n",
    "person[\"age\"] = 31\n",
    "print(person)  \n",
    "\n",
    "# Removing a key-value pair\n",
    "del person[\"city\"]\n",
    "print(person) "
   ]
  },
  {
   "cell_type": "code",
   "execution_count": null,
   "id": "c2198cc7-4516-4416-9a3f-fcc59f5dc795",
   "metadata": {},
   "outputs": [],
   "source": [
    "# Sets"
   ]
  },
  {
   "cell_type": "code",
   "execution_count": null,
   "id": "d5d518ad-8034-4b26-b77a-ada99e55d440",
   "metadata": {},
   "outputs": [],
   "source": [
    "numbers = {1, 2, 3, 4, 5}\n",
    "\n",
    "# Adding elements\n",
    "numbers.add(6)\n",
    "print(numbers) \n",
    "\n",
    "# Removing elements\n",
    "numbers.discard(4)\n",
    "print(numbers) \n",
    "\n",
    "# Checking membership\n",
    "print(3 in numbers)  \n",
    "print(4 in numbers)"
   ]
  },
  {
   "cell_type": "code",
   "execution_count": null,
   "id": "1befdae0-0356-4418-a320-434e1e3ab22c",
   "metadata": {},
   "outputs": [],
   "source": []
  },
  {
   "cell_type": "code",
   "execution_count": null,
   "id": "87a1bc32-79f7-40d1-ab25-369dce6d89e5",
   "metadata": {},
   "outputs": [],
   "source": []
  },
  {
   "cell_type": "markdown",
   "id": "8147d4af-fd33-4c29-94d3-c49d7c66464b",
   "metadata": {},
   "source": [
    "## Loops"
   ]
  },
  {
   "cell_type": "code",
   "execution_count": null,
   "id": "cf4f279d-a0b4-4e2a-ad6b-1b6f9858c238",
   "metadata": {},
   "outputs": [],
   "source": [
    "# For Loop"
   ]
  },
  {
   "cell_type": "code",
   "execution_count": null,
   "id": "f8534c25-e198-4797-ba1b-1f2b0f4c99f2",
   "metadata": {},
   "outputs": [],
   "source": [
    "# For loop with a list\n",
    "fruits = [\"apple\", \"banana\", \"cherry\"]\n",
    "for fruit in fruits:\n",
    "    print(fruit)\n",
    "\n",
    "# For loop with a dictionary\n",
    "person = {\"name\": \"Alice\", \"age\": 31, \"city\": \"New York\"}\n",
    "for key, value in person.items():\n",
    "    print(f\"{key}: {value}\")\n",
    "\n",
    "# For loop with a tuple\n",
    "coordinates = (10, 20, 30)\n",
    "for coordinate in coordinates:\n",
    "    print(coordinate)\n",
    "\n",
    "# For loop with a set\n",
    "numbers = {1, 2, 3, 4, 5}\n",
    "for number in numbers:\n",
    "    print(number)"
   ]
  },
  {
   "cell_type": "code",
   "execution_count": null,
   "id": "9030b2e4-dd92-4df7-9ce8-f2a097431a5c",
   "metadata": {},
   "outputs": [],
   "source": [
    "# Basic if, elif, and else Statements"
   ]
  },
  {
   "cell_type": "code",
   "execution_count": null,
   "id": "20cf2add-4c86-40e7-8846-bcffbc9063a5",
   "metadata": {},
   "outputs": [],
   "source": [
    "temperature = 25\n",
    "\n",
    "if temperature > 30:\n",
    "    print(\"It's a hot day.\")\n",
    "elif temperature > 20:\n",
    "    print(\"It's a warm day.\")\n",
    "else:\n",
    "    print(\"It's a cool day.\")"
   ]
  },
  {
   "cell_type": "code",
   "execution_count": null,
   "id": "78e5f3eb-379d-4d7e-a8ee-7f62cd8cc6ed",
   "metadata": {},
   "outputs": [],
   "source": [
    "# While Loop"
   ]
  },
  {
   "cell_type": "code",
   "execution_count": null,
   "id": "0a481911-9e6e-4790-b6d1-09c8b9170f96",
   "metadata": {},
   "outputs": [],
   "source": [
    "# While loop example\n",
    "count = 0\n",
    "while count < 5:\n",
    "    print(count)\n",
    "    count += 1\n",
    "\n",
    "# Using a while loop with lists\n",
    "fruits = [\"apple\", \"banana\", \"cherry\"]\n",
    "index = 0\n",
    "while index < len(fruits):\n",
    "    print(fruits[index])\n",
    "    index += 1"
   ]
  },
  {
   "cell_type": "code",
   "execution_count": null,
   "id": "1a609eb8-c61f-4b7f-a442-6e8ea029aeeb",
   "metadata": {},
   "outputs": [],
   "source": [
    "# Loop Control Statements"
   ]
  },
  {
   "cell_type": "code",
   "execution_count": null,
   "id": "dfe84b22-2fef-4c81-a36a-7a2476527f41",
   "metadata": {},
   "outputs": [],
   "source": [
    "# Break statement\n",
    "for i in range(5):\n",
    "    if i == 3:\n",
    "        break\n",
    "    print(i)\n",
    "\n",
    "# Continue statement\n",
    "for i in range(5):\n",
    "    if i == 3:\n",
    "        continue\n",
    "    print(i)\n",
    "\n",
    "# Else statement with loops\n",
    "for i in range(3):\n",
    "    print(i)\n",
    "else:\n",
    "    print(\"Loop completed.\")"
   ]
  },
  {
   "cell_type": "code",
   "execution_count": null,
   "id": "fc14d355-b441-4422-9b8a-908d95ecfd3e",
   "metadata": {},
   "outputs": [],
   "source": [
    "# Nested Conditions"
   ]
  },
  {
   "cell_type": "code",
   "execution_count": null,
   "id": "6cc1fe8d-5d07-4802-bda7-3d3ecdcd2d22",
   "metadata": {},
   "outputs": [],
   "source": [
    "age = 25\n",
    "membership = True\n",
    "\n",
    "# Nested conditional statements\n",
    "if age >= 18:\n",
    "    if membership:\n",
    "        print(\"You have access to the members-only area.\")\n",
    "    else:\n",
    "        print(\"You need a membership to access this area.\")\n",
    "else:\n",
    "    print(\"You must be at least 18 years old.\")"
   ]
  },
  {
   "cell_type": "code",
   "execution_count": null,
   "id": "874fa599-a86c-4488-9c32-9fb842e2aa8b",
   "metadata": {},
   "outputs": [],
   "source": []
  },
  {
   "cell_type": "code",
   "execution_count": null,
   "id": "e1bde7a3-6d85-4f78-8e45-b8afdfe1ca6d",
   "metadata": {},
   "outputs": [],
   "source": []
  },
  {
   "cell_type": "code",
   "execution_count": null,
   "id": "2b19d86d-1f12-4c0a-963b-acb00f5ca6e8",
   "metadata": {},
   "outputs": [],
   "source": []
  },
  {
   "cell_type": "code",
   "execution_count": null,
   "id": "728bc907-4120-4255-bb3f-1fe8a8ae1670",
   "metadata": {},
   "outputs": [],
   "source": []
  }
 ],
 "metadata": {
  "kernelspec": {
   "display_name": "Python 3 (ipykernel)",
   "language": "python",
   "name": "python3"
  },
  "language_info": {
   "codemirror_mode": {
    "name": "ipython",
    "version": 3
   },
   "file_extension": ".py",
   "mimetype": "text/x-python",
   "name": "python",
   "nbconvert_exporter": "python",
   "pygments_lexer": "ipython3",
   "version": "3.12.4"
  }
 },
 "nbformat": 4,
 "nbformat_minor": 5
}
